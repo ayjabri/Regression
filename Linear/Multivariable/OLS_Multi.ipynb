{
 "cells": [
  {
   "cell_type": "markdown",
   "metadata": {},
   "source": [
    "# Introduction:\n",
    "\n",
    "This notebook is a practical example of the steps taken in multivariate linear regression. I tried to be as generic as possible, but in reality every dataset is unique and requires slightly different treatment. If you noticed any missing or unnecessary steps don't hesitate to leave a comment :) \n",
    "\n",
    "Let's denote the dependent variable as $Y$, and the independent variables (features) $X ~ (x_1, x_2\\dots x_n)$.  \n",
    " \n",
    "\n",
    "# 1. Ask the Right Question:\n",
    "   \n",
    "First and formost is to state the objective of the analysis and be very clear about it. Here we're building a model to predict the price of used BMW given a list of features (age, mileage, color...etc)  \n",
    "Let's begin by importing the libraries needed. I keept the libraries in `txt` file so the notebook is tidy!"
   ]
  },
  {
   "cell_type": "code",
   "execution_count": 1,
   "metadata": {},
   "outputs": [],
   "source": [
    "with open('requirements.txt','r') as file:\n",
    "    req = file.read()\n",
    "exec(req)"
   ]
  },
  {
   "cell_type": "code",
   "execution_count": 2,
   "metadata": {},
   "outputs": [],
   "source": [
    "%matplotlib inline"
   ]
  },
  {
   "cell_type": "markdown",
   "metadata": {},
   "source": [
    "# 2. Read & Clean Data:\n",
    "The second step is gather data. But in our case we're using a ready multivariate dataset that contains selling prices of +4800 used BMW cars and their models, mileage, color, fuel type...etc\n"
   ]
  },
  {
   "cell_type": "code",
   "execution_count": 3,
   "metadata": {
    "scrolled": true
   },
   "outputs": [
    {
     "data": {
      "text/html": [
       "<div>\n",
       "<style scoped>\n",
       "    .dataframe tbody tr th:only-of-type {\n",
       "        vertical-align: middle;\n",
       "    }\n",
       "\n",
       "    .dataframe tbody tr th {\n",
       "        vertical-align: top;\n",
       "    }\n",
       "\n",
       "    .dataframe thead th {\n",
       "        text-align: right;\n",
       "    }\n",
       "</style>\n",
       "<table border=\"1\" class=\"dataframe\">\n",
       "  <thead>\n",
       "    <tr style=\"text-align: right;\">\n",
       "      <th></th>\n",
       "      <th>maker_key</th>\n",
       "      <th>model_key</th>\n",
       "      <th>mileage</th>\n",
       "      <th>engine_power</th>\n",
       "      <th>registration_date</th>\n",
       "      <th>fuel</th>\n",
       "      <th>paint_color</th>\n",
       "      <th>car_type</th>\n",
       "      <th>feature_1</th>\n",
       "      <th>feature_2</th>\n",
       "      <th>feature_3</th>\n",
       "      <th>feature_4</th>\n",
       "      <th>feature_5</th>\n",
       "      <th>feature_6</th>\n",
       "      <th>feature_7</th>\n",
       "      <th>feature_8</th>\n",
       "      <th>price</th>\n",
       "      <th>sold_at</th>\n",
       "    </tr>\n",
       "  </thead>\n",
       "  <tbody>\n",
       "    <tr>\n",
       "      <th>0</th>\n",
       "      <td>BMW</td>\n",
       "      <td>118</td>\n",
       "      <td>140411</td>\n",
       "      <td>100</td>\n",
       "      <td>2012-02-01</td>\n",
       "      <td>diesel</td>\n",
       "      <td>black</td>\n",
       "      <td>convertible</td>\n",
       "      <td>True</td>\n",
       "      <td>True</td>\n",
       "      <td>False</td>\n",
       "      <td>False</td>\n",
       "      <td>True</td>\n",
       "      <td>True</td>\n",
       "      <td>True</td>\n",
       "      <td>False</td>\n",
       "      <td>11300</td>\n",
       "      <td>2018-01-01</td>\n",
       "    </tr>\n",
       "    <tr>\n",
       "      <th>1</th>\n",
       "      <td>BMW</td>\n",
       "      <td>M4</td>\n",
       "      <td>13929</td>\n",
       "      <td>317</td>\n",
       "      <td>2016-04-01</td>\n",
       "      <td>petrol</td>\n",
       "      <td>grey</td>\n",
       "      <td>convertible</td>\n",
       "      <td>True</td>\n",
       "      <td>True</td>\n",
       "      <td>False</td>\n",
       "      <td>False</td>\n",
       "      <td>False</td>\n",
       "      <td>True</td>\n",
       "      <td>True</td>\n",
       "      <td>True</td>\n",
       "      <td>69700</td>\n",
       "      <td>2018-02-01</td>\n",
       "    </tr>\n",
       "    <tr>\n",
       "      <th>2</th>\n",
       "      <td>BMW</td>\n",
       "      <td>320</td>\n",
       "      <td>183297</td>\n",
       "      <td>120</td>\n",
       "      <td>2012-04-01</td>\n",
       "      <td>diesel</td>\n",
       "      <td>white</td>\n",
       "      <td>convertible</td>\n",
       "      <td>False</td>\n",
       "      <td>False</td>\n",
       "      <td>False</td>\n",
       "      <td>False</td>\n",
       "      <td>True</td>\n",
       "      <td>False</td>\n",
       "      <td>True</td>\n",
       "      <td>False</td>\n",
       "      <td>10200</td>\n",
       "      <td>2018-02-01</td>\n",
       "    </tr>\n",
       "  </tbody>\n",
       "</table>\n",
       "</div>"
      ],
      "text/plain": [
       "  maker_key model_key  mileage  engine_power registration_date    fuel  \\\n",
       "0       BMW       118   140411           100        2012-02-01  diesel   \n",
       "1       BMW        M4    13929           317        2016-04-01  petrol   \n",
       "2       BMW       320   183297           120        2012-04-01  diesel   \n",
       "\n",
       "  paint_color     car_type  feature_1  feature_2  feature_3  feature_4  \\\n",
       "0       black  convertible       True       True      False      False   \n",
       "1        grey  convertible       True       True      False      False   \n",
       "2       white  convertible      False      False      False      False   \n",
       "\n",
       "   feature_5  feature_6  feature_7  feature_8  price    sold_at  \n",
       "0       True       True       True      False  11300 2018-01-01  \n",
       "1      False       True       True       True  69700 2018-02-01  \n",
       "2       True      False       True      False  10200 2018-02-01  "
      ]
     },
     "execution_count": 3,
     "metadata": {},
     "output_type": "execute_result"
    }
   ],
   "source": [
    "filename = 'bmw_pricing_challenge.csv'\n",
    "dirname = '.'\n",
    "\n",
    "df = pd.read_csv(os.path.join(dirname, filename), parse_dates=['registration_date','sold_at'])\n",
    "df.head(3)"
   ]
  },
  {
   "cell_type": "markdown",
   "metadata": {},
   "source": [
    "## 2.1 Examin data types & corrupt data:\n",
    "\n",
    "Looking at the table above I noticed the following:\n",
    "- There are 12 categorical variable and 3 continuous (including dependent variable)\n",
    "- We can calculate the age of each car at time of sale from the two date fields `registration_date` and `sold_at`\n",
    "- I think car's model is relevant when it comes to predicting price. But `model_key` column has way too many categories, so I'm going to combine them into fewer values in a new field using BMW series model."
   ]
  },
  {
   "cell_type": "code",
   "execution_count": 4,
   "metadata": {
    "scrolled": true
   },
   "outputs": [],
   "source": [
    "#Calculate age ~ the time in years between registering the car and selling it\n",
    "df['age'] = (df.sold_at - df.registration_date).dt.days / 365\n",
    "\n",
    "\n",
    "#Assign categorical variables\n",
    "cat_cols = ['model_key', 'fuel','paint_color','car_type',\n",
    "            'feature_1','feature_2','feature_3','feature_4',\n",
    "            'feature_5','feature_6','feature_7','feature_8']\n",
    "cont_cols = ['mileage','engine_power','price','age']"
   ]
  },
  {
   "cell_type": "markdown",
   "metadata": {},
   "source": [
    "The next step is to examin the continuous $X$ and $Y$ variables:"
   ]
  },
  {
   "cell_type": "code",
   "execution_count": 5,
   "metadata": {},
   "outputs": [
    {
     "data": {
      "text/html": [
       "<div>\n",
       "<style scoped>\n",
       "    .dataframe tbody tr th:only-of-type {\n",
       "        vertical-align: middle;\n",
       "    }\n",
       "\n",
       "    .dataframe tbody tr th {\n",
       "        vertical-align: top;\n",
       "    }\n",
       "\n",
       "    .dataframe thead th {\n",
       "        text-align: right;\n",
       "    }\n",
       "</style>\n",
       "<table border=\"1\" class=\"dataframe\">\n",
       "  <thead>\n",
       "    <tr style=\"text-align: right;\">\n",
       "      <th></th>\n",
       "      <th>mileage</th>\n",
       "      <th>engine_power</th>\n",
       "      <th>price</th>\n",
       "      <th>age</th>\n",
       "    </tr>\n",
       "  </thead>\n",
       "  <tbody>\n",
       "    <tr>\n",
       "      <th>count</th>\n",
       "      <td>4.843000e+03</td>\n",
       "      <td>4843.00000</td>\n",
       "      <td>4843.000000</td>\n",
       "      <td>4843.000000</td>\n",
       "    </tr>\n",
       "    <tr>\n",
       "      <th>mean</th>\n",
       "      <td>1.409628e+05</td>\n",
       "      <td>128.98823</td>\n",
       "      <td>15828.081767</td>\n",
       "      <td>5.434862</td>\n",
       "    </tr>\n",
       "    <tr>\n",
       "      <th>std</th>\n",
       "      <td>6.019674e+04</td>\n",
       "      <td>38.99336</td>\n",
       "      <td>9220.285684</td>\n",
       "      <td>2.540489</td>\n",
       "    </tr>\n",
       "    <tr>\n",
       "      <th>min</th>\n",
       "      <td>-6.400000e+01</td>\n",
       "      <td>0.00000</td>\n",
       "      <td>100.000000</td>\n",
       "      <td>0.589041</td>\n",
       "    </tr>\n",
       "    <tr>\n",
       "      <th>25%</th>\n",
       "      <td>1.029135e+05</td>\n",
       "      <td>100.00000</td>\n",
       "      <td>10800.000000</td>\n",
       "      <td>4.079452</td>\n",
       "    </tr>\n",
       "    <tr>\n",
       "      <th>50%</th>\n",
       "      <td>1.410800e+05</td>\n",
       "      <td>120.00000</td>\n",
       "      <td>14200.000000</td>\n",
       "      <td>4.835616</td>\n",
       "    </tr>\n",
       "    <tr>\n",
       "      <th>75%</th>\n",
       "      <td>1.751955e+05</td>\n",
       "      <td>135.00000</td>\n",
       "      <td>18600.000000</td>\n",
       "      <td>5.835616</td>\n",
       "    </tr>\n",
       "    <tr>\n",
       "      <th>max</th>\n",
       "      <td>1.000376e+06</td>\n",
       "      <td>423.00000</td>\n",
       "      <td>178500.000000</td>\n",
       "      <td>28.104110</td>\n",
       "    </tr>\n",
       "  </tbody>\n",
       "</table>\n",
       "</div>"
      ],
      "text/plain": [
       "            mileage  engine_power          price          age\n",
       "count  4.843000e+03    4843.00000    4843.000000  4843.000000\n",
       "mean   1.409628e+05     128.98823   15828.081767     5.434862\n",
       "std    6.019674e+04      38.99336    9220.285684     2.540489\n",
       "min   -6.400000e+01       0.00000     100.000000     0.589041\n",
       "25%    1.029135e+05     100.00000   10800.000000     4.079452\n",
       "50%    1.410800e+05     120.00000   14200.000000     4.835616\n",
       "75%    1.751955e+05     135.00000   18600.000000     5.835616\n",
       "max    1.000376e+06     423.00000  178500.000000    28.104110"
      ]
     },
     "execution_count": 5,
     "metadata": {},
     "output_type": "execute_result"
    }
   ],
   "source": [
    "df[cont_cols].describe()"
   ]
  },
  {
   "cell_type": "markdown",
   "metadata": {},
   "source": [
    "Right off the bat, mileage cannot be negative and engine power can't be zero! So let's fix them assuming they're data gathering errors \n"
   ]
  },
  {
   "cell_type": "code",
   "execution_count": 6,
   "metadata": {},
   "outputs": [],
   "source": [
    "# change the sign of mileage to positive\n",
    "\n",
    "df.mileage = df.mileage.apply(lambda x: abs(x))"
   ]
  },
  {
   "cell_type": "code",
   "execution_count": 7,
   "metadata": {},
   "outputs": [
    {
     "data": {
      "text/html": [
       "<div>\n",
       "<style scoped>\n",
       "    .dataframe tbody tr th:only-of-type {\n",
       "        vertical-align: middle;\n",
       "    }\n",
       "\n",
       "    .dataframe tbody tr th {\n",
       "        vertical-align: top;\n",
       "    }\n",
       "\n",
       "    .dataframe thead th {\n",
       "        text-align: right;\n",
       "    }\n",
       "</style>\n",
       "<table border=\"1\" class=\"dataframe\">\n",
       "  <thead>\n",
       "    <tr style=\"text-align: right;\">\n",
       "      <th></th>\n",
       "      <th>maker_key</th>\n",
       "      <th>model_key</th>\n",
       "      <th>mileage</th>\n",
       "      <th>engine_power</th>\n",
       "      <th>registration_date</th>\n",
       "      <th>fuel</th>\n",
       "      <th>paint_color</th>\n",
       "      <th>car_type</th>\n",
       "      <th>feature_1</th>\n",
       "      <th>feature_2</th>\n",
       "      <th>feature_3</th>\n",
       "      <th>feature_4</th>\n",
       "      <th>feature_5</th>\n",
       "      <th>feature_6</th>\n",
       "      <th>feature_7</th>\n",
       "      <th>feature_8</th>\n",
       "      <th>price</th>\n",
       "      <th>sold_at</th>\n",
       "      <th>age</th>\n",
       "    </tr>\n",
       "  </thead>\n",
       "  <tbody>\n",
       "    <tr>\n",
       "      <th>3765</th>\n",
       "      <td>BMW</td>\n",
       "      <td>X1</td>\n",
       "      <td>81770</td>\n",
       "      <td>0</td>\n",
       "      <td>2014-10-01</td>\n",
       "      <td>diesel</td>\n",
       "      <td>white</td>\n",
       "      <td>suv</td>\n",
       "      <td>False</td>\n",
       "      <td>False</td>\n",
       "      <td>False</td>\n",
       "      <td>False</td>\n",
       "      <td>False</td>\n",
       "      <td>False</td>\n",
       "      <td>False</td>\n",
       "      <td>False</td>\n",
       "      <td>11700</td>\n",
       "      <td>2018-03-01</td>\n",
       "      <td>3.416438</td>\n",
       "    </tr>\n",
       "  </tbody>\n",
       "</table>\n",
       "</div>"
      ],
      "text/plain": [
       "     maker_key model_key  mileage  engine_power registration_date    fuel  \\\n",
       "3765       BMW        X1    81770             0        2014-10-01  diesel   \n",
       "\n",
       "     paint_color car_type  feature_1  feature_2  feature_3  feature_4  \\\n",
       "3765       white      suv      False      False      False      False   \n",
       "\n",
       "      feature_5  feature_6  feature_7  feature_8  price    sold_at       age  \n",
       "3765      False      False      False      False  11700 2018-03-01  3.416438  "
      ]
     },
     "execution_count": 7,
     "metadata": {},
     "output_type": "execute_result"
    }
   ],
   "source": [
    "# fix the record with zero engine horse power\n",
    "df[df.engine_power <=0]"
   ]
  },
  {
   "cell_type": "code",
   "execution_count": 8,
   "metadata": {},
   "outputs": [],
   "source": [
    "# replace zero engine power with the median of car\n",
    "df.engine_power[df.engine_power==0] = \\\n",
    "df[(df.model_key =='X1')&(df.fuel =='diesel')&(df.age < 3.5)].engine_power.median()"
   ]
  },
  {
   "cell_type": "code",
   "execution_count": 9,
   "metadata": {},
   "outputs": [
    {
     "name": "stdout",
     "output_type": "stream",
     "text": [
      "maker_key            0\n",
      "model_key            0\n",
      "mileage              0\n",
      "engine_power         0\n",
      "registration_date    0\n",
      "fuel                 0\n",
      "paint_color          0\n",
      "car_type             0\n",
      "feature_1            0\n",
      "feature_2            0\n",
      "feature_3            0\n",
      "feature_4            0\n",
      "feature_5            0\n",
      "feature_6            0\n",
      "feature_7            0\n",
      "feature_8            0\n",
      "price                0\n",
      "sold_at              0\n",
      "age                  0\n",
      "dtype: int64\n"
     ]
    }
   ],
   "source": [
    "# check if there is any N/As in the dataset\n",
    "print(df.isna().sum())"
   ]
  },
  {
   "cell_type": "markdown",
   "metadata": {},
   "source": [
    "**Conclusion:** No N/As to worry about.\n",
    "\n",
    "## 2.2 Outliers\n",
    "\n",
    "Sometimes outliers are bad data that you must get rid of, and sometimes they're Michael Jordan or Shaquille O'Neal and you should keep. Either way, outliers must be identified before dealing with them.  \n",
    "The two most common definitions of outliers are: \n",
    "1. Observations that are more than 3 standard deviations away from the mean.\n",
    "2. Observations that are more than 1.5 * Inter-Quartile-Range (IQR) below/above the 25th/75th percentiles (ends of the boxplot).\n",
    "\n",
    "Current data contains one continuous and one categorical (discrete) variables. So a simple boxplot should reveal any outliers.  \n",
    "\n",
    "**More on outliers detection**   \n",
    "The most common tecniques used to identify outliers by data types is:  \n",
    "- Univariate data -> boxplot. outside of 1.5 times inter-quartile range is an outlier.  \n",
    "- Bivariate -> scatterplot with confidence ellipse. outside of, say, 95% confidence ellipse is an outlier.  \n",
    "- Multivariate -> Mahalanobis D2 distance   \n",
    "\n",
    "Once defined, mark those observations as outliers. Then run a logistic regression to see if there are any systematic patterns. "
   ]
  },
  {
   "cell_type": "code",
   "execution_count": 10,
   "metadata": {},
   "outputs": [
    {
     "data": {
      "text/html": [
       "<iframe\n",
       "    scrolling=\"no\"\n",
       "    width=\"100%\"\n",
       "    height=\"545px\"\n",
       "    src=\"iframe_figures/figure_10.html\"\n",
       "    frameborder=\"0\"\n",
       "    allowfullscreen\n",
       "></iframe>\n"
      ]
     },
     "metadata": {},
     "output_type": "display_data"
    }
   ],
   "source": [
    "# We only examin outliers in continuous variables\n",
    "fig = px.box(df[cont_cols].melt(var_name='variable'),\n",
    "             color='variable',\n",
    "             facet_col='variable',\n",
    "             boxmode='overlay')\n",
    "fig.update_yaxes(matches=None)\n",
    "fig.show()"
   ]
  },
  {
   "cell_type": "markdown",
   "metadata": {},
   "source": [
    "**Conclusion:**\n",
    "There are clearly some outliers in $X$ and $Y$, but at this point I'm going to leave them as is. Because they appear to be extreme readings. I will revisit this assumption after building the model though \n",
    "\n",
    "## 2.3 Imbalances:\n",
    "\n",
    "In general, having balanced data results in higher accuracy models. An underrepresented group can lead to an insignificant coefficient.  \n",
    "This is true for all regression types and machine learning algorithms. "
   ]
  },
  {
   "cell_type": "code",
   "execution_count": 11,
   "metadata": {},
   "outputs": [
    {
     "data": {
      "text/html": [
       "<iframe\n",
       "    scrolling=\"no\"\n",
       "    width=\"100%\"\n",
       "    height=\"545px\"\n",
       "    src=\"iframe_figures/figure_11.html\"\n",
       "    frameborder=\"0\"\n",
       "    allowfullscreen\n",
       "></iframe>\n"
      ]
     },
     "metadata": {},
     "output_type": "display_data"
    }
   ],
   "source": [
    "fig = go.Figure()\n",
    "for col in cat_cols:\n",
    "    d = df.groupby(col).size().to_frame(col).T\n",
    "    f = px.bar(d, orientation='h')\n",
    "    for o in f.data:\n",
    "        fig.add_trace(o)\n",
    "fig.update_layout(showlegend=False, barmode='stack', title='Distribution of Data across Categorical Variables')\n",
    "fig.show()"
   ]
  },
  {
   "cell_type": "markdown",
   "metadata": {},
   "source": [
    "Bar plots across categorical variables reveal some underrepresented categories. An obvious example is the small number of petrol and electric cars vs. diesel, which doesn't represent the population!  \n",
    "Another example is the imbalance between `paint_color` sub-categories. This is justifiable because some car colors are more popular. Same goes for `key_model` and `car_type` (Convertable, Coupe, subcompacts, and vans)    \n",
    "\n",
    "\n",
    "**Conclusion**  \n",
    "Sample data should reflect the population irrespective of how extreme we perceive it. It should also make economic sense! \n",
    "One of the consequences is ending up with insignificant coefficients. That said, I'm going to merge the underrepresented categories to make a more readable model, and to avoid failing coefficient *t-test*."
   ]
  },
  {
   "cell_type": "code",
   "execution_count": 12,
   "metadata": {},
   "outputs": [],
   "source": [
    "# Roll up model_key into model by series\n",
    "df['model'] = 'Other'\n",
    "for i in range(1,8):\n",
    "    idx = df[df.model_key.str.startswith(str(i))].index\n",
    "    df.model.loc[idx] = str(i) + ' series'\n",
    "cat_cols.append('model')\n",
    "\n",
    "# Merge minority colors\n",
    "df['color'] = np.where(df.paint_color.isin(['beige','green','orange','red']), 'other', df.paint_color)\n",
    "cat_cols.remove('paint_color')\n",
    "cat_cols.append('color')\n",
    "# Drop electric and hybrid cars\n",
    "\n",
    "df.drop(index=df[df.fuel.isin(['hybrid_petrol','electro'])].index, inplace=True)\n",
    "df.reset_index(drop=True, inplace=True)"
   ]
  },
  {
   "cell_type": "code",
   "execution_count": 13,
   "metadata": {},
   "outputs": [
    {
     "data": {
      "text/html": [
       "<iframe\n",
       "    scrolling=\"no\"\n",
       "    width=\"100%\"\n",
       "    height=\"545px\"\n",
       "    src=\"iframe_figures/figure_13.html\"\n",
       "    frameborder=\"0\"\n",
       "    allowfullscreen\n",
       "></iframe>\n"
      ]
     },
     "metadata": {},
     "output_type": "display_data"
    }
   ],
   "source": [
    "fig = go.Figure()\n",
    "cat_cols.remove('model_key')\n",
    "for col in cat_cols:\n",
    "    d = df.groupby(col).size().to_frame(col).T\n",
    "    f = px.bar(d, orientation='h')\n",
    "    for o in f.data:\n",
    "        fig.add_trace(o)\n",
    "fig.update_layout(showlegend=False, barmode='stack', title='Distribution of Data across Categorical Variables')\n",
    "fig.show()"
   ]
  },
  {
   "cell_type": "markdown",
   "metadata": {},
   "source": [
    "## 2.4 Relationship between Variables\n",
    "To examin the relationship between varaibles we can:\n",
    "1. scatter plot them against each other\n",
    "2. heatmap the correlation between them\n",
    "So let's do that:"
   ]
  },
  {
   "cell_type": "code",
   "execution_count": 14,
   "metadata": {},
   "outputs": [],
   "source": [
    "# scatter = ff.create_scatterplotmatrix(df[cont_cols],\n",
    "#                                       diag='histogram',\n",
    "#                                       height=900, width=900,\n",
    "#                                       title='BMW Scatter Plot')\n",
    "# scatter.show()"
   ]
  },
  {
   "cell_type": "code",
   "execution_count": 15,
   "metadata": {},
   "outputs": [
    {
     "data": {
      "image/png": "[encoded data removed]",
      "text/plain": [
       "<Figure size 864x864 with 16 Axes>"
      ]
     },
     "metadata": {
      "needs_background": "light"
     },
     "output_type": "display_data"
    }
   ],
   "source": [
    "pd.plotting.scatter_matrix(df[cont_cols], figsize=(12,12));"
   ]
  },
  {
   "cell_type": "code",
   "execution_count": 16,
   "metadata": {},
   "outputs": [
    {
     "data": {
      "image/png": "[encoded data removed]",
      "text/plain": [
       "<Figure size 432x288 with 2 Axes>"
      ]
     },
     "metadata": {
      "needs_background": "light"
     },
     "output_type": "display_data"
    }
   ],
   "source": [
    "mask = np.ones_like(df[cont_cols].corr(), dtype=bool)\n",
    "mask[np.tril_indices_from(mask)] = False\n",
    "sns.heatmap(df[cont_cols].corr(), annot=True, mask=mask, annot_kws=dict(fontsize=12));"
   ]
  },
  {
   "cell_type": "markdown",
   "metadata": {},
   "source": [
    "**Conclusion**:  \n",
    "1. None of of the continuous variables is normally distributed. Therefor, I don't expect the residuals to be normally distributed (not without transforming variables that is)\n",
    "2. There appears to be negative relationships between `price` and each of `mileage`, `age`, albeit not stright lines! This is confimred by their moderate negative correlation of `-0.41` and `-0.45` respectively.\n",
    "\n",
    "3. Engine power and price have moderate positive relationship that appears to be linear. This makes economic sense since higher engine power is indicative of more expensive sport or luxury models.\n",
    "4. There's a moderate positive correlation between the explanatory variables `age` and `mileage`. This make sense as we expect older cars to have more mileage. This is something to keep an eye on when testing/correcting multicollinearity"
   ]
  },
  {
   "cell_type": "markdown",
   "metadata": {},
   "source": [
    "\n",
    "# 3. Analyzing Data\n",
    "\n",
    "This step should answer the question in step (1).i.e. predict BMW cars' prices given a set of their specifications and features. \n",
    "\n",
    "### 3.2 Pre-Processing\n",
    "#### 3.2.1 Split Data\n",
    "\n",
    "It's standard practice to split the data into training and test sets to see how the model behaves when presented with data it hasn't seen. "
   ]
  },
  {
   "cell_type": "code",
   "execution_count": 17,
   "metadata": {},
   "outputs": [
    {
     "name": "stdout",
     "output_type": "stream",
     "text": [
      "Size of training set:3624, size of test set: 1208\n",
      "\n"
     ]
    }
   ],
   "source": [
    "# Split the data into train and test sets\n",
    "\n",
    "train_idx, test_idx = train_test_split(df.index, test_size=.25)\n",
    "df_train = df.iloc[train_idx].reset_index(drop=True)\n",
    "df_test = df.iloc[test_idx].reset_index(drop=True)\n",
    "\n",
    "print(f'Size of training set:{len(df_train)}, size of test set: {len(df_test)}\\n')"
   ]
  },
  {
   "cell_type": "markdown",
   "metadata": {},
   "source": [
    "#### 3.2.2 Normalize data (optional)\n",
    "Normalizing data improves numerical stability and produces cleaner results. It doesn't improve accuracy or prediction power though"
   ]
  },
  {
   "cell_type": "code",
   "execution_count": 18,
   "metadata": {},
   "outputs": [],
   "source": [
    "# Scale the data (optional)\n",
    "\n",
    "from sklearn.preprocessing import MinMaxScaler\n",
    "cont_x = ['mileage','engine_power','age']\n",
    "scalar = MinMaxScaler()\n",
    "scalar.fit(df[cont_x])\n",
    "dfc = df.copy()\n",
    "dfc[cont_x] = scalar.transform(dfc[cont_x])\n",
    "\n",
    "dfc_train = dfc.iloc[train_idx].reset_index(drop=True)\n",
    "dfc_test = dfc.iloc[test_idx].reset_index(drop=True)"
   ]
  },
  {
   "cell_type": "markdown",
   "metadata": {},
   "source": [
    "#### 3.2.3 Predictor function\n",
    "It's more convenient to write a function to return $R^2$ of test data"
   ]
  },
  {
   "cell_type": "code",
   "execution_count": 19,
   "metadata": {},
   "outputs": [],
   "source": [
    "def pred(res, x, y, log=False):\n",
    "    y_hat = res.predict(x)\n",
    "    if log:\n",
    "        y_hat = np.exp(y_hat)\n",
    "    r2 = r2_score(y,y_hat)\n",
    "    print(f'R-squared: {r2:.2f}')"
   ]
  },
  {
   "cell_type": "markdown",
   "metadata": {},
   "source": [
    "### 3.3 Model Selection\n",
    "The most challenging step in any analysis is specifying the model to use; is it linear, log-linear, quadratic or non-linear!? Which variables to omit and which to transform! What kind of transformation (polynomial, log)...etc.   \n",
    "When it comes to model selection keep in mind that the model's job is to approximate, and not perfectly represent reality. So keep it simple, but not too simple! \n",
    "You must be able to explain the relationship in terms of how a unit increase in $X_i$ changes $Y$. And explain the economic sense of the model and how it adheres to its assumptions.  \n",
    "\n",
    "#### 3.3.1 Manual  approach\n",
    "It's always good to examin the scatter plot and correlation matrix first to get a sense of the relationship between variables. From there write down an initial formula for the model, and build on it. "
   ]
  },
  {
   "cell_type": "code",
   "execution_count": 61,
   "metadata": {
    "scrolled": false
   },
   "outputs": [
    {
     "name": "stdout",
     "output_type": "stream",
     "text": [
      "                            OLS Regression Results                            \n",
      "==============================================================================\n",
      "Dep. Variable:          np.log(price)   R-squared:                       0.703\n",
      "Model:                            OLS   Adj. R-squared:                  0.701\n",
      "Method:                 Least Squares   F-statistic:                     315.2\n",
      "Date:                Fri, 12 Nov 2021   Prob (F-statistic):               0.00\n",
      "Time:                        15:19:03   Log-Likelihood:                -1341.8\n",
      "No. Observations:                3624   AIC:                             2740.\n",
      "Df Residuals:                    3596   BIC:                             2913.\n",
      "Df Model:                          27                                         \n",
      "Covariance Type:            nonrobust                                         \n",
      "========================================================================================\n",
      "                           coef    std err          t      P>|t|      [0.025      0.975]\n",
      "----------------------------------------------------------------------------------------\n",
      "Intercept                9.1713      0.047    194.560      0.000       9.079       9.264\n",
      "model[T.2 series]        0.0005      0.062      0.009      0.993      -0.121       0.122\n",
      "model[T.3 series]        0.0726      0.021      3.412      0.001       0.031       0.114\n",
      "model[T.4 series]        0.2990      0.045      6.605      0.000       0.210       0.388\n",
      "model[T.5 series]        0.1874      0.026      7.240      0.000       0.137       0.238\n",
      "model[T.6 series]        0.4031      0.082      4.939      0.000       0.243       0.563\n",
      "model[T.7 series]        0.3824      0.064      5.974      0.000       0.257       0.508\n",
      "model[T.Other]           0.2925      0.026     11.383      0.000       0.242       0.343\n",
      "fuel[T.petrol]          -0.0195      0.033     -0.591      0.555      -0.084       0.045\n",
      "color[T.blue]           -0.0560      0.018     -3.035      0.002      -0.092      -0.020\n",
      "color[T.brown]           0.0281      0.025      1.141      0.254      -0.020       0.076\n",
      "color[T.grey]            0.0064      0.016      0.405      0.685      -0.024       0.037\n",
      "color[T.other]           0.0429      0.040      1.070      0.285      -0.036       0.122\n",
      "color[T.silver]         -0.0351      0.025     -1.428      0.153      -0.083       0.013\n",
      "color[T.white]           0.0014      0.020      0.070      0.944      -0.039       0.041\n",
      "feature_1[T.True]        0.0806      0.014      5.756      0.000       0.053       0.108\n",
      "feature_2[T.True]        0.1319      0.018      7.453      0.000       0.097       0.167\n",
      "feature_3[T.True]        0.0250      0.016      1.581      0.114      -0.006       0.056\n",
      "feature_4[T.True]        0.0772      0.019      4.062      0.000       0.040       0.114\n",
      "feature_5[T.True]        0.0824      0.014      5.929      0.000       0.055       0.110\n",
      "feature_6[T.True]        0.0675      0.015      4.576      0.000       0.039       0.096\n",
      "feature_7[T.True]        0.1146      0.027      4.230      0.000       0.061       0.168\n",
      "feature_8[T.True]        0.0985      0.014      6.839      0.000       0.070       0.127\n",
      "age                     -0.0293      0.008     -3.484      0.000      -0.046      -0.013\n",
      "np.power(age, 2)        -0.0046      0.000    -10.895      0.000      -0.005      -0.004\n",
      "mileage              -3.049e-06   2.15e-07    -14.159      0.000   -3.47e-06   -2.63e-06\n",
      "np.power(mileage, 2)  2.121e-12   4.64e-13      4.573      0.000    1.21e-12    3.03e-12\n",
      "engine_power             0.0040      0.000     18.318      0.000       0.004       0.004\n",
      "==============================================================================\n",
      "Omnibus:                     3941.877   Durbin-Watson:                   1.967\n",
      "Prob(Omnibus):                  0.000   Jarque-Bera (JB):           499717.783\n",
      "Skew:                          -5.298   Prob(JB):                         0.00\n",
      "Kurtosis:                      59.543   Cond. No.                     5.19e+11\n",
      "==============================================================================\n",
      "\n",
      "Notes:\n",
      "[1] Standard Errors assume that the covariance matrix of the errors is correctly specified.\n",
      "[2] The condition number is large, 5.19e+11. This might indicate that there are\n",
      "strong multicollinearity or other numerical problems.\n"
     ]
    }
   ],
   "source": [
    "formula_manual = '''\n",
    "np.log(price)~age+np.power(age,2)+mileage+np.power(mileage,2)+engine_power+model+fuel+color\n",
    "+feature_1+feature_2+feature_3+feature_4\n",
    "+feature_5+feature_6+feature_7+feature_8\n",
    "'''\n",
    "\n",
    "ols_manual = smf.ols(formula_manual, df_train)\n",
    "res_manual = ols_manual.fit()\n",
    "print(res_manual.summary())"
   ]
  },
  {
   "cell_type": "code",
   "execution_count": 67,
   "metadata": {},
   "outputs": [
    {
     "name": "stdout",
     "output_type": "stream",
     "text": [
      "R-squared: 0.82\n"
     ]
    }
   ],
   "source": [
    "# R2 of test-data\n",
    "\n",
    "pred(res_manual, x=df_test, y=df_test.price, log=True)"
   ]
  },
  {
   "cell_type": "markdown",
   "metadata": {},
   "source": [
    "### 3.3.1 Forward Model Selection\n",
    "Another approach is to use a *forward selection* algorithm. It applies brute force to fit all the possible combinations of variables and pick the one/s with the best metrics (AIC, BIC, R2 Adjusted ... etc.)   \n",
    "The approach is greedy by nature, which means we'll end up omitting some variables the algorithm had included!"
   ]
  },
  {
   "cell_type": "code",
   "execution_count": 44,
   "metadata": {},
   "outputs": [],
   "source": [
    "from collections import defaultdict\n",
    "from itertools import combinations\n",
    "from tqdm import tqdm\n",
    "\n",
    "class ForwardModelSelector:\n",
    "    \"\"\"\n",
    "    Ordinary Least Square forward selection algorithm. It regresses every possible combination of the \n",
    "    x_cols variables with y_col and store the metrices in summary_frame\n",
    "    \"\"\"\n",
    "    def __init__(self, x_cols , y_col, df, subset=None, metrics=['aic','bic','rsquared_adj']):\n",
    "        \"\"\"\n",
    "        x_cols: list of the independent variables\n",
    "        y_col : str represents the dependent variable or a transformation version of it. Takes np.log, center\n",
    "        or a custom function\n",
    "        df    : pandas dataframe contains x's and y\n",
    "        subset: numpy array or pandas indexes to train on subset of the data (training set)\n",
    "        metrics: list of metrics to save in summary_frame. Default is aic, bic and rsquared_adj\n",
    "        \n",
    "        \"\"\"\n",
    "        self.x_cols = x_cols\n",
    "        self.y_col = y_col\n",
    "        self.df = df\n",
    "        self.subset = subset\n",
    "        self.metrics = metrics\n",
    "        self.res = defaultdict(list)\n",
    "        self.left = str(y_col) + '~'\n",
    "        self.n = 0\n",
    "        pass\n",
    "    \n",
    "    def generate_formulas(self):\n",
    "        \"\"\"Generate a list of formulas using all possible combinations of x variables\"\"\"\n",
    "        self.formulas = []\n",
    "        for i in range(1,len(self.x_cols)):\n",
    "            self.formulas.extend(list(map(' + '.join, combinations(x_cols, r=i))))\n",
    "        pass\n",
    "    \n",
    "    def fit(self):\n",
    "        \"\"\"Regress using the repository of generated formulas and save results in dataframe\"\"\"\n",
    "        self.generate_formulas()\n",
    "        for right in tqdm(self.formulas):\n",
    "            self.n += 1\n",
    "            f_tmp = self.left + right\n",
    "            self._update_(f_tmp)\n",
    "        print(f'Finished trying {self.n} combinations')\n",
    "        self.frame = pd.DataFrame(self.res, index=self.metrics+['n_variables']).T.reset_index().rename(columns={'index':'formula'})\n",
    "    \n",
    "    def _update_(self, formula):\n",
    "        ols_tmp = smf.ols(formula, self.df, subset=self.subset).fit()\n",
    "        for m in self.metrics:\n",
    "            self.res[formula].append(getattr(ols_tmp,m))\n",
    "        self.res[formula].append(ols_tmp.model.exog.shape[1])\n",
    "        pass\n",
    "    \n",
    "    def summary_frame(self, sort_by=None, ascending=None):\n",
    "        if sort_by is None:\n",
    "            return self.frame.sort_values(self.metrics)\n",
    "        return self.frame.sort_values(sort_by, ascending=ascending)\n"
   ]
  },
  {
   "cell_type": "code",
   "execution_count": 45,
   "metadata": {},
   "outputs": [
    {
     "name": "stderr",
     "output_type": "stream",
     "text": [
      "100%|██████████| 131070/131070 [48:47<00:00, 44.77it/s]\n"
     ]
    },
    {
     "name": "stdout",
     "output_type": "stream",
     "text": [
      "Finished trying 131070 combinations\n"
     ]
    }
   ],
   "source": [
    "x_cols = ['age','np.power(age,2)','mileage','np.power(mileage,2)','engine_power'] + cat_cols\n",
    "\n",
    "m = ForwardModelSelector(x_cols, 'np.log(price)', df, subset=train_idx, metrics=['aic','bic','rsquared_adj','fvalue'])\n",
    "m.fit()"
   ]
  },
  {
   "cell_type": "markdown",
   "metadata": {},
   "source": [
    "The algorithm tried 131,070 combinations of $x$ variables, which are continuous, quadratic and categorical. Let's list the top 10 by by `rsquared_adj`, `bic` and `aic`, then one that best fits the criteria. In this case I would choose the model with the highest R-squared adjusted and lowest AIC, BIC with the least number of variables!"
   ]
  },
  {
   "cell_type": "code",
   "execution_count": 52,
   "metadata": {},
   "outputs": [
    {
     "data": {
      "text/html": [
       "<div>\n",
       "<style scoped>\n",
       "    .dataframe tbody tr th:only-of-type {\n",
       "        vertical-align: middle;\n",
       "    }\n",
       "\n",
       "    .dataframe tbody tr th {\n",
       "        vertical-align: top;\n",
       "    }\n",
       "\n",
       "    .dataframe thead th {\n",
       "        text-align: right;\n",
       "    }\n",
       "</style>\n",
       "<table border=\"1\" class=\"dataframe\">\n",
       "  <thead>\n",
       "    <tr style=\"text-align: right;\">\n",
       "      <th></th>\n",
       "      <th>formula</th>\n",
       "      <th>aic</th>\n",
       "      <th>bic</th>\n",
       "      <th>rsquared_adj</th>\n",
       "      <th>fvalue</th>\n",
       "      <th>n_variables</th>\n",
       "    </tr>\n",
       "  </thead>\n",
       "  <tbody>\n",
       "    <tr>\n",
       "      <th>131064</th>\n",
       "      <td>np.log(price)~age + np.power(age,2) + mileage ...</td>\n",
       "      <td>2588.398898</td>\n",
       "      <td>2799.040242</td>\n",
       "      <td>0.713416</td>\n",
       "      <td>274.303312</td>\n",
       "      <td>34.0</td>\n",
       "    </tr>\n",
       "    <tr>\n",
       "      <th>131060</th>\n",
       "      <td>np.log(price)~age + np.power(age,2) + mileage ...</td>\n",
       "      <td>2588.897786</td>\n",
       "      <td>2799.539130</td>\n",
       "      <td>0.713376</td>\n",
       "      <td>274.250579</td>\n",
       "      <td>34.0</td>\n",
       "    </tr>\n",
       "    <tr>\n",
       "      <th>130979</th>\n",
       "      <td>np.log(price)~age + np.power(age,2) + mileage ...</td>\n",
       "      <td>2590.022473</td>\n",
       "      <td>2794.468484</td>\n",
       "      <td>0.713209</td>\n",
       "      <td>282.559157</td>\n",
       "      <td>33.0</td>\n",
       "    </tr>\n",
       "    <tr>\n",
       "      <th>131053</th>\n",
       "      <td>np.log(price)~age + np.power(age,2) + mileage ...</td>\n",
       "      <td>2591.843239</td>\n",
       "      <td>2771.507915</td>\n",
       "      <td>0.712751</td>\n",
       "      <td>322.062101</td>\n",
       "      <td>29.0</td>\n",
       "    </tr>\n",
       "    <tr>\n",
       "      <th>130972</th>\n",
       "      <td>np.log(price)~age + np.power(age,2) + mileage ...</td>\n",
       "      <td>2592.376725</td>\n",
       "      <td>2765.846068</td>\n",
       "      <td>0.712630</td>\n",
       "      <td>333.756685</td>\n",
       "      <td>28.0</td>\n",
       "    </tr>\n",
       "    <tr>\n",
       "      <th>130938</th>\n",
       "      <td>np.log(price)~age + np.power(age,2) + mileage ...</td>\n",
       "      <td>2593.300742</td>\n",
       "      <td>2766.770085</td>\n",
       "      <td>0.712557</td>\n",
       "      <td>333.637643</td>\n",
       "      <td>28.0</td>\n",
       "    </tr>\n",
       "    <tr>\n",
       "      <th>131069</th>\n",
       "      <td>np.log(price)~np.power(age,2) + mileage + np.p...</td>\n",
       "      <td>2600.268936</td>\n",
       "      <td>2810.910281</td>\n",
       "      <td>0.712476</td>\n",
       "      <td>273.050589</td>\n",
       "      <td>34.0</td>\n",
       "    </tr>\n",
       "    <tr>\n",
       "      <th>131056</th>\n",
       "      <td>np.log(price)~age + np.power(age,2) + mileage ...</td>\n",
       "      <td>2600.299855</td>\n",
       "      <td>2810.941199</td>\n",
       "      <td>0.712473</td>\n",
       "      <td>273.047332</td>\n",
       "      <td>34.0</td>\n",
       "    </tr>\n",
       "    <tr>\n",
       "      <th>130423</th>\n",
       "      <td>np.log(price)~age + np.power(age,2) + mileage ...</td>\n",
       "      <td>2593.792856</td>\n",
       "      <td>2761.066865</td>\n",
       "      <td>0.712439</td>\n",
       "      <td>346.232864</td>\n",
       "      <td>27.0</td>\n",
       "    </tr>\n",
       "    <tr>\n",
       "      <th>131044</th>\n",
       "      <td>np.log(price)~np.power(age,2) + mileage + np.p...</td>\n",
       "      <td>2601.097611</td>\n",
       "      <td>2805.543622</td>\n",
       "      <td>0.712331</td>\n",
       "      <td>281.354536</td>\n",
       "      <td>33.0</td>\n",
       "    </tr>\n",
       "  </tbody>\n",
       "</table>\n",
       "</div>"
      ],
      "text/plain": [
       "                                                  formula          aic  \\\n",
       "131064  np.log(price)~age + np.power(age,2) + mileage ...  2588.398898   \n",
       "131060  np.log(price)~age + np.power(age,2) + mileage ...  2588.897786   \n",
       "130979  np.log(price)~age + np.power(age,2) + mileage ...  2590.022473   \n",
       "131053  np.log(price)~age + np.power(age,2) + mileage ...  2591.843239   \n",
       "130972  np.log(price)~age + np.power(age,2) + mileage ...  2592.376725   \n",
       "130938  np.log(price)~age + np.power(age,2) + mileage ...  2593.300742   \n",
       "131069  np.log(price)~np.power(age,2) + mileage + np.p...  2600.268936   \n",
       "131056  np.log(price)~age + np.power(age,2) + mileage ...  2600.299855   \n",
       "130423  np.log(price)~age + np.power(age,2) + mileage ...  2593.792856   \n",
       "131044  np.log(price)~np.power(age,2) + mileage + np.p...  2601.097611   \n",
       "\n",
       "                bic  rsquared_adj      fvalue  n_variables  \n",
       "131064  2799.040242      0.713416  274.303312         34.0  \n",
       "131060  2799.539130      0.713376  274.250579         34.0  \n",
       "130979  2794.468484      0.713209  282.559157         33.0  \n",
       "131053  2771.507915      0.712751  322.062101         29.0  \n",
       "130972  2765.846068      0.712630  333.756685         28.0  \n",
       "130938  2766.770085      0.712557  333.637643         28.0  \n",
       "131069  2810.910281      0.712476  273.050589         34.0  \n",
       "131056  2810.941199      0.712473  273.047332         34.0  \n",
       "130423  2761.066865      0.712439  346.232864         27.0  \n",
       "131044  2805.543622      0.712331  281.354536         33.0  "
      ]
     },
     "execution_count": 52,
     "metadata": {},
     "output_type": "execute_result"
    }
   ],
   "source": [
    "top = m.summary_frame(sort_by=['rsquared_adj','bic','aic'],\n",
    "                ascending=[False,True,True]).nlargest(n=10, columns='rsquared_adj')\n",
    "top"
   ]
  },
  {
   "cell_type": "markdown",
   "metadata": {},
   "source": [
    "The second to last regression seems to have the lowest nubmer of variable and almost the same $R^2$, BIC and AIC. "
   ]
  },
  {
   "cell_type": "code",
   "execution_count": 54,
   "metadata": {},
   "outputs": [
    {
     "data": {
      "text/plain": [
       "'np.log(price)~age + np.power(age,2) + mileage + np.power(mileage,2) + engine_power + car_type + feature_1 + feature_2 + feature_4 + feature_5 + feature_6 + feature_7 + feature_8 + model'"
      ]
     },
     "execution_count": 54,
     "metadata": {},
     "output_type": "execute_result"
    }
   ],
   "source": [
    "top.iloc[-2].formula"
   ]
  },
  {
   "cell_type": "code",
   "execution_count": 56,
   "metadata": {
    "scrolled": false
   },
   "outputs": [
    {
     "name": "stdout",
     "output_type": "stream",
     "text": [
      "                            OLS Regression Results                            \n",
      "==============================================================================\n",
      "Dep. Variable:          np.log(price)   R-squared:                       0.715\n",
      "Model:                            OLS   Adj. R-squared:                  0.712\n",
      "Method:                 Least Squares   F-statistic:                     346.2\n",
      "Date:                Thu, 11 Nov 2021   Prob (F-statistic):               0.00\n",
      "Time:                        17:17:19   Log-Likelihood:                -1269.9\n",
      "No. Observations:                3624   AIC:                             2594.\n",
      "Df Residuals:                    3597   BIC:                             2761.\n",
      "Df Model:                          26                                         \n",
      "Covariance Type:            nonrobust                                         \n",
      "==========================================================================================\n",
      "                             coef    std err          t      P>|t|      [0.025      0.975]\n",
      "------------------------------------------------------------------------------------------\n",
      "Intercept                  9.3982      0.080    117.271      0.000       9.241       9.555\n",
      "car_type[T.coupe]         -0.2331      0.073     -3.206      0.001      -0.376      -0.091\n",
      "car_type[T.estate]        -0.4326      0.066     -6.595      0.000      -0.561      -0.304\n",
      "car_type[T.hatchback]     -0.2394      0.066     -3.635      0.000      -0.369      -0.110\n",
      "car_type[T.sedan]         -0.2596      0.065     -3.963      0.000      -0.388      -0.131\n",
      "car_type[T.subcompact]    -0.2132      0.077     -2.784      0.005      -0.363      -0.063\n",
      "car_type[T.suv]           -0.2516      0.083     -3.021      0.003      -0.415      -0.088\n",
      "car_type[T.van]           -0.3692      0.119     -3.103      0.002      -0.602      -0.136\n",
      "feature_1[T.True]          0.0778      0.014      5.707      0.000       0.051       0.105\n",
      "feature_2[T.True]          0.1401      0.017      8.042      0.000       0.106       0.174\n",
      "feature_4[T.True]          0.0877      0.019      4.674      0.000       0.051       0.125\n",
      "feature_5[T.True]          0.0827      0.014      6.091      0.000       0.056       0.109\n",
      "feature_6[T.True]          0.0632      0.014      4.375      0.000       0.035       0.092\n",
      "feature_7[T.True]          0.1063      0.027      3.985      0.000       0.054       0.159\n",
      "feature_8[T.True]          0.0981      0.014      6.943      0.000       0.070       0.126\n",
      "model[T.2 series]          0.0836      0.110      0.761      0.447      -0.132       0.299\n",
      "model[T.3 series]          0.1912      0.031      6.254      0.000       0.131       0.251\n",
      "model[T.4 series]          0.2876      0.050      5.747      0.000       0.190       0.386\n",
      "model[T.5 series]          0.3124      0.035      8.894      0.000       0.243       0.381\n",
      "model[T.6 series]          0.4331      0.082      5.255      0.000       0.272       0.595\n",
      "model[T.7 series]          0.4374      0.068      6.452      0.000       0.304       0.570\n",
      "model[T.Other]             0.3159      0.077      4.087      0.000       0.164       0.467\n",
      "age                       -0.0310      0.008     -3.775      0.000      -0.047      -0.015\n",
      "np.power(age, 2)          -0.0048      0.000    -11.654      0.000      -0.006      -0.004\n",
      "mileage                -2.863e-06   2.11e-07    -13.560      0.000   -3.28e-06   -2.45e-06\n",
      "np.power(mileage, 2)    1.995e-12   4.56e-13      4.371      0.000     1.1e-12    2.89e-12\n",
      "engine_power               0.0040      0.000     18.184      0.000       0.004       0.004\n",
      "==============================================================================\n",
      "Omnibus:                     4038.221   Durbin-Watson:                   1.955\n",
      "Prob(Omnibus):                  0.000   Jarque-Bera (JB):           559068.024\n",
      "Skew:                          -5.500   Prob(JB):                         0.00\n",
      "Kurtosis:                      62.845   Cond. No.                     1.06e+12\n",
      "==============================================================================\n",
      "\n",
      "Notes:\n",
      "[1] Standard Errors assume that the covariance matrix of the errors is correctly specified.\n",
      "[2] The condition number is large, 1.06e+12. This might indicate that there are\n",
      "strong multicollinearity or other numerical problems.\n"
     ]
    }
   ],
   "source": [
    "ols_algo = smf.ols(top.iloc[-2].formula, data=df, subset=train_idx)\n",
    "res_algo = ols_algo.fit()\n",
    "print(res.summary())"
   ]
  },
  {
   "cell_type": "code",
   "execution_count": 65,
   "metadata": {},
   "outputs": [
    {
     "name": "stdout",
     "output_type": "stream",
     "text": [
      "R-squared: 0.82\n"
     ]
    }
   ],
   "source": [
    "# R-squared of test-data\n",
    "\n",
    "pred(res_algo, x=df_test, y=df_test.price, log=True)"
   ]
  },
  {
   "cell_type": "markdown",
   "metadata": {},
   "source": [
    "**Impression**  \n",
    "Comparing manual and systmatic models shows that forward selection has dropped `fuel` and `color` because they didn't improve its metrics. The two variables show insignificant coefficients in the manual model, so they would've been dropped if we went the manual route. \n",
    "In any event, it doesn't matter which model we initiate with. The next steps are very similar in terms of improving and validating the model  \n",
    "\n",
    "That said let's continue using the algorithmic output as our base model\n"
   ]
  },
  {
   "cell_type": "markdown",
   "metadata": {},
   "source": [
    "# 4. Validating the Model\n",
    "\n",
    "For the model to be valid it should not violate the assumptions of linear regression. aside from making enconomic sense, have significant coeffcients and acceptable metrics! In other word it must be BLUE (Best Linear Unbiased Efficient)\n",
    "\n",
    "## 4.1 Model Assumptions\n",
    "The assumptions of Multivariate Linear Regression are:\n",
    "- MR.1: The population is described by linear model $Y = X\\beta + \\epsilon$\n",
    "- MR.2: **Strict Exogeneity**: conditional expectation of error term given all observations is zero: $E(\\epsilon |X)=0$\n",
    "- MR.3: **Conditional homoskedasticity** the variance-covariance matrix of the error term conditional on X is constant\n",
    "$$Var(\\epsilon|X) =\\sigma^2.I $$\n",
    "- MR.4: **Conditional uncorrelated errors** the covariance between different error term pairs, conditional on X is zero:\n",
    "- MR.5 There exists no exact linear relationship between the explanatory variables. This means that:\n",
    "$$ rank(X) = K+1$$\n",
    "$$det(X^TX) \\neq 0$$\n",
    "- MR.6: **(Optional)** the residulas are normally distributed i.e:\n",
    "$\\epsilon|X \\in N(0,\\sigma^2I$\n",
    "\n",
    "Each of these assumptions must be validated/tested  \n",
    "\n",
    "\n",
    "### 4.1.1 Linearity Tests:\n",
    "This is the first assumption of linear regression. Breaching it is considered very series because it means our model is not the Best representation of the data.  \n",
    "If the scatter plot between $X$ and $y$ doesn't clearly show the relationship, we revert to numerical methods to test linearity.\n",
    "\n",
    "#### 4.1.1.2 Harvey-Collier Test for Linearity:\n",
    "Harvey-Collier performs a t-test on the recursive residuals. If the true relationship is non-linear (i.e. convex or concave) the mean of the recursive residuals is significantly different from zero.  \n",
    "\n",
    "*$H_0:$ The model is correctly specificed as linear*"
   ]
  },
  {
   "cell_type": "code",
   "execution_count": 73,
   "metadata": {},
   "outputs": [
    {
     "data": {
      "text/html": [
       "<div>\n",
       "<style scoped>\n",
       "    .dataframe tbody tr th:only-of-type {\n",
       "        vertical-align: middle;\n",
       "    }\n",
       "\n",
       "    .dataframe tbody tr th {\n",
       "        vertical-align: top;\n",
       "    }\n",
       "\n",
       "    .dataframe thead th {\n",
       "        text-align: right;\n",
       "    }\n",
       "</style>\n",
       "<table border=\"1\" class=\"dataframe\">\n",
       "  <thead>\n",
       "    <tr style=\"text-align: right;\">\n",
       "      <th></th>\n",
       "      <th>F-statistic</th>\n",
       "      <th>p-value</th>\n",
       "    </tr>\n",
       "  </thead>\n",
       "  <tbody>\n",
       "    <tr>\n",
       "      <th>mileage</th>\n",
       "      <td>-0.7069</td>\n",
       "      <td>0.4796</td>\n",
       "    </tr>\n",
       "    <tr>\n",
       "      <th>engine_power</th>\n",
       "      <td>-5.1526</td>\n",
       "      <td>0.0000</td>\n",
       "    </tr>\n",
       "    <tr>\n",
       "      <th>age</th>\n",
       "      <td>-3.3803</td>\n",
       "      <td>0.0007</td>\n",
       "    </tr>\n",
       "  </tbody>\n",
       "</table>\n",
       "</div>"
      ],
      "text/plain": [
       "              F-statistic  p-value\n",
       "mileage           -0.7069   0.4796\n",
       "engine_power      -5.1526   0.0000\n",
       "age               -3.3803   0.0007"
      ]
     },
     "execution_count": 73,
     "metadata": {},
     "output_type": "execute_result"
    }
   ],
   "source": [
    "ols_ordered_tmp = smf.ols('np.log(price)~mileage+age+engine_power', data=df_train).fit()\n",
    "hc = {'F-statistic':[],'p-value':[]}\n",
    "idx = []\n",
    "for col in cont_cols:\n",
    "    if col =='price':continue\n",
    "    try:\n",
    "        h = diagnostic.linear_harvey_collier(ols_ordered_tmp, order_by=np.argsort(df_train[col]))\n",
    "        idx.append(col)\n",
    "        hc['F-statistic'].append(h[0])\n",
    "        hc['p-value'].append(h[1])\n",
    "        \n",
    "    except:\n",
    "        pass\n",
    "pd.DataFrame(hc, index=idx).round(4)"
   ]
  },
  {
   "cell_type": "markdown",
   "metadata": {},
   "source": [
    "#### 4.1.1.3 Rainbow Test for Linearity:\n",
    "Rainbow test assums that the **true** model is non-linear with additional parameters $Z.\\theta$. Where $Z$ is an $r$ x $K$ matrix.  \n",
    "The hypothesis test to prove linearity is\n",
    "\n",
    "*$H_0:\\theta = 0$ (The model is correctly specificed as linear)*  \n",
    "*$H_1:\\theta \\neq 0$*"
   ]
  },
  {
   "cell_type": "code",
   "execution_count": 279,
   "metadata": {},
   "outputs": [
    {
     "data": {
      "text/html": [
       "<style type=\"text/css\">\n",
       "</style>\n",
       "<table id=\"T_c6eb4_\">\n",
       "  <thead>\n",
       "    <tr>\n",
       "      <th class=\"blank level0\" >&nbsp;</th>\n",
       "      <th class=\"col_heading level0 col0\" >F-statistic</th>\n",
       "      <th class=\"col_heading level0 col1\" >p-value</th>\n",
       "    </tr>\n",
       "  </thead>\n",
       "  <tbody>\n",
       "    <tr>\n",
       "      <th id=\"T_c6eb4_level0_row0\" class=\"row_heading level0 row0\" >mileage</th>\n",
       "      <td id=\"T_c6eb4_row0_col0\" class=\"data row0 col0\" >0.750819</td>\n",
       "      <td id=\"T_c6eb4_row0_col1\" class=\"data row0 col1\" >1.000000</td>\n",
       "    </tr>\n",
       "    <tr>\n",
       "      <th id=\"T_c6eb4_level0_row1\" class=\"row_heading level0 row1\" >engine_power</th>\n",
       "      <td id=\"T_c6eb4_row1_col0\" class=\"data row1 col0\" >0.772466</td>\n",
       "      <td id=\"T_c6eb4_row1_col1\" class=\"data row1 col1\" >1.000000</td>\n",
       "    </tr>\n",
       "    <tr>\n",
       "      <th id=\"T_c6eb4_level0_row2\" class=\"row_heading level0 row2\" >age</th>\n",
       "      <td id=\"T_c6eb4_row2_col0\" class=\"data row2 col0\" >1.530039</td>\n",
       "      <td id=\"T_c6eb4_row2_col1\" class=\"data row2 col1\" >0.000000</td>\n",
       "    </tr>\n",
       "  </tbody>\n",
       "</table>\n"
      ],
      "text/plain": [
       "<pandas.io.formats.style.Styler at 0x7f9109c20f10>"
      ]
     },
     "execution_count": 279,
     "metadata": {},
     "output_type": "execute_result"
    }
   ],
   "source": [
    "rainbow = {'F-statistic':[],'p-value':[]}\n",
    "idx = []\n",
    "for col in cont_cols:\n",
    "    if col =='price': continue    \n",
    "    try:\n",
    "        h = diagnostic.linear_rainbow(ols_ordered_tmp, order_by=col)\n",
    "        rainbow['F-statistic'].append(h[0])\n",
    "        rainbow['p-value'].append(h[1])\n",
    "        idx.append(col)\n",
    "    except:\n",
    "        pass\n",
    "pd.DataFrame(rainbow, index=idx).style.format('{:.6f}')"
   ]
  },
  {
   "cell_type": "markdown",
   "metadata": {},
   "source": [
    "**Impression**\n",
    "The relationship between `price` and both `mileage` and `engine_power` is correctly specified as linear. However, its relationship with `age` is not linear. This is visible in the scatter plot below. That being said, we can still build a linear model since the other variable are linear and either omit `age` alltogether or leave it as is. The other solution is to build a non-linear model, which is outside the scope of this notebook"
   ]
  },
  {
   "cell_type": "code",
   "execution_count": 74,
   "metadata": {},
   "outputs": [
    {
     "data": {
      "text/html": [
       "<iframe\n",
       "    scrolling=\"no\"\n",
       "    width=\"100%\"\n",
       "    height=\"545px\"\n",
       "    src=\"iframe_figures/figure_74.html\"\n",
       "    frameborder=\"0\"\n",
       "    allowfullscreen\n",
       "></iframe>\n"
      ]
     },
     "metadata": {},
     "output_type": "display_data"
    }
   ],
   "source": [
    "# Scatter age and price again and draw a log-normal terndline to visualize the non-linear relation between them\n",
    "\n",
    "px.scatter(dfc_train, x='age', y='price', trendline='ols', log_y=True, log_x=False, trendline_color_override='red')"
   ]
  },
  {
   "cell_type": "markdown",
   "metadata": {},
   "source": [
    "### 4.1.2 Heteroskadasticity:\n",
    "\n",
    "Heteroskadasticity occures when the varaince of the error term is not constanct across observations. This breaches assumption MR.3 of linear regression and causes:\n",
    "\n",
    "- the variance of the estimators to become biased and inconsistent\n",
    "- the OLS estimator no longer has Student $t$ distribution, which renders *t-test* invalid. Even for large data samples\n",
    "However, OLS estimators themselves remain unbiased\n",
    "\n",
    "#### 4.1.2.1 Residual Plot diagram:\n",
    "Run sequence and vs predicted values, and against each of the independent variable"
   ]
  },
  {
   "cell_type": "code",
   "execution_count": 133,
   "metadata": {},
   "outputs": [
    {
     "data": {
      "text/html": [
       "<iframe\n",
       "    scrolling=\"no\"\n",
       "    width=\"100%\"\n",
       "    height=\"620\"\n",
       "    src=\"iframe_figures/figure_133.html\"\n",
       "    frameborder=\"0\"\n",
       "    allowfullscreen\n",
       "></iframe>\n"
      ]
     },
     "metadata": {},
     "output_type": "display_data"
    }
   ],
   "source": [
    "plot_kwargs = dict(mode='markers',\n",
    "                   marker=dict(symbol='circle-open', opacity=0.4, size=6, #color='orange', \n",
    "                               line=dict(color='orange', width=1)\n",
    "                              )\n",
    "                  )\n",
    "\n",
    "fig = make_subplots(2,3,vertical_spacing=.15,horizontal_spacing=.05,\n",
    "                   subplot_titles=['Run-Seq','Price Y','Pred Price','Mileage','Age','Engine Power'])\n",
    "fig.append_trace(go.Scatter(y=res_algo.resid,name='seq-run', **plot_kwargs), 1,1)\n",
    "fig.append_trace(go.Scatter(x=res_algo.model.endog,name='price (y)', y=res_algo.resid, **plot_kwargs), 1,2)\n",
    "fig.append_trace(go.Scatter(x=res_algo.fittedvalues,name='predicted price', y=res_algo.resid, **plot_kwargs), 1,3)\n",
    "fig.append_trace(go.Scatter(x=df.iloc[train_idx].mileage, name='mileage', y=res_algo.resid, **plot_kwargs), 2,1)\n",
    "fig.append_trace(go.Scatter(x=df.iloc[train_idx].age, name='age', y=res_algo.resid, **plot_kwargs), 2,2)\n",
    "fig.append_trace(go.Scatter(x=df.iloc[train_idx].engine_power, name='engine_power', y=res_algo.resid, **plot_kwargs), 2,3)\n",
    "\n",
    "fig.update_layout(height=600)\n",
    "fig.show()\n",
    "\n",
    "# plt.plot(res_algo.model.endog,res_algo.resid, 'rx')"
   ]
  },
  {
   "cell_type": "markdown",
   "metadata": {},
   "source": [
    "**Conclusion**  \n",
    "Visually, I don't see a particular increasing or decreasing pattern to confirm or deny heteroskedasticity. So let's run some tests\n",
    "\n",
    "#### 4.1.2.2 Goldfeld-Quandt test:\n",
    "It's based on two subsamples with two different variances.  \n",
    "$H_0:$ no heteroskadasticity"
   ]
  },
  {
   "cell_type": "code",
   "execution_count": 299,
   "metadata": {},
   "outputs": [
    {
     "data": {
      "text/html": [
       "<div>\n",
       "<style scoped>\n",
       "    .dataframe tbody tr th:only-of-type {\n",
       "        vertical-align: middle;\n",
       "    }\n",
       "\n",
       "    .dataframe tbody tr th {\n",
       "        vertical-align: top;\n",
       "    }\n",
       "\n",
       "    .dataframe thead th {\n",
       "        text-align: right;\n",
       "    }\n",
       "</style>\n",
       "<table border=\"1\" class=\"dataframe\">\n",
       "  <thead>\n",
       "    <tr style=\"text-align: right;\">\n",
       "      <th></th>\n",
       "      <th>F-statistic</th>\n",
       "      <th>p-value</th>\n",
       "      <th>alternative</th>\n",
       "      <th>result</th>\n",
       "    </tr>\n",
       "  </thead>\n",
       "  <tbody>\n",
       "    <tr>\n",
       "      <th>run-seq</th>\n",
       "      <td>0.993106</td>\n",
       "      <td>8.838358e-01</td>\n",
       "      <td>two-sided</td>\n",
       "      <td></td>\n",
       "    </tr>\n",
       "    <tr>\n",
       "      <th>age</th>\n",
       "      <td>0.486514</td>\n",
       "      <td>2.826149e-51</td>\n",
       "      <td>two-sided</td>\n",
       "      <td>Reject Null Hypothesis</td>\n",
       "    </tr>\n",
       "    <tr>\n",
       "      <th>np.power(age, 2)</th>\n",
       "      <td>0.486514</td>\n",
       "      <td>2.826149e-51</td>\n",
       "      <td>two-sided</td>\n",
       "      <td>Reject Null Hypothesis</td>\n",
       "    </tr>\n",
       "    <tr>\n",
       "      <th>mileage</th>\n",
       "      <td>1.145255</td>\n",
       "      <td>4.183821e-03</td>\n",
       "      <td>two-sided</td>\n",
       "      <td>Reject Null Hypothesis</td>\n",
       "    </tr>\n",
       "    <tr>\n",
       "      <th>np.power(mileage, 2)</th>\n",
       "      <td>1.145255</td>\n",
       "      <td>4.183821e-03</td>\n",
       "      <td>two-sided</td>\n",
       "      <td>Reject Null Hypothesis</td>\n",
       "    </tr>\n",
       "    <tr>\n",
       "      <th>engine_power</th>\n",
       "      <td>0.983656</td>\n",
       "      <td>7.277279e-01</td>\n",
       "      <td>two-sided</td>\n",
       "      <td></td>\n",
       "    </tr>\n",
       "  </tbody>\n",
       "</table>\n",
       "</div>"
      ],
      "text/plain": [
       "                      F-statistic       p-value alternative  \\\n",
       "run-seq                  0.993106  8.838358e-01   two-sided   \n",
       "age                      0.486514  2.826149e-51   two-sided   \n",
       "np.power(age, 2)         0.486514  2.826149e-51   two-sided   \n",
       "mileage                  1.145255  4.183821e-03   two-sided   \n",
       "np.power(mileage, 2)     1.145255  4.183821e-03   two-sided   \n",
       "engine_power             0.983656  7.277279e-01   two-sided   \n",
       "\n",
       "                                      result  \n",
       "run-seq                                       \n",
       "age                   Reject Null Hypothesis  \n",
       "np.power(age, 2)      Reject Null Hypothesis  \n",
       "mileage               Reject Null Hypothesis  \n",
       "np.power(mileage, 2)  Reject Null Hypothesis  \n",
       "engine_power                                  "
      ]
     },
     "execution_count": 299,
     "metadata": {},
     "output_type": "execute_result"
    }
   ],
   "source": [
    "def GQ_test(ols, start_idx=None, alpha=0.05):\n",
    "    GQ = lambda ols,i: diagnostic.het_goldfeldquandt(ols.endog, ols.exog, idx=i, alternative='two-sided')\n",
    "    gq_df = pd.DataFrame([GQ(ols, i=i) for i in [None]+list(range(start_idx,ols.exog.shape[1]))],\n",
    "             index=['run-seq']+ols.exog_names[start_idx:],\n",
    "             columns=['F-statistic','p-value','alternative']\n",
    "            )\n",
    "    gq_df['result'] = np.where(gq_df['p-value']< alpha , 'Reject Null Hypothesis', '')\n",
    "    return gq_df\n",
    "GQ_test(ols_algo, start_idx=22, alpha=.05)"
   ]
  },
  {
   "cell_type": "markdown",
   "metadata": {},
   "source": [
    "#### 4.1.2.3 Breusch-Pagan test\n",
    "This is a general heteroskedasticity test that returns two statistics `LM` and `F-statistic`. It's null hypothesis is: \n",
    "$H_0:$ no heterskadasticity at $\\alpha$ level.  \n",
    "We run the test between the residulas and the group of $X$ variables we suspect of being related to heteroskedasticity. In our case it's `age` and `mileage`, as shown by GQ test"
   ]
  },
  {
   "cell_type": "code",
   "execution_count": 297,
   "metadata": {},
   "outputs": [
    {
     "name": "stdout",
     "output_type": "stream",
     "text": [
      "              Breusch-Pagan\n",
      "LM statistic   5.165923e+01\n",
      "p-value        6.601954e-13\n",
      "F statistic    2.618867e+01\n",
      "p-value        5.103352e-12\n"
     ]
    }
   ],
   "source": [
    "bp = list(diagnostic.het_breuschpagan(res_algo.resid, df.iloc[train_idx][['age','mileage']].values))\n",
    "print(pd.DataFrame(bp, index=['LM statistic','p-value','F statistic','p-value'], columns=['Breusch-Pagan']))"
   ]
  },
  {
   "cell_type": "markdown",
   "metadata": {},
   "source": [
    "Since p-value is less than $\\alpha$ (0.05) We reject the null hypothesis and conclude the presence of heteroskedasticity in `age` and `mileage`\n",
    "\n",
    "#### 4.1.2.4 White test\n",
    "Even more generalized test that's designed to include not only exogenous variables but also their polynomial and interaction terms. Its null is: $H_0:$ No heteroskedasticity\n"
   ]
  },
  {
   "cell_type": "code",
   "execution_count": 203,
   "metadata": {},
   "outputs": [
    {
     "data": {
      "text/plain": [
       "(69.98105253902926,\n",
       " 2.2908450730970267e-14,\n",
       " 17.8151434251413,\n",
       " 1.70586497717226e-14)"
      ]
     },
     "execution_count": 203,
     "metadata": {},
     "output_type": "execute_result"
    }
   ],
   "source": [
    "white_mat = np.column_stack([np.ones(len(train_idx)), df.iloc[train_idx].age,df.iloc[train_idx].age**2])\n",
    "diagnostic.het_white(res_algo.resid, white_mat)"
   ]
  },
  {
   "cell_type": "markdown",
   "metadata": {},
   "source": [
    "\n",
    "#### 4.1.2.5 How to fix it?\n",
    "#### 4.1.2.5.A Heteroskadastic-Consistent Errors (HCE):\n",
    "Also known as white errors. Use them to correct se and assess coefficent's significance. This is the quick and dirty way that oftern produces variables larger than model-based estimators like WLS, GLS if the residual covariance matrix is correctly specified. However, it's very useful when the shape of heteroskedasticity is unknown.  \n",
    "All we need to do is fit the model using one of the robust `cov_type`s, then use the new coeffecient standard errors and p-values"
   ]
  },
  {
   "cell_type": "code",
   "execution_count": 320,
   "metadata": {},
   "outputs": [
    {
     "name": "stdout",
     "output_type": "stream",
     "text": [
      "==========================================================================================\n",
      "                             coef    std err          t      P>|t|      [0.025      0.975]\n",
      "------------------------------------------------------------------------------------------\n",
      "Intercept                  9.3982      0.111     84.468      0.000       9.180       9.616\n",
      "car_type[T.coupe]         -0.2331      0.072     -3.249      0.001      -0.374      -0.092\n",
      "car_type[T.estate]        -0.4326      0.069     -6.246      0.000      -0.568      -0.297\n",
      "car_type[T.hatchback]     -0.2394      0.067     -3.557      0.000      -0.371      -0.107\n",
      "car_type[T.sedan]         -0.2596      0.070     -3.683      0.000      -0.398      -0.121\n",
      "car_type[T.subcompact]    -0.2132      0.075     -2.854      0.004      -0.360      -0.067\n",
      "car_type[T.suv]           -0.2516      0.116     -2.176      0.030      -0.478      -0.025\n",
      "car_type[T.van]           -0.3692      0.101     -3.666      0.000      -0.567      -0.172\n",
      "feature_1[T.True]          0.0778      0.011      7.061      0.000       0.056       0.099\n",
      "feature_2[T.True]          0.1401      0.020      7.033      0.000       0.101       0.179\n",
      "feature_4[T.True]          0.0877      0.016      5.407      0.000       0.056       0.120\n",
      "feature_5[T.True]          0.0827      0.012      7.125      0.000       0.060       0.106\n",
      "feature_6[T.True]          0.0632      0.010      6.591      0.000       0.044       0.082\n",
      "feature_7[T.True]          0.1063      0.049      2.191      0.029       0.011       0.201\n",
      "feature_8[T.True]          0.0981      0.016      6.040      0.000       0.066       0.130\n",
      "model[T.2 series]          0.0836      0.075      1.108      0.268      -0.064       0.231\n",
      "model[T.3 series]          0.1912      0.027      7.178      0.000       0.139       0.243\n",
      "model[T.4 series]          0.2876      0.039      7.394      0.000       0.211       0.364\n",
      "model[T.5 series]          0.3124      0.031     10.158      0.000       0.252       0.373\n",
      "model[T.6 series]          0.4331      0.047      9.231      0.000       0.341       0.525\n",
      "model[T.7 series]          0.4374      0.045      9.735      0.000       0.349       0.525\n",
      "model[T.Other]             0.3159      0.077      4.082      0.000       0.164       0.468\n",
      "age                       -0.0310      0.023     -1.356      0.175      -0.076       0.014\n",
      "np.power(age, 2)          -0.0048      0.001     -3.352      0.001      -0.008      -0.002\n",
      "mileage                -2.863e-06   2.31e-07    -12.415      0.000   -3.32e-06   -2.41e-06\n",
      "np.power(mileage, 2)    1.995e-12   5.13e-13      3.885      0.000    9.88e-13       3e-12\n",
      "engine_power               0.0040      0.000     16.273      0.000       0.003       0.004\n",
      "==========================================================================================\n"
     ]
    },
    {
     "name": "stderr",
     "output_type": "stream",
     "text": [
      "/home/ayman/anaconda3/envs/stats/lib/python3.9/site-packages/statsmodels/base/model.py:1832: ValueWarning:\n",
      "\n",
      "covariance of constraints does not have full rank. The number of constraints is 26, but rank is 25\n",
      "\n"
     ]
    }
   ],
   "source": [
    "print(res_algo.get_robustcov_results('HC0').summary().tables[1])"
   ]
  },
  {
   "cell_type": "markdown",
   "metadata": {},
   "source": [
    "#### 4.1.2.5.B Weighted Least Squares (WLS)\n",
    "I'm not going to get into the math of WLS, but it is a special case of Generalized Least Squares (GLS) that assums no autocorrelation. i.e. covariance matrix is diagonal that has *some* form of heteroskedasticity! Feasible GLS Procedure:\n",
    "1. Estimtate the regression via OLS\n",
    "2. Calculate $log(\\epsilon^2)$\n",
    "3. estimate the regression $log(\\epsilon^2)=X\\alpha+v_i$ and calculate the fitted values.\n",
    "4. Take the exponent of fitted values $\\hat{h_i}=e^{\\hat{log(\\epsilon_i^2)}}$\n",
    "5. Estimate regression $Y=X\\beta + \\epsilon$ via WLS using weights $w_i^{-1}=1/\\sqrt{\\hat{h_i}}$"
   ]
  },
  {
   "cell_type": "code",
   "execution_count": 341,
   "metadata": {},
   "outputs": [
    {
     "name": "stdout",
     "output_type": "stream",
     "text": [
      "              Breusch-Pagan\n",
      "LM statistic   2.509775e+01\n",
      "p-value        5.449651e-07\n",
      "F statistic    1.262941e+01\n",
      "p-value        3.420997e-06\n"
     ]
    }
   ],
   "source": [
    "# Calculate weights array: h_est\n",
    "log_e2 = np.log(res_algo.resid**2)\n",
    "e2_mat = df.iloc[train_idx].copy()\n",
    "e2_mat['log_e2'] = log_e2\n",
    "f_e2 = 'log_e2~age + np.power(age,2) + mileage + np.power(mileage,2) + engine_power + car_type + feature_1 + feature_2 + feature_4 + feature_5 + feature_6 + feature_7 + feature_8 + model'\n",
    "h_est = np.exp(smf.ols(formula=f_e2, data=e2_mat).fit().fittedvalues)\n",
    "\n",
    "# Build GLS model using residual weights\n",
    "wls = smf.wls(ols_algo.formula, data=df.iloc[train_idx],weights=1/h_est)\n",
    "res_wls = wls.fit()\n",
    "\n",
    "# Test Heteroskedactisity in WLS\n",
    "bp_wls = list(diagnostic.het_breuschpagan(res_wls.wresid, df.iloc[train_idx][['age','mileage']].values))\n",
    "print(pd.DataFrame(bp_wls, index=['LM statistic','p-value','F statistic','p-value'], columns=['Breusch-Pagan']))"
   ]
  },
  {
   "cell_type": "markdown",
   "metadata": {},
   "source": [
    "**Conclusion**: using WLS decreased heteroskedasticity but it didn't eliminate it. This is mainly because we don't know the true form of heteroskedasticity in residuals. In practice it's acceptable to use white corrected standard errors (Hansen method) \n",
    "\n",
    "### 4.1.3 Multicollinearity:\n",
    "\n",
    "Is the situation in which two or more explanotary variables are highly **linearly** correlated. This is a violation of assumption MR.5 of linear regression that causes the determinant of $(X^T.X)$ matrix to be zero, which results in uninvertable matrix. However, In real life such relationship is almost always approximate (never perfect) and therefor $det(X^TX)$ is close to zero. The consequences are:\n",
    "\n",
    "- Impreciese estimators\n",
    "- Large coefficient standard erors -> failure to reject their significance\n",
    "- Small changes to input data can lead to big changes in the model (even different signs of the coefficients). This can be examined using cv training\n",
    "- The usual interpetation of the change in one variable holding all else equal does not hold anymore\n",
    "- Overfitting, since the variables contain the same data (or partially the same)\n",
    "\n",
    "\n",
    "#### 4.1.3.1 How to detect it?\n",
    "Obvious red flags are large F-statistic accompanied by insignificant coefficients (small p-values) and big changes in coefficients when training on different datablocks.\n",
    "\n",
    "1. $det(X^TX) \\neq 0$  \n",
    "2. $(X^TX)^{-1}(X^TX)=I \\neq 0$\n",
    "3. Correlation between variables\n",
    "4. Variance Inflation Factor: runs a regression between the selected $X_i$ and other independent variables and claculates $VIF=1/(1-R^2)$. Any value above 10 is not good, below 5 is acceptable"
   ]
  },
  {
   "cell_type": "code",
   "execution_count": 345,
   "metadata": {},
   "outputs": [
    {
     "data": {
      "text/plain": [
       "4.164540250492959e+102"
      ]
     },
     "execution_count": 345,
     "metadata": {},
     "output_type": "execute_result"
    }
   ],
   "source": [
    "from numpy.linalg import det, inv\n",
    "X = res_algo.model.exog\n",
    "det(X.T@X)"
   ]
  },
  {
   "cell_type": "code",
   "execution_count": null,
   "metadata": {},
   "outputs": [],
   "source": []
  },
  {
   "cell_type": "code",
   "execution_count": null,
   "metadata": {},
   "outputs": [],
   "source": []
  },
  {
   "cell_type": "code",
   "execution_count": null,
   "metadata": {},
   "outputs": [],
   "source": []
  },
  {
   "cell_type": "code",
   "execution_count": null,
   "metadata": {},
   "outputs": [],
   "source": []
  },
  {
   "cell_type": "code",
   "execution_count": null,
   "metadata": {},
   "outputs": [],
   "source": []
  },
  {
   "cell_type": "code",
   "execution_count": null,
   "metadata": {},
   "outputs": [],
   "source": []
  },
  {
   "cell_type": "code",
   "execution_count": null,
   "metadata": {},
   "outputs": [],
   "source": []
  },
  {
   "cell_type": "code",
   "execution_count": null,
   "metadata": {},
   "outputs": [],
   "source": []
  },
  {
   "cell_type": "code",
   "execution_count": null,
   "metadata": {},
   "outputs": [],
   "source": []
  },
  {
   "cell_type": "code",
   "execution_count": null,
   "metadata": {},
   "outputs": [],
   "source": []
  },
  {
   "cell_type": "code",
   "execution_count": null,
   "metadata": {},
   "outputs": [],
   "source": []
  },
  {
   "cell_type": "code",
   "execution_count": null,
   "metadata": {},
   "outputs": [],
   "source": []
  },
  {
   "cell_type": "code",
   "execution_count": 252,
   "metadata": {},
   "outputs": [
    {
     "name": "stdout",
     "output_type": "stream",
     "text": [
      "                            WLS Regression Results                            \n",
      "==============================================================================\n",
      "Dep. Variable:          np.log(price)   R-squared:                       0.717\n",
      "Model:                            WLS   Adj. R-squared:                  0.715\n",
      "Method:                 Least Squares   F-statistic:                     350.5\n",
      "Date:                Sat, 13 Nov 2021   Prob (F-statistic):               0.00\n",
      "Time:                        23:09:09   Log-Likelihood:                -594.63\n",
      "No. Observations:                3624   AIC:                             1243.\n",
      "Df Residuals:                    3597   BIC:                             1411.\n",
      "Df Model:                          26                                         \n",
      "Covariance Type:            nonrobust                                         \n",
      "==========================================================================================\n",
      "                             coef    std err          t      P>|t|      [0.025      0.975]\n",
      "------------------------------------------------------------------------------------------\n",
      "Intercept                  9.2223      0.079    117.215      0.000       9.068       9.377\n",
      "car_type[T.coupe]         -0.1717      0.057     -3.031      0.002      -0.283      -0.061\n",
      "car_type[T.estate]        -0.3383      0.051     -6.604      0.000      -0.439      -0.238\n",
      "car_type[T.hatchback]     -0.1458      0.051     -2.867      0.004      -0.246      -0.046\n",
      "car_type[T.sedan]         -0.1689      0.051     -3.305      0.001      -0.269      -0.069\n",
      "car_type[T.subcompact]    -0.1080      0.059     -1.839      0.066      -0.223       0.007\n",
      "car_type[T.suv]           -0.1523      0.074     -2.063      0.039      -0.297      -0.008\n",
      "car_type[T.van]           -0.1907      0.110     -1.736      0.083      -0.406       0.025\n",
      "feature_1[T.True]          0.0562      0.010      5.610      0.000       0.037       0.076\n",
      "feature_2[T.True]          0.1089      0.017      6.325      0.000       0.075       0.143\n",
      "feature_4[T.True]          0.0803      0.014      5.642      0.000       0.052       0.108\n",
      "feature_5[T.True]          0.0858      0.010      8.569      0.000       0.066       0.105\n",
      "feature_6[T.True]          0.0658      0.011      6.207      0.000       0.045       0.087\n",
      "feature_7[T.True]          0.1212      0.045      2.715      0.007       0.034       0.209\n",
      "feature_8[T.True]          0.0902      0.010      8.627      0.000       0.070       0.111\n",
      "model[T.2 series]          0.1814      0.104      1.738      0.082      -0.023       0.386\n",
      "model[T.3 series]          0.2330      0.021     11.052      0.000       0.192       0.274\n",
      "model[T.4 series]          0.3722      0.034     10.976      0.000       0.306       0.439\n",
      "model[T.5 series]          0.3739      0.025     15.142      0.000       0.325       0.422\n",
      "model[T.6 series]          0.5416      0.061      8.950      0.000       0.423       0.660\n",
      "model[T.7 series]          0.5350      0.049     10.962      0.000       0.439       0.631\n",
      "model[T.Other]             0.3655      0.066      5.541      0.000       0.236       0.495\n",
      "age                        0.0035      0.009      0.374      0.709      -0.015       0.022\n",
      "np.power(age, 2)          -0.0072      0.001    -11.942      0.000      -0.008      -0.006\n",
      "mileage                -2.986e-06   2.88e-07    -10.368      0.000   -3.55e-06   -2.42e-06\n",
      "np.power(mileage, 2)    3.369e-12    8.7e-13      3.872      0.000    1.66e-12    5.07e-12\n",
      "engine_power               0.0036      0.000     18.595      0.000       0.003       0.004\n",
      "==============================================================================\n",
      "Omnibus:                     5217.471   Durbin-Watson:                   1.975\n",
      "Prob(Omnibus):                  0.000   Jarque-Bera (JB):          3082936.941\n",
      "Skew:                          -8.262   Prob(JB):                         0.00\n",
      "Kurtosis:                     144.929   Cond. No.                     9.99e+11\n",
      "==============================================================================\n",
      "\n",
      "Notes:\n",
      "[1] Standard Errors assume that the covariance matrix of the errors is correctly specified.\n",
      "[2] The condition number is large, 9.99e+11. This might indicate that there are\n",
      "strong multicollinearity or other numerical problems.\n"
     ]
    }
   ],
   "source": [
    "wls = smf.wls(ols_algo.formula, data=df.iloc[train_idx],weights=1/h2_est)\n",
    "res_wls = wls.fit()\n",
    "print(res_wls.summary())"
   ]
  },
  {
   "cell_type": "code",
   "execution_count": 340,
   "metadata": {},
   "outputs": [
    {
     "data": {
      "text/plain": [
       "(25.097746527517465,\n",
       " 5.449650607790566e-07,\n",
       " 12.629411903998934,\n",
       " 3.4209968760460227e-06)"
      ]
     },
     "execution_count": 340,
     "metadata": {},
     "output_type": "execute_result"
    }
   ],
   "source": [
    "diagnostic.het_breuschpagan(res_wls.wresid, df.iloc[train_idx][['age','mileage']].values)"
   ]
  },
  {
   "cell_type": "code",
   "execution_count": 321,
   "metadata": {},
   "outputs": [
    {
     "data": {
      "text/plain": [
       "'np.log(price)~age + np.power(age,2) + mileage + np.power(mileage,2) + engine_power + car_type + feature_1 + feature_2 + feature_4 + feature_5 + feature_6 + feature_7 + feature_8 + model'"
      ]
     },
     "execution_count": 321,
     "metadata": {},
     "output_type": "execute_result"
    }
   ],
   "source": [
    "wls.formula"
   ]
  },
  {
   "cell_type": "code",
   "execution_count": 324,
   "metadata": {},
   "outputs": [],
   "source": [
    "norm_formula = '''\n",
    "np.log(price)~ norm(age) + np.power(norm(age),2) + norm(mileage) + np.power(norm(mileage),2) +\n",
    "norm(engine_power) + car_type +  feature_1 + feature_2 + feature_4 + feature_5 +\n",
    "feature_6 + feature_7 + feature_8 + model'''"
   ]
  },
  {
   "cell_type": "code",
   "execution_count": 330,
   "metadata": {},
   "outputs": [],
   "source": [
    "ols_norm = smf.ols(norm_formula, data=df.iloc[train_idx])\n",
    "res_norm = ols_norm.fit()"
   ]
  },
  {
   "cell_type": "code",
   "execution_count": 331,
   "metadata": {},
   "outputs": [],
   "source": [
    "log_e2n = np.log(res_norm.resid**2)\n",
    "e2_matn = df.iloc[train_idx].copy()\n",
    "e2_matn['log_e2'] = log_e2\n",
    "f_e2n = '''log_e2~norm(age) + np.power(norm(age),2) + norm(mileage) + np.power(norm(mileage),2) +\n",
    "norm(engine_power) + car_type +  feature_1 + feature_2 + feature_4 + feature_5 +\n",
    "feature_6 + feature_7 + feature_8 + model'''\n",
    "h2_estn = np.exp(smf.ols(formula=f_e2n, data=e2_matn).fit().fittedvalues)"
   ]
  },
  {
   "cell_type": "code",
   "execution_count": 335,
   "metadata": {},
   "outputs": [],
   "source": [
    "wls_norm = smf.wls(norm_formula, data=df, subset=train_idx,weights=1/h2_estn)\n",
    "res_wls_norm = wls_norm.fit()"
   ]
  },
  {
   "cell_type": "code",
   "execution_count": 342,
   "metadata": {},
   "outputs": [
    {
     "name": "stdout",
     "output_type": "stream",
     "text": [
      "              Breusch-Pagan\n",
      "LM statistic   2.509771e+01\n",
      "p-value        5.449756e-07\n",
      "F statistic    1.262939e+01\n",
      "p-value        3.421061e-06\n"
     ]
    }
   ],
   "source": [
    "bp = list(diagnostic.het_breuschpagan(res_wls_norm.wresid, df.iloc[train_idx][['age','mileage']].values))\n",
    "print(pd.DataFrame(bp, index=['LM statistic','p-value','F statistic','p-value'], columns=['Breusch-Pagan']))"
   ]
  },
  {
   "cell_type": "code",
   "execution_count": 343,
   "metadata": {},
   "outputs": [
    {
     "data": {
      "text/html": [
       "<table class=\"simpletable\">\n",
       "<tr>\n",
       "        <td>Model:</td>               <td>WLS</td>         <td>Adj. R-squared:</td>     <td>0.715</td>  \n",
       "</tr>\n",
       "<tr>\n",
       "  <td>Dependent Variable:</td>   <td>np.log(price)</td>         <td>AIC:</td>         <td>1243.2587</td>\n",
       "</tr>\n",
       "<tr>\n",
       "         <td>Date:</td>        <td>2021-11-14 11:45</td>        <td>BIC:</td>         <td>1410.5327</td>\n",
       "</tr>\n",
       "<tr>\n",
       "   <td>No. Observations:</td>        <td>3624</td>         <td>Log-Likelihood:</td>    <td>-594.63</td> \n",
       "</tr>\n",
       "<tr>\n",
       "       <td>Df Model:</td>             <td>26</td>           <td>F-statistic:</td>       <td>350.5</td>  \n",
       "</tr>\n",
       "<tr>\n",
       "     <td>Df Residuals:</td>          <td>3597</td>       <td>Prob (F-statistic):</td>   <td>0.00</td>   \n",
       "</tr>\n",
       "<tr>\n",
       "      <td>R-squared:</td>            <td>0.717</td>            <td>Scale:</td>         <td>10.039</td>  \n",
       "</tr>\n",
       "</table>\n",
       "<table class=\"simpletable\">\n",
       "<tr>\n",
       "               <td></td>               <th>Coef.</th>  <th>Std.Err.</th>     <th>t</th>     <th>P>|t|</th> <th>[0.025</th>  <th>0.975]</th> \n",
       "</tr>\n",
       "<tr>\n",
       "  <th>Intercept</th>                  <td>9.1324</td>   <td>0.0681</td>  <td>134.1577</td> <td>0.0000</td> <td>8.9990</td>  <td>9.2659</td> \n",
       "</tr>\n",
       "<tr>\n",
       "  <th>car_type[T.coupe]</th>          <td>-0.1717</td>  <td>0.0566</td>   <td>-3.0314</td> <td>0.0025</td> <td>-0.2828</td> <td>-0.0607</td>\n",
       "</tr>\n",
       "<tr>\n",
       "  <th>car_type[T.estate]</th>         <td>-0.3383</td>  <td>0.0512</td>   <td>-6.6038</td> <td>0.0000</td> <td>-0.4387</td> <td>-0.2378</td>\n",
       "</tr>\n",
       "<tr>\n",
       "  <th>car_type[T.hatchback]</th>      <td>-0.1458</td>  <td>0.0509</td>   <td>-2.8666</td> <td>0.0042</td> <td>-0.2455</td> <td>-0.0461</td>\n",
       "</tr>\n",
       "<tr>\n",
       "  <th>car_type[T.sedan]</th>          <td>-0.1689</td>  <td>0.0511</td>   <td>-3.3048</td> <td>0.0010</td> <td>-0.2690</td> <td>-0.0687</td>\n",
       "</tr>\n",
       "<tr>\n",
       "  <th>car_type[T.subcompact]</th>     <td>-0.1080</td>  <td>0.0588</td>   <td>-1.8388</td> <td>0.0660</td> <td>-0.2232</td> <td>0.0072</td> \n",
       "</tr>\n",
       "<tr>\n",
       "  <th>car_type[T.suv]</th>            <td>-0.1523</td>  <td>0.0738</td>   <td>-2.0627</td> <td>0.0392</td> <td>-0.2970</td> <td>-0.0075</td>\n",
       "</tr>\n",
       "<tr>\n",
       "  <th>car_type[T.van]</th>            <td>-0.1907</td>  <td>0.1099</td>   <td>-1.7356</td> <td>0.0827</td> <td>-0.4062</td> <td>0.0247</td> \n",
       "</tr>\n",
       "<tr>\n",
       "  <th>feature_1[T.True]</th>          <td>0.0562</td>   <td>0.0100</td>   <td>5.6103</td>  <td>0.0000</td> <td>0.0366</td>  <td>0.0759</td> \n",
       "</tr>\n",
       "<tr>\n",
       "  <th>feature_2[T.True]</th>          <td>0.1089</td>   <td>0.0172</td>   <td>6.3252</td>  <td>0.0000</td> <td>0.0751</td>  <td>0.1426</td> \n",
       "</tr>\n",
       "<tr>\n",
       "  <th>feature_4[T.True]</th>          <td>0.0803</td>   <td>0.0142</td>   <td>5.6421</td>  <td>0.0000</td> <td>0.0524</td>  <td>0.1082</td> \n",
       "</tr>\n",
       "<tr>\n",
       "  <th>feature_5[T.True]</th>          <td>0.0858</td>   <td>0.0100</td>   <td>8.5688</td>  <td>0.0000</td> <td>0.0662</td>  <td>0.1054</td> \n",
       "</tr>\n",
       "<tr>\n",
       "  <th>feature_6[T.True]</th>          <td>0.0658</td>   <td>0.0106</td>   <td>6.2072</td>  <td>0.0000</td> <td>0.0450</td>  <td>0.0865</td> \n",
       "</tr>\n",
       "<tr>\n",
       "  <th>feature_7[T.True]</th>          <td>0.1212</td>   <td>0.0446</td>   <td>2.7151</td>  <td>0.0067</td> <td>0.0337</td>  <td>0.2087</td> \n",
       "</tr>\n",
       "<tr>\n",
       "  <th>feature_8[T.True]</th>          <td>0.0902</td>   <td>0.0105</td>   <td>8.6269</td>  <td>0.0000</td> <td>0.0697</td>  <td>0.1107</td> \n",
       "</tr>\n",
       "<tr>\n",
       "  <th>model[T.2 series]</th>          <td>0.1814</td>   <td>0.1044</td>   <td>1.7377</td>  <td>0.0823</td> <td>-0.0233</td> <td>0.3860</td> \n",
       "</tr>\n",
       "<tr>\n",
       "  <th>model[T.3 series]</th>          <td>0.2330</td>   <td>0.0211</td>   <td>11.0521</td> <td>0.0000</td> <td>0.1916</td>  <td>0.2743</td> \n",
       "</tr>\n",
       "<tr>\n",
       "  <th>model[T.4 series]</th>          <td>0.3722</td>   <td>0.0339</td>   <td>10.9758</td> <td>0.0000</td> <td>0.3057</td>  <td>0.4387</td> \n",
       "</tr>\n",
       "<tr>\n",
       "  <th>model[T.5 series]</th>          <td>0.3739</td>   <td>0.0247</td>   <td>15.1424</td> <td>0.0000</td> <td>0.3255</td>  <td>0.4223</td> \n",
       "</tr>\n",
       "<tr>\n",
       "  <th>model[T.6 series]</th>          <td>0.5416</td>   <td>0.0605</td>   <td>8.9501</td>  <td>0.0000</td> <td>0.4229</td>  <td>0.6602</td> \n",
       "</tr>\n",
       "<tr>\n",
       "  <th>model[T.7 series]</th>          <td>0.5350</td>   <td>0.0488</td>   <td>10.9623</td> <td>0.0000</td> <td>0.4393</td>  <td>0.6307</td> \n",
       "</tr>\n",
       "<tr>\n",
       "  <th>model[T.Other]</th>             <td>0.3655</td>   <td>0.0660</td>   <td>5.5411</td>  <td>0.0000</td> <td>0.2361</td>  <td>0.4948</td> \n",
       "</tr>\n",
       "<tr>\n",
       "  <th>norm(age)</th>                  <td>-0.1938</td>  <td>0.0093</td>  <td>-20.7561</td> <td>0.0000</td> <td>-0.2122</td> <td>-0.1755</td>\n",
       "</tr>\n",
       "<tr>\n",
       "  <th>np.power(norm(age), 2)</th>     <td>-0.0480</td>  <td>0.0040</td>  <td>-11.9424</td> <td>0.0000</td> <td>-0.0559</td> <td>-0.0401</td>\n",
       "</tr>\n",
       "<tr>\n",
       "  <th>norm(mileage)</th>              <td>-0.1232</td>  <td>0.0059</td>  <td>-20.7740</td> <td>0.0000</td> <td>-0.1348</td> <td>-0.1115</td>\n",
       "</tr>\n",
       "<tr>\n",
       "  <th>np.power(norm(mileage), 2)</th> <td>0.0124</td>   <td>0.0032</td>   <td>3.8723</td>  <td>0.0001</td> <td>0.0061</td>  <td>0.0187</td> \n",
       "</tr>\n",
       "<tr>\n",
       "  <th>norm(engine_power)</th>         <td>0.1382</td>   <td>0.0074</td>   <td>18.5945</td> <td>0.0000</td> <td>0.1236</td>  <td>0.1527</td> \n",
       "</tr>\n",
       "</table>\n",
       "<table class=\"simpletable\">\n",
       "<tr>\n",
       "     <td>Omnibus:</td>    <td>5217.473</td>  <td>Durbin-Watson:</td>      <td>1.975</td>   \n",
       "</tr>\n",
       "<tr>\n",
       "  <td>Prob(Omnibus):</td>   <td>0.000</td>  <td>Jarque-Bera (JB):</td> <td>3082945.749</td>\n",
       "</tr>\n",
       "<tr>\n",
       "       <td>Skew:</td>      <td>-8.262</td>      <td>Prob(JB):</td>        <td>0.000</td>   \n",
       "</tr>\n",
       "<tr>\n",
       "     <td>Kurtosis:</td>    <td>144.929</td>  <td>Condition No.:</td>       <td>84</td>     \n",
       "</tr>\n",
       "</table>"
      ],
      "text/plain": [
       "<class 'statsmodels.iolib.summary2.Summary'>\n",
       "\"\"\"\n",
       "                      Results: Weighted least squares\n",
       "===========================================================================\n",
       "Model:                 WLS                 Adj. R-squared:        0.715    \n",
       "Dependent Variable:    np.log(price)       AIC:                   1243.2587\n",
       "Date:                  2021-11-14 11:45    BIC:                   1410.5327\n",
       "No. Observations:      3624                Log-Likelihood:        -594.63  \n",
       "Df Model:              26                  F-statistic:           350.5    \n",
       "Df Residuals:          3597                Prob (F-statistic):    0.00     \n",
       "R-squared:             0.717               Scale:                 10.039   \n",
       "---------------------------------------------------------------------------\n",
       "                            Coef.  Std.Err.    t     P>|t|   [0.025  0.975]\n",
       "---------------------------------------------------------------------------\n",
       "Intercept                   9.1324   0.0681 134.1577 0.0000  8.9990  9.2659\n",
       "car_type[T.coupe]          -0.1717   0.0566  -3.0314 0.0025 -0.2828 -0.0607\n",
       "car_type[T.estate]         -0.3383   0.0512  -6.6038 0.0000 -0.4387 -0.2378\n",
       "car_type[T.hatchback]      -0.1458   0.0509  -2.8666 0.0042 -0.2455 -0.0461\n",
       "car_type[T.sedan]          -0.1689   0.0511  -3.3048 0.0010 -0.2690 -0.0687\n",
       "car_type[T.subcompact]     -0.1080   0.0588  -1.8388 0.0660 -0.2232  0.0072\n",
       "car_type[T.suv]            -0.1523   0.0738  -2.0627 0.0392 -0.2970 -0.0075\n",
       "car_type[T.van]            -0.1907   0.1099  -1.7356 0.0827 -0.4062  0.0247\n",
       "feature_1[T.True]           0.0562   0.0100   5.6103 0.0000  0.0366  0.0759\n",
       "feature_2[T.True]           0.1089   0.0172   6.3252 0.0000  0.0751  0.1426\n",
       "feature_4[T.True]           0.0803   0.0142   5.6421 0.0000  0.0524  0.1082\n",
       "feature_5[T.True]           0.0858   0.0100   8.5688 0.0000  0.0662  0.1054\n",
       "feature_6[T.True]           0.0658   0.0106   6.2072 0.0000  0.0450  0.0865\n",
       "feature_7[T.True]           0.1212   0.0446   2.7151 0.0067  0.0337  0.2087\n",
       "feature_8[T.True]           0.0902   0.0105   8.6269 0.0000  0.0697  0.1107\n",
       "model[T.2 series]           0.1814   0.1044   1.7377 0.0823 -0.0233  0.3860\n",
       "model[T.3 series]           0.2330   0.0211  11.0521 0.0000  0.1916  0.2743\n",
       "model[T.4 series]           0.3722   0.0339  10.9758 0.0000  0.3057  0.4387\n",
       "model[T.5 series]           0.3739   0.0247  15.1424 0.0000  0.3255  0.4223\n",
       "model[T.6 series]           0.5416   0.0605   8.9501 0.0000  0.4229  0.6602\n",
       "model[T.7 series]           0.5350   0.0488  10.9623 0.0000  0.4393  0.6307\n",
       "model[T.Other]              0.3655   0.0660   5.5411 0.0000  0.2361  0.4948\n",
       "norm(age)                  -0.1938   0.0093 -20.7561 0.0000 -0.2122 -0.1755\n",
       "np.power(norm(age), 2)     -0.0480   0.0040 -11.9424 0.0000 -0.0559 -0.0401\n",
       "norm(mileage)              -0.1232   0.0059 -20.7740 0.0000 -0.1348 -0.1115\n",
       "np.power(norm(mileage), 2)  0.0124   0.0032   3.8723 0.0001  0.0061  0.0187\n",
       "norm(engine_power)          0.1382   0.0074  18.5945 0.0000  0.1236  0.1527\n",
       "---------------------------------------------------------------------------\n",
       "Omnibus:               5217.473        Durbin-Watson:           1.975      \n",
       "Prob(Omnibus):         0.000           Jarque-Bera (JB):        3082945.749\n",
       "Skew:                  -8.262          Prob(JB):                0.000      \n",
       "Kurtosis:              144.929         Condition No.:           84         \n",
       "===========================================================================\n",
       "\n",
       "\"\"\""
      ]
     },
     "execution_count": 343,
     "metadata": {},
     "output_type": "execute_result"
    }
   ],
   "source": [
    "res_wls_norm.summary2()"
   ]
  },
  {
   "cell_type": "code",
   "execution_count": null,
   "metadata": {},
   "outputs": [],
   "source": []
  },
  {
   "cell_type": "code",
   "execution_count": null,
   "metadata": {},
   "outputs": [],
   "source": []
  },
  {
   "cell_type": "code",
   "execution_count": null,
   "metadata": {},
   "outputs": [],
   "source": []
  },
  {
   "cell_type": "code",
   "execution_count": null,
   "metadata": {},
   "outputs": [],
   "source": []
  },
  {
   "cell_type": "code",
   "execution_count": null,
   "metadata": {},
   "outputs": [],
   "source": []
  },
  {
   "cell_type": "code",
   "execution_count": null,
   "metadata": {},
   "outputs": [],
   "source": []
  },
  {
   "cell_type": "code",
   "execution_count": null,
   "metadata": {},
   "outputs": [],
   "source": []
  },
  {
   "cell_type": "code",
   "execution_count": null,
   "metadata": {},
   "outputs": [],
   "source": []
  },
  {
   "cell_type": "code",
   "execution_count": null,
   "metadata": {},
   "outputs": [],
   "source": []
  },
  {
   "cell_type": "code",
   "execution_count": null,
   "metadata": {},
   "outputs": [],
   "source": []
  },
  {
   "cell_type": "code",
   "execution_count": null,
   "metadata": {},
   "outputs": [],
   "source": []
  },
  {
   "cell_type": "code",
   "execution_count": null,
   "metadata": {},
   "outputs": [],
   "source": []
  },
  {
   "cell_type": "code",
   "execution_count": 179,
   "metadata": {},
   "outputs": [
    {
     "name": "stdout",
     "output_type": "stream",
     "text": [
      "                            OLS Regression Results                            \n",
      "==============================================================================\n",
      "Dep. Variable:          np.log(price)   R-squared:                       0.715\n",
      "Model:                            OLS   Adj. R-squared:                  0.712\n",
      "Method:                 Least Squares   F-statistic:                     346.2\n",
      "Date:                Sat, 13 Nov 2021   Prob (F-statistic):               0.00\n",
      "Time:                        22:28:10   Log-Likelihood:                -1269.9\n",
      "No. Observations:                3624   AIC:                             2594.\n",
      "Df Residuals:                    3597   BIC:                             2761.\n",
      "Df Model:                          26                                         \n",
      "Covariance Type:            nonrobust                                         \n",
      "==============================================================================================\n",
      "                                 coef    std err          t      P>|t|      [0.025      0.975]\n",
      "----------------------------------------------------------------------------------------------\n",
      "Intercept                      9.2346      0.071    129.522      0.000       9.095       9.374\n",
      "car_type[T.coupe]             -0.2332      0.073     -3.206      0.001      -0.376      -0.091\n",
      "car_type[T.estate]            -0.4326      0.066     -6.596      0.000      -0.561      -0.304\n",
      "car_type[T.hatchback]         -0.2394      0.066     -3.636      0.000      -0.369      -0.110\n",
      "car_type[T.sedan]             -0.2596      0.065     -3.963      0.000      -0.388      -0.131\n",
      "car_type[T.subcompact]        -0.2132      0.077     -2.784      0.005      -0.363      -0.063\n",
      "car_type[T.suv]               -0.2516      0.083     -3.021      0.003      -0.415      -0.088\n",
      "car_type[T.van]               -0.3692      0.119     -3.103      0.002      -0.602      -0.136\n",
      "feature_1[T.True]              0.0778      0.014      5.708      0.000       0.051       0.105\n",
      "feature_2[T.True]              0.1401      0.017      8.042      0.000       0.106       0.174\n",
      "feature_4[T.True]              0.0878      0.019      4.674      0.000       0.051       0.125\n",
      "feature_5[T.True]              0.0827      0.014      6.091      0.000       0.056       0.109\n",
      "feature_6[T.True]              0.0632      0.014      4.375      0.000       0.035       0.092\n",
      "feature_7[T.True]              0.1063      0.027      3.986      0.000       0.054       0.159\n",
      "feature_8[T.True]              0.0981      0.014      6.943      0.000       0.070       0.126\n",
      "model[T.2 series]              0.0836      0.110      0.761      0.447      -0.132       0.299\n",
      "model[T.3 series]              0.1912      0.031      6.254      0.000       0.131       0.251\n",
      "model[T.4 series]              0.2876      0.050      5.747      0.000       0.189       0.386\n",
      "model[T.5 series]              0.3123      0.035      8.894      0.000       0.243       0.381\n",
      "model[T.6 series]              0.4331      0.082      5.255      0.000       0.272       0.595\n",
      "model[T.7 series]              0.4374      0.068      6.452      0.000       0.304       0.570\n",
      "model[T.Other]                 0.3159      0.077      4.087      0.000       0.164       0.467\n",
      "norm(age)                     -0.2147      0.011    -19.536      0.000      -0.236      -0.193\n",
      "np.power(norm(age), 2)        -0.0320      0.003    -11.654      0.000      -0.037      -0.027\n",
      "norm(mileage)                 -0.1393      0.008    -18.248      0.000      -0.154      -0.124\n",
      "np.power(norm(mileage), 2)     0.0073      0.002      4.370      0.000       0.004       0.011\n",
      "norm(engine_power)             0.1537      0.008     18.184      0.000       0.137       0.170\n",
      "==============================================================================\n",
      "Omnibus:                     4038.223   Durbin-Watson:                   1.955\n",
      "Prob(Omnibus):                  0.000   Jarque-Bera (JB):           559069.055\n",
      "Skew:                          -5.500   Prob(JB):                         0.00\n",
      "Kurtosis:                      62.845   Cond. No.                         130.\n",
      "==============================================================================\n",
      "\n",
      "Notes:\n",
      "[1] Standard Errors assume that the covariance matrix of the errors is correctly specified.\n"
     ]
    }
   ],
   "source": [
    "def norm(x):\n",
    "    return (x-x.mean())/x.std()\n",
    "\n",
    "top_formula1 = '''\n",
    "np.log(price)~norm(age) + np.power(norm(age),2) + norm(mileage) + np.power(norm(mileage),2)\n",
    "+ norm(engine_power) + car_type + feature_1 + feature_2 +\n",
    "feature_4 + feature_5 + feature_6 + feature_7 + feature_8 + model\n",
    "'''\n",
    "ols = smf.ols(top_formula1, data=df, subset=train_idx)\n",
    "res = ols.fit()\n",
    "print(res.summary())"
   ]
  },
  {
   "cell_type": "code",
   "execution_count": 174,
   "metadata": {},
   "outputs": [
    {
     "name": "stdout",
     "output_type": "stream",
     "text": [
      "R-squared: 0.82\n"
     ]
    }
   ],
   "source": [
    "# Testing R2\n",
    "pred(res, x=df_test, y=df_test.price, log=True)"
   ]
  },
  {
   "cell_type": "code",
   "execution_count": 182,
   "metadata": {},
   "outputs": [
    {
     "data": {
      "text/html": [
       "<div>\n",
       "<style scoped>\n",
       "    .dataframe tbody tr th:only-of-type {\n",
       "        vertical-align: middle;\n",
       "    }\n",
       "\n",
       "    .dataframe tbody tr th {\n",
       "        vertical-align: top;\n",
       "    }\n",
       "\n",
       "    .dataframe thead th {\n",
       "        text-align: right;\n",
       "    }\n",
       "</style>\n",
       "<table border=\"1\" class=\"dataframe\">\n",
       "  <thead>\n",
       "    <tr style=\"text-align: right;\">\n",
       "      <th></th>\n",
       "      <th>F-statistic</th>\n",
       "      <th>p-value</th>\n",
       "      <th>alternative</th>\n",
       "      <th>result</th>\n",
       "    </tr>\n",
       "  </thead>\n",
       "  <tbody>\n",
       "    <tr>\n",
       "      <th>run-seq</th>\n",
       "      <td>0.993106</td>\n",
       "      <td>8.838358e-01</td>\n",
       "      <td>two-sided</td>\n",
       "      <td></td>\n",
       "    </tr>\n",
       "    <tr>\n",
       "      <th>norm(age)</th>\n",
       "      <td>0.486514</td>\n",
       "      <td>2.826148e-51</td>\n",
       "      <td>two-sided</td>\n",
       "      <td>Reject Null Hypothesis</td>\n",
       "    </tr>\n",
       "    <tr>\n",
       "      <th>np.power(norm(age), 2)</th>\n",
       "      <td>1.839339</td>\n",
       "      <td>2.224583e-37</td>\n",
       "      <td>two-sided</td>\n",
       "      <td>Reject Null Hypothesis</td>\n",
       "    </tr>\n",
       "    <tr>\n",
       "      <th>norm(mileage)</th>\n",
       "      <td>1.145255</td>\n",
       "      <td>4.183821e-03</td>\n",
       "      <td>two-sided</td>\n",
       "      <td>Reject Null Hypothesis</td>\n",
       "    </tr>\n",
       "    <tr>\n",
       "      <th>np.power(norm(mileage), 2)</th>\n",
       "      <td>0.738634</td>\n",
       "      <td>1.695056e-10</td>\n",
       "      <td>two-sided</td>\n",
       "      <td>Reject Null Hypothesis</td>\n",
       "    </tr>\n",
       "    <tr>\n",
       "      <th>norm(engine_power)</th>\n",
       "      <td>0.983656</td>\n",
       "      <td>7.277279e-01</td>\n",
       "      <td>two-sided</td>\n",
       "      <td></td>\n",
       "    </tr>\n",
       "  </tbody>\n",
       "</table>\n",
       "</div>"
      ],
      "text/plain": [
       "                            F-statistic       p-value alternative  \\\n",
       "run-seq                        0.993106  8.838358e-01   two-sided   \n",
       "norm(age)                      0.486514  2.826148e-51   two-sided   \n",
       "np.power(norm(age), 2)         1.839339  2.224583e-37   two-sided   \n",
       "norm(mileage)                  1.145255  4.183821e-03   two-sided   \n",
       "np.power(norm(mileage), 2)     0.738634  1.695056e-10   two-sided   \n",
       "norm(engine_power)             0.983656  7.277279e-01   two-sided   \n",
       "\n",
       "                                            result  \n",
       "run-seq                                             \n",
       "norm(age)                   Reject Null Hypothesis  \n",
       "np.power(norm(age), 2)      Reject Null Hypothesis  \n",
       "norm(mileage)               Reject Null Hypothesis  \n",
       "np.power(norm(mileage), 2)  Reject Null Hypothesis  \n",
       "norm(engine_power)                                  "
      ]
     },
     "execution_count": 182,
     "metadata": {},
     "output_type": "execute_result"
    }
   ],
   "source": [
    "GQ_test(ols, 22)"
   ]
  },
  {
   "cell_type": "code",
   "execution_count": null,
   "metadata": {},
   "outputs": [],
   "source": []
  },
  {
   "cell_type": "code",
   "execution_count": null,
   "metadata": {},
   "outputs": [],
   "source": []
  },
  {
   "cell_type": "code",
   "execution_count": null,
   "metadata": {},
   "outputs": [],
   "source": []
  },
  {
   "cell_type": "code",
   "execution_count": null,
   "metadata": {},
   "outputs": [],
   "source": []
  },
  {
   "cell_type": "code",
   "execution_count": null,
   "metadata": {},
   "outputs": [],
   "source": []
  },
  {
   "cell_type": "code",
   "execution_count": null,
   "metadata": {},
   "outputs": [],
   "source": []
  },
  {
   "cell_type": "code",
   "execution_count": null,
   "metadata": {},
   "outputs": [],
   "source": []
  },
  {
   "cell_type": "code",
   "execution_count": null,
   "metadata": {},
   "outputs": [],
   "source": []
  },
  {
   "cell_type": "code",
   "execution_count": null,
   "metadata": {},
   "outputs": [],
   "source": []
  },
  {
   "cell_type": "code",
   "execution_count": 187,
   "metadata": {},
   "outputs": [],
   "source": [
    "def poly(series, degree, raw=False):\n",
    "    assert degree > 1 , 'Degree must be an int greater than 1'\n",
    "    col_name = series.name\n",
    "    tmp = series.to_frame(col_name)\n",
    "    for i in range(2, degree+1):\n",
    "        tmp.insert(i-1, col_name+str(i),tmp[col_name]**i)\n",
    "    if raw:\n",
    "        return tmp\n",
    "    return pd.DataFrame(np.linalg.qr(tmp)[0], columns=tmp.columns)"
   ]
  },
  {
   "cell_type": "code",
   "execution_count": 200,
   "metadata": {},
   "outputs": [
    {
     "name": "stdout",
     "output_type": "stream",
     "text": [
      "                            OLS Regression Results                            \n",
      "==============================================================================\n",
      "Dep. Variable:          np.log(price)   R-squared:                       0.715\n",
      "Model:                            OLS   Adj. R-squared:                  0.712\n",
      "Method:                 Least Squares   F-statistic:                     515.1\n",
      "Date:                Sat, 13 Nov 2021   Prob (F-statistic):               0.00\n",
      "Time:                        22:35:45   Log-Likelihood:                -1269.9\n",
      "No. Observations:                3624   AIC:                             2594.\n",
      "Df Residuals:                    3597   BIC:                             2761.\n",
      "Df Model:                          26                                         \n",
      "Covariance Type:                  HC0                                         \n",
      "=============================================================================================\n",
      "                                coef    std err          z      P>|z|      [0.025      0.975]\n",
      "---------------------------------------------------------------------------------------------\n",
      "Intercept                     9.2346      0.085    108.022      0.000       9.067       9.402\n",
      "car_type[T.coupe]            -0.2332      0.072     -3.249      0.001      -0.374      -0.092\n",
      "car_type[T.estate]           -0.4326      0.069     -6.246      0.000      -0.568      -0.297\n",
      "car_type[T.hatchback]        -0.2394      0.067     -3.558      0.000      -0.371      -0.108\n",
      "car_type[T.sedan]            -0.2596      0.070     -3.683      0.000      -0.398      -0.121\n",
      "car_type[T.subcompact]       -0.2132      0.075     -2.854      0.004      -0.360      -0.067\n",
      "car_type[T.suv]              -0.2516      0.116     -2.176      0.030      -0.478      -0.025\n",
      "car_type[T.van]              -0.3692      0.101     -3.666      0.000      -0.567      -0.172\n",
      "feature_1[T.True]             0.0778      0.011      7.061      0.000       0.056       0.099\n",
      "feature_2[T.True]             0.1401      0.020      7.033      0.000       0.101       0.179\n",
      "feature_4[T.True]             0.0878      0.016      5.408      0.000       0.056       0.120\n",
      "feature_5[T.True]             0.0827      0.012      7.125      0.000       0.060       0.105\n",
      "feature_6[T.True]             0.0632      0.010      6.591      0.000       0.044       0.082\n",
      "feature_7[T.True]             0.1063      0.049      2.191      0.028       0.011       0.201\n",
      "feature_8[T.True]             0.0981      0.016      6.040      0.000       0.066       0.130\n",
      "model[T.2 series]             0.0836      0.075      1.108      0.268      -0.064       0.231\n",
      "model[T.3 series]             0.1912      0.027      7.178      0.000       0.139       0.243\n",
      "model[T.4 series]             0.2876      0.039      7.394      0.000       0.211       0.364\n",
      "model[T.5 series]             0.3123      0.031     10.158      0.000       0.252       0.373\n",
      "model[T.6 series]             0.4331      0.047      9.231      0.000       0.341       0.525\n",
      "model[T.7 series]             0.4374      0.045      9.735      0.000       0.349       0.525\n",
      "model[T.Other]                0.3159      0.077      4.082      0.000       0.164       0.468\n",
      "poly(norm(age), 2)[0]        18.0046      0.670     26.886      0.000      16.692      19.317\n",
      "poly(norm(age), 2)[1]         4.6940      1.400      3.352      0.001       1.950       7.438\n",
      "poly(norm(mileage), 2)[0]     7.8006      0.411     18.971      0.000       6.995       8.606\n",
      "poly(norm(mileage), 2)[1]     1.6207      0.417      3.885      0.000       0.803       2.438\n",
      "norm(engine_power)            0.1537      0.009     16.273      0.000       0.135       0.172\n",
      "==============================================================================\n",
      "Omnibus:                     4038.223   Durbin-Watson:                   1.955\n",
      "Prob(Omnibus):                  0.000   Jarque-Bera (JB):           559069.055\n",
      "Skew:                          -5.500   Prob(JB):                         0.00\n",
      "Kurtosis:                      62.845   Cond. No.                         194.\n",
      "==============================================================================\n",
      "\n",
      "Notes:\n",
      "[1] Standard Errors are heteroscedasticity robust (HC0)\n"
     ]
    }
   ],
   "source": [
    "top_formula1 = '''\n",
    "np.log(price)~poly(norm(age),2) + poly(norm(mileage),2)\n",
    "+ norm(engine_power) + car_type + feature_1 + feature_2 +\n",
    "feature_4 + feature_5 + feature_6 + feature_7 + feature_8 + model\n",
    "'''\n",
    "ols = smf.ols(top_formula1, data=df.iloc[train_idx].reset_index(drop=True), subset=None)\n",
    "res = ols.fit(cov_type='HC0')\n",
    "print(res.summary())"
   ]
  },
  {
   "cell_type": "code",
   "execution_count": 199,
   "metadata": {},
   "outputs": [
    {
     "data": {
      "text/html": [
       "<div>\n",
       "<style scoped>\n",
       "    .dataframe tbody tr th:only-of-type {\n",
       "        vertical-align: middle;\n",
       "    }\n",
       "\n",
       "    .dataframe tbody tr th {\n",
       "        vertical-align: top;\n",
       "    }\n",
       "\n",
       "    .dataframe thead th {\n",
       "        text-align: right;\n",
       "    }\n",
       "</style>\n",
       "<table border=\"1\" class=\"dataframe\">\n",
       "  <thead>\n",
       "    <tr style=\"text-align: right;\">\n",
       "      <th></th>\n",
       "      <th>F-statistic</th>\n",
       "      <th>p-value</th>\n",
       "      <th>alternative</th>\n",
       "      <th>result</th>\n",
       "    </tr>\n",
       "  </thead>\n",
       "  <tbody>\n",
       "    <tr>\n",
       "      <th>run-seq</th>\n",
       "      <td>0.993106</td>\n",
       "      <td>8.838358e-01</td>\n",
       "      <td>two-sided</td>\n",
       "      <td></td>\n",
       "    </tr>\n",
       "    <tr>\n",
       "      <th>poly(norm(age), 2)[0]</th>\n",
       "      <td>1.930345</td>\n",
       "      <td>3.645214e-43</td>\n",
       "      <td>two-sided</td>\n",
       "      <td>Reject Null Hypothesis</td>\n",
       "    </tr>\n",
       "    <tr>\n",
       "      <th>poly(norm(age), 2)[1]</th>\n",
       "      <td>0.481972</td>\n",
       "      <td>1.519994e-52</td>\n",
       "      <td>two-sided</td>\n",
       "      <td>Reject Null Hypothesis</td>\n",
       "    </tr>\n",
       "    <tr>\n",
       "      <th>poly(norm(mileage), 2)[0]</th>\n",
       "      <td>0.873168</td>\n",
       "      <td>4.183821e-03</td>\n",
       "      <td>two-sided</td>\n",
       "      <td>Reject Null Hypothesis</td>\n",
       "    </tr>\n",
       "    <tr>\n",
       "      <th>poly(norm(mileage), 2)[1]</th>\n",
       "      <td>0.914324</td>\n",
       "      <td>5.854952e-02</td>\n",
       "      <td>two-sided</td>\n",
       "      <td></td>\n",
       "    </tr>\n",
       "    <tr>\n",
       "      <th>norm(engine_power)</th>\n",
       "      <td>0.983656</td>\n",
       "      <td>7.277279e-01</td>\n",
       "      <td>two-sided</td>\n",
       "      <td></td>\n",
       "    </tr>\n",
       "  </tbody>\n",
       "</table>\n",
       "</div>"
      ],
      "text/plain": [
       "                           F-statistic       p-value alternative  \\\n",
       "run-seq                       0.993106  8.838358e-01   two-sided   \n",
       "poly(norm(age), 2)[0]         1.930345  3.645214e-43   two-sided   \n",
       "poly(norm(age), 2)[1]         0.481972  1.519994e-52   two-sided   \n",
       "poly(norm(mileage), 2)[0]     0.873168  4.183821e-03   two-sided   \n",
       "poly(norm(mileage), 2)[1]     0.914324  5.854952e-02   two-sided   \n",
       "norm(engine_power)            0.983656  7.277279e-01   two-sided   \n",
       "\n",
       "                                           result  \n",
       "run-seq                                            \n",
       "poly(norm(age), 2)[0]      Reject Null Hypothesis  \n",
       "poly(norm(age), 2)[1]      Reject Null Hypothesis  \n",
       "poly(norm(mileage), 2)[0]  Reject Null Hypothesis  \n",
       "poly(norm(mileage), 2)[1]                          \n",
       "norm(engine_power)                                 "
      ]
     },
     "execution_count": 199,
     "metadata": {},
     "output_type": "execute_result"
    }
   ],
   "source": [
    "GQ_test(ols,22)"
   ]
  },
  {
   "cell_type": "code",
   "execution_count": null,
   "metadata": {},
   "outputs": [],
   "source": []
  },
  {
   "cell_type": "code",
   "execution_count": null,
   "metadata": {},
   "outputs": [],
   "source": []
  },
  {
   "cell_type": "code",
   "execution_count": null,
   "metadata": {},
   "outputs": [],
   "source": []
  },
  {
   "cell_type": "code",
   "execution_count": null,
   "metadata": {},
   "outputs": [],
   "source": []
  },
  {
   "cell_type": "markdown",
   "metadata": {},
   "source": [
    "## 4. Interpreting Regression Results\n",
    "\n",
    "Adj. R-Squared value at 0.902 and Prob(F-statistic) at 3.2e+4, tell that the model is doing a good job explaining the varibility in indepent variable. The coefficents have high t-values and zero associated p-values indicating statistical significane.  \n",
    "\n",
    "\n",
    "### 4.1 Is the Model Valid?\n",
    "\n",
    "To answer this question we need to make sure the model does not violate any of the assumptions in 4.1, So let's group them and sort them from most to least serious.  \n",
    "\n",
    "\n",
    "### 4.1.1 Violations of linearity (Extremely Serious)\n",
    "\n",
    "**First:** Check the correlation between dependent and independent variables. The table below shows strong positive association between Height and Weight across Genders. Which supports linearity in our case (be carefull when using correlation in higher dimensions as it could be misleading)   \n",
    "\n",
    "**Second:**  \n",
    "Plot predicted vs observed: the points should be symmetrically distributed around a diagonal line (figure 1)  \n",
    "Plot predicted vs residuals: the points should be symmetrically distributed around a horizontal line (figure 2)  "
   ]
  },
  {
   "cell_type": "code",
   "execution_count": null,
   "metadata": {},
   "outputs": [],
   "source": [
    "#Correlation between Hieght and Weight across Genders\n",
    "print(\"Corrolation table:\\n\", df_train.groupby('Gender').corr().Height.to_frame().loc[(slice(None),[\"Weight\"]),])"
   ]
  },
  {
   "cell_type": "code",
   "execution_count": null,
   "metadata": {},
   "outputs": [],
   "source": [
    "fig,(ax1,ax2) = plt.subplots(1,2,figsize=(9,4), squeeze=True)\n",
    "fig.suptitle(\"Linearity Assumption\", fontsize=16)\n",
    "ax1.scatter(x=df_train.Weight, y=res.predict(), c=df_train.Gender=='Male', s=0.65, marker='x')\n",
    "ax1.set_title('Figure 1')\n",
    "ax1.set_xlabel('True Weight')\n",
    "ax1.set_ylabel('Predicted Weight')\n",
    "ax2.scatter(x=res.predict(), y= res.resid, c=df_train.Gender=='Male', s=0.65, marker='x')\n",
    "ax2.set_title('Figure 2')\n",
    "ax2.set_xlabel('Predicted Weight')\n",
    "ax2.set_ylabel('Residual')\n",
    "ax2.axhline(0,lw=0.8,c='k',ls=':')\n",
    "plt.show()"
   ]
  },
  {
   "cell_type": "markdown",
   "metadata": {},
   "source": [
    "Our model appears to be linear.\n",
    "\n",
    "### 4.1.2 Violation of Independence (Multicollinearity):\n",
    "\"The independent variables are not random and thers is no exact linear relationship between them\".  \n",
    "Typically spotted when t-tests indicates non of the individual coefficients is significant **while** R-squared and F-statistics are high. We don't have this here.  \n",
    "It can also be present if the **Condition Number** is large, which it is here, but we can ignore this since we have only one continuous variable\n",
    "\n",
    "### 4.1.3 Violations of Homoscedasticity:\n",
    "Heteroskedasticity occures when the variance of the residuals is not constant across observations. There are two methods to detect heteroskedasticity: examining scatter plots of the residuals\n",
    "and using the Breusch-Pagan chi-square $\\chi^2$ test.\n",
    "\n",
    "Visually, scatter plot **residuals vs. predicted** and **residuals vs. one or more independent** varialbe. And look for pattens where residuals grow/shrink as function of predicted values (or time in case of time series)  \n",
    "We've already plotted residuals vs predicted in figure (1) and it seems consistent, so let'look at residuals vs independent variables Height/Gender "
   ]
  },
  {
   "cell_type": "code",
   "execution_count": null,
   "metadata": {},
   "outputs": [],
   "source": [
    "#Breusch_Pagan x^2 tests the hypothesis that the residual variance does NOT depend on the variables in x \n",
    "# It also assums the data has a constant column. So I'm gonna add one \n",
    "# The test cannot read categorical varaiabls without factorization\n",
    "df_train['Const'] = 1\n",
    "df_train['G'],_ = df_train.Gender.factorize()\n",
    "\n",
    "_,_,F,p_value = diagnostic.het_breuschpagan(res.resid, df_train[['Height','G','Const']], robust=False)\n",
    "print(f\"Breusch_Pagan: F-statistic {F}, P-value:{p_value}\")"
   ]
  },
  {
   "cell_type": "code",
   "execution_count": null,
   "metadata": {},
   "outputs": [],
   "source": [
    "fig,ax1 = plt.subplots(1,1,figsize=(6,4), squeeze=True)\n",
    "fig.suptitle(\"Homoscedasticity\", fontsize=16)\n",
    "ax1.scatter(x=df_train.Height, y=res.resid, c=df_train.Gender=='Male', s=1, marker='x')\n",
    "ax1.set_title('Figure 3')\n",
    "ax1.set_xlabel('True Weight')\n",
    "ax1.set_ylabel('Predicted Weight')\n",
    "plt.show()"
   ]
  },
  {
   "cell_type": "markdown",
   "metadata": {},
   "source": [
    "**Conclusion** Breusch_Pagan F-statistic is very small and its p-value is > 0.05. So we fail to reject the null hypothesis that the residuals do NOT depend on x. \n",
    "The scatter plot also confirms thist in the absense of any pattens. Therefore no violation of this assumption\n",
    "\n",
    "### 4.1.4 Serial Correlation:\n",
    "A.K.A autocorrelation, when the residuals are correlated with one another. This is more of a problem in time series data.  \n",
    "To dignose it we look at **Durbin-Watson** number from regression results DW = 2.014. Since it is in the range of (1.5, 2.5) then there is no serial correlation to worry about.\n",
    "\n",
    "### 4.1.5 Normality of Error Terms:\n",
    "If error terms are **NOT** normally distributed then their standard errors and by extension the t-test is not reliable. Which in turns negatively affects the confidence intervals of predictions.  \n",
    "The easiest way to diagnose normlity is to histogram or Q-Q plot the residuals (from `scipy.stats.probplot`). Many of the regression outputs adress normality of $\\epsilon$, like Omnibus, Skew, Kurtosis, Jarque-Bera (details at the end of this notebook)"
   ]
  },
  {
   "cell_type": "code",
   "execution_count": null,
   "metadata": {},
   "outputs": [],
   "source": [
    "fig, (ax1,ax2) = plt.subplots(1,2, figsize=(8,4))\n",
    "ax1.hist(res.resid, color='gold')\n",
    "ax1.set_title('Error Distribution')\n",
    "probplot(res.resid, plot=ax2)\n",
    "ax2.set_title('Q-Q Plot');"
   ]
  },
  {
   "cell_type": "markdown",
   "metadata": {},
   "source": [
    "**Conclusion** error terms appear to be normally distributed \n",
    "### 5.1 Prediction\n"
   ]
  },
  {
   "cell_type": "code",
   "execution_count": null,
   "metadata": {},
   "outputs": [],
   "source": [
    "y_test_pred = res.predict(exog=df_test)\n",
    "test_rsquare= r2_score(df_test.Weight, y_test_pred)\n",
    "print(f\"Test R-squared:{test_rsquare:.3f} \")"
   ]
  },
  {
   "cell_type": "code",
   "execution_count": null,
   "metadata": {},
   "outputs": [],
   "source": [
    "male_mask = np.where(df_test.Gender=='Male', True, False)\n",
    "test_pred = res.get_prediction(df_test)\n",
    "test_summary = test_pred.summary_frame()\n",
    "labels = ['True','Pred','U-band','L-band']\n",
    "fig,(axm, axf) = plt.subplots(1,2,figsize=(10,5))\n",
    "fig.suptitle('Test Set True vs. Prediction', fontsize=15)\n",
    "axm.scatter(df_test[male_mask].Height,df_test[male_mask].Weight, label=labels[0], marker='o',s=1, color='navy')\n",
    "axm.plot(df_test[male_mask].Height, test_summary[male_mask]['mean'], color='b', label=labels[1],lw=0.75)\n",
    "axm.plot(df_test[male_mask].Height, test_summary[male_mask]['obs_ci_lower'], 'b:', label=labels[2],lw=0.75)\n",
    "axm.plot(df_test[male_mask].Height, test_summary[male_mask]['obs_ci_upper'], 'b:', label=labels[3],lw=0.75)\n",
    "axm.set_title('Male')\n",
    "\n",
    "axf.scatter(df_test[~male_mask].Height,df_test[~male_mask].Weight, s=1,marker='x',color='gold',label=labels[0])\n",
    "axf.plot(df_test[~male_mask].Height, test_summary[~male_mask]['mean'], color='red', label=labels[1],lw=0.5)\n",
    "axf.plot(df_test[~male_mask].Height, test_summary[~male_mask]['obs_ci_lower'], 'k--', label=labels[2],lw=0.5, alpha=0.5)\n",
    "axf.plot(df_test[~male_mask].Height, test_summary[~male_mask]['obs_ci_upper'], 'k--', label=labels[3],lw=0.5, alpha=0.5)\n",
    "axf.set_title('Female')\n",
    "axf.legend()\n",
    "axm.legend();"
   ]
  },
  {
   "cell_type": "markdown",
   "metadata": {},
   "source": [
    "# Appendex\n",
    "Here's a quick definition of each of the regression output statistics and their use\n",
    "\n",
    "# Definitions\n",
    "\n",
    "### Bias of Estimator\n",
    "What is bias estimator: bias is a measure of the differnce between the estimator's expected value and the true value of the parameter being estimated (e.g coefficient)\n",
    "### Efficiency of Estimator\n",
    "An efficient estimator is the 'best possible' estimator of parameter of interest that minimizes the loss function. In linear regression it's the parameter that provided the minimum variance\n",
    "\n",
    "#### 7.1 R-squared\n",
    "R-squared/Adj.R-squared: 90.4% of variability in dependent variable can be explained by the independed variables. This is high enough for training set, but let's see how well the model deals with data it hasn't seen (test_set)\n",
    "Test R-squared at 90.5% is as high as train R-squared, which means the model generalizes well\n",
    "\n",
    "\n",
    "#### 7.2 F-statistic|Prob(F)\n",
    "It tests how well the independent variables as a group explain the variations of the dependent variable (i.e. tests the null hypothesis $H_0: \\beta_1=\\beta_2=\\dots \\beta_n=0$   \n",
    "P-value of F-statistic, or the probability of type I error (observation happenning giving the null hypothesis is true)  \n",
    "In this case F-statistic is very large and Prob(F) is zero, which is great!  \n",
    "\n",
    "#### 7.3 AIC:\n",
    "The Akaike Information Criterion (AIC) measures overfit. It rewards the model for goodness-of-fit and penalize it if the model becomes overly complicated  \n",
    "In this case AIC is large, which is good!  \n",
    "\n",
    "#### 7.4 Omnibus/Prob(Omnibus):\n",
    "Omnibus tests the skewness and kurtosis of the residuals.  \n",
    "**closer to zero the better***  \n",
    "Prob(Omnibus):tests the probability the residuals are normally distributed.  \n",
    "**The closer to one the better***  \n",
    "\n",
    "In this case Omnibus is relatively hight and the Prob (Omnibus) is relatively low so the data is far from normal. A linear regression approach would probably be better than random guessing but likely not as good as a nonlinear approach.  \n",
    "\n",
    "#### 7.5 Skew \n",
    "Measures data symmetry. We want to see something close to zero, indicating the residual distribution is normal. Note that this value also drives the Omnibus.  \n",
    "**The closer to zero the better***   \n",
    "\n",
    "#### 7.6 Kurtosis\n",
    "Measure of \"peakiness\", or curvature of the data. Higher peaks lead to greater Kurtosis. Greater Kurtosis can be interpreted as a tighter clustering of residuals around zero, implying a better model with few outliers.  \n",
    "**The higher the better**  \n",
    "\n",
    "#### 7.7 Durbin-Watson\n",
    "Tests for serial correlation. We hope to have a value between 1.5 and 2.5. In this case, the data is close, but within limits.  \n",
    "\n",
    "#### 7.8 Jarque-Bera (JB)/Prob(JB)\n",
    "like the Omnibus test in that it tests both skew and kurtosis. We hope to see in this test a confirmation of the Omnibus test.   \n",
    "\n",
    "#### 7.9 Condition Number\n",
    "Measures the sensitivity of a function's output as compared to its input. When we have multicollinearity, we can expect much higher fluctuations to small changes in the data, hence, we hope to see a relatively small number, something below 30.  \n",
    "**The smaller below 30 the better**\n",
    "\n",
    "\n",
    "Good reading on regression violations and how to correct them:  \n",
    "https://people.duke.edu/~rnau/testing.htm\n",
    "\n",
    "#### 7.10 Outliers\n",
    "\n",
    "The below code is another way to identify outliers using`statsmodels` library. It has many options to calculate them. That said, I still don't think there is a need to exclude any observation from this particular dataset"
   ]
  },
  {
   "cell_type": "code",
   "execution_count": null,
   "metadata": {},
   "outputs": [],
   "source": [
    "\"\"\"\n",
    "Outlier detection methods:\n",
    "- 'bonferroni` : one-step correction\n",
    "- `sidak` : one-step correction\n",
    "- `holm-sidak` :\n",
    "- `holm` :\n",
    "- `simes-hochberg` :\n",
    "- `hommel` :\n",
    "- `fdr_bh` : Benjamini/Hochberg\n",
    "- `fdr_by` : Benjamini/Yekutieli\n",
    "\"\"\"\n",
    "outliers = res.outlier_test('bonf')\n",
    "outidx = outliers[outliers.iloc[:,-1] < 0.99].index\n",
    "outliers.loc[outidx]\n",
    "\n",
    "fig= plt.figure(figsize=(6,4))\n",
    "plt.scatter(df_train.Height, df_train.Weight, c=df_train.Gender.values=='Male', s=0.7)\n",
    "plt.scatter(df_train.loc[outidx].Height, df_train.loc[outidx].Weight, c=df_train.loc[outidx].Gender.values=='Male', marker='<',cmap='flag');"
   ]
  },
  {
   "cell_type": "code",
   "execution_count": null,
   "metadata": {},
   "outputs": [],
   "source": [
    "import statsmodels.api as sm"
   ]
  },
  {
   "cell_type": "code",
   "execution_count": null,
   "metadata": {},
   "outputs": [],
   "source": [
    "df.head()"
   ]
  },
  {
   "cell_type": "code",
   "execution_count": null,
   "metadata": {},
   "outputs": [],
   "source": [
    "fig = plt.figure(figsize=(12,12))\n",
    "sns.heatmap(df.corr(), annot=True, ax = fig.add_subplot(111))"
   ]
  },
  {
   "cell_type": "code",
   "execution_count": null,
   "metadata": {},
   "outputs": [],
   "source": [
    "from patsy import patsy, dmatrix"
   ]
  },
  {
   "cell_type": "code",
   "execution_count": null,
   "metadata": {},
   "outputs": [],
   "source": [
    "df.fuel.unique()"
   ]
  },
  {
   "cell_type": "code",
   "execution_count": null,
   "metadata": {},
   "outputs": [],
   "source": [
    "l = df.fuel.unique()\n",
    "l1 = df.paint_color.unique()\n",
    "dmatrix('~-1+C(paint_color, levels=l1)', df)"
   ]
  },
  {
   "cell_type": "code",
   "execution_count": null,
   "metadata": {},
   "outputs": [],
   "source": [
    "np.asarray(ob).shape"
   ]
  },
  {
   "cell_type": "code",
   "execution_count": null,
   "metadata": {},
   "outputs": [],
   "source": [
    "len(l1)"
   ]
  },
  {
   "cell_type": "code",
   "execution_count": null,
   "metadata": {},
   "outputs": [],
   "source": [
    "np.unique(df.fuel.factorize()[0])"
   ]
  },
  {
   "cell_type": "code",
   "execution_count": null,
   "metadata": {},
   "outputs": [],
   "source": [
    "from sklearn.preprocessing import OneHotEncoder"
   ]
  },
  {
   "cell_type": "code",
   "execution_count": null,
   "metadata": {},
   "outputs": [],
   "source": [
    "enc = OneHotEncoder(drop='first')\n",
    "enc.fit_transform(df[['fuel','paint_color']]).toarray()"
   ]
  },
  {
   "cell_type": "code",
   "execution_count": null,
   "metadata": {},
   "outputs": [],
   "source": [
    "enc.get_feature_names()"
   ]
  },
  {
   "cell_type": "code",
   "execution_count": null,
   "metadata": {},
   "outputs": [],
   "source": [
    "df.groupby('paint_color').size().plot(kind='bar')"
   ]
  },
  {
   "cell_type": "code",
   "execution_count": null,
   "metadata": {},
   "outputs": [],
   "source": [
    "df['color'] = np.select([df.paint_color=='silver',df.paint_color=='white',df.paint_color=='')"
   ]
  },
  {
   "cell_type": "markdown",
   "metadata": {},
   "source": [
    "Our project pipeline should be as follows:\n",
    "1. Ask the right question\n",
    "2. Read & clean the data: \n",
    " - Examine data types; which variables are continuous and which are categorical. Look for corrupt/missing values, outliers, imbalance across $y$ and $x$\n",
    " - Scatter plot continuous $y,x$: this will help spot the relationship between them \n",
    " - Plot histograms continuous $y,x$: look for normality. This will help you know what to expect!\n",
    " - Examin categorical data: counts, dummy trap\n",
    "3. Based on the spotted relationship, choose a model to use (linear, log-linear, quadratic..etc). Try to answer the following questions:\n",
    " - What value/s can $y$ take (positive, negative, or zero)?\n",
    " - Can a tranformed varialbe do a better job (polynomial, interaction, intercept indicator, slope indicator or both)\n",
    " - What should the signs of the coefficients be (positive, negative)?\n",
    "4. Build the model and examine results:\n",
    " - Are the coefficients statistically significant?\n",
    " - Do they have the signs you'd expected?\n",
    " - Make sense of the coefficients irrespective of their significance. Adjust if needed. **For example**: ask the question does the sign/value/p-value of a coefficient make economic sense?\n",
    "5. Now that you've built the model and adjusted parameters, run a goodness-of-fit to make sure the model doesn't violate any of the assumptions of linear regressions (4.1 for details) :\n",
    " - Linearity\n",
    " - Independence (of $x$): is there a multicollinearity\n",
    " - Homoscadasticity of $\\epsilon$: Breusch–Pagan test.\n",
    " - No autocorrelation of $\\epsilon$: Durbin-Watson test \n",
    " - Normality of $\\epsilon$: Shapiro-Wilk Test for normality,Q-Q plot, histogram \n",
    "6. If the model is invalid, try another formula and repeat from step 4. \n",
    "7. Make sure the residuals are 1) normally distribution 2) have constant variance 3) independent 4) not serially correlated.\n",
    "8. Predict values and calculate their intervals. Try to set aside a slice of your data to test with, or we can mock up test data if possible! \n",
    "9. Make sure the predictions make economic sense "
   ]
  },
  {
   "cell_type": "code",
   "execution_count": null,
   "metadata": {},
   "outputs": [],
   "source": []
  }
 ],
 "metadata": {
  "interpreter": {
   "hash": "5db6df7484f9dab4a6f2a688c35fb9c3b9e9e3ad5089f2125bd3aaac559607e3"
  },
  "kernelspec": {
   "display_name": "Python 3",
   "language": "python",
   "name": "python3"
  },
  "language_info": {
   "codemirror_mode": {
    "name": "ipython",
    "version": 3
   },
   "file_extension": ".py",
   "mimetype": "text/x-python",
   "name": "python",
   "nbconvert_exporter": "python",
   "pygments_lexer": "ipython3",
   "version": "3.9.6"
  }
 },
 "nbformat": 4,
 "nbformat_minor": 4
}
