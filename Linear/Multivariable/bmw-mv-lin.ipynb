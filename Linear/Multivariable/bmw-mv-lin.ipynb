{
 "cells": [
  {
   "cell_type": "markdown",
   "id": "3ee95522",
   "metadata": {
    "papermill": {
     "duration": 0.056364,
     "end_time": "2021-11-15T15:50:56.039659",
     "exception": false,
     "start_time": "2021-11-15T15:50:55.983295",
     "status": "completed"
    },
    "tags": []
   },
   "source": [
    "# Introduction:\n",
    "\n",
    "This notebook is a practical example of the steps taken in multivariate linear regression. I tried to be as generic as possible, but in reality, every dataset is unique and requires a slightly different treatment. If you noticed any missing or unnecessary steps don't hesitate to leave a comment :) \n",
    "\n",
    "Let's denote the dependent variable as $Y$, and the independent variables (features) $X ~ (x_1, x_2\\dots x_n)$.  \n",
    " \n",
    "\n",
    "# 1. Ask the Right Question:\n",
    "   \n",
    "The first and foremost is to state the objective of the analysis and be very clear about it. Here we're building a model to predict the price of used BMW given a list of features (age, mileage, color...etc)  \n",
    "Let's begin by importing the libraries needed. I kept the libraries in a `txt` file so the notebook is tidy!"
   ]
  },
  {
   "cell_type": "code",
   "execution_count": 46,
   "id": "e54a5a43",
   "metadata": {
    "execution": {
     "iopub.execute_input": "2021-11-15T15:50:56.147484Z",
     "iopub.status.busy": "2021-11-15T15:50:56.146211Z",
     "iopub.status.idle": "2021-11-15T15:51:00.760795Z",
     "shell.execute_reply": "2021-11-15T15:51:00.761365Z",
     "shell.execute_reply.started": "2021-11-14T23:06:13.007284Z"
    },
    "papermill": {
     "duration": 4.669816,
     "end_time": "2021-11-15T15:51:00.761675",
     "exception": false,
     "start_time": "2021-11-15T15:50:56.091859",
     "status": "completed"
    },
    "tags": []
   },
   "outputs": [],
   "source": [
    "import os\n",
    "import numpy as np # linear algebra\n",
    "from numpy.linalg import inv, det\n",
    "import pandas as pd # data processing, CSV file I/O (e.g. pd.read_csv)\n",
    "import scipy.stats as st\n",
    "\n",
    "import statsmodels.api as sm\n",
    "import statsmodels.formula.api as smf\n",
    "from statsmodels.stats import diagnostic\n",
    "from statsmodels.stats.outliers_influence import variance_inflation_factor\n",
    "from statsmodels.graphics.tsaplots import plot_acf\n",
    "from patsy import dmatrix\n",
    "\n",
    "from sklearn.model_selection import train_test_split\n",
    "from sklearn.metrics import r2_score\n",
    "\n",
    "\n",
    "import plotly.express as px\n",
    "import plotly.graph_objs as go\n",
    "import plotly.figure_factory as ff\n",
    "from plotly.subplots import make_subplots\n",
    "import plotly.io as pio \n",
    "\n",
    "import seaborn as sns\n",
    "import matplotlib.pyplot as plt\n",
    "\n",
    "np.random.seed(125)\n",
    "pio.templates.default = 'none'\n",
    "pio.renderers.default='iframe'"
   ]
  },
  {
   "cell_type": "code",
   "execution_count": 2,
   "id": "9ca7df10",
   "metadata": {
    "execution": {
     "iopub.execute_input": "2021-11-15T15:51:00.868384Z",
     "iopub.status.busy": "2021-11-15T15:51:00.867724Z",
     "iopub.status.idle": "2021-11-15T15:51:00.872733Z",
     "shell.execute_reply": "2021-11-15T15:51:00.873211Z",
     "shell.execute_reply.started": "2021-11-14T23:06:17.419626Z"
    },
    "papermill": {
     "duration": 0.060207,
     "end_time": "2021-11-15T15:51:00.873388",
     "exception": false,
     "start_time": "2021-11-15T15:51:00.813181",
     "status": "completed"
    },
    "tags": []
   },
   "outputs": [],
   "source": [
    "%matplotlib inline"
   ]
  },
  {
   "cell_type": "markdown",
   "id": "582b2c25",
   "metadata": {
    "papermill": {
     "duration": 0.050912,
     "end_time": "2021-11-15T15:51:00.976787",
     "exception": false,
     "start_time": "2021-11-15T15:51:00.925875",
     "status": "completed"
    },
    "tags": []
   },
   "source": [
    "# 2. Read & Clean Data:\n",
    "The second step is to gather data. But in our case we're using a ready multivariate dataset that contains selling prices of +4800 used BMW cars and their models, mileage, color, fuel type...etc"
   ]
  },
  {
   "cell_type": "code",
   "execution_count": 3,
   "id": "04c89776",
   "metadata": {
    "execution": {
     "iopub.execute_input": "2021-11-15T15:51:01.085176Z",
     "iopub.status.busy": "2021-11-15T15:51:01.084413Z",
     "iopub.status.idle": "2021-11-15T15:51:01.174744Z",
     "shell.execute_reply": "2021-11-15T15:51:01.175269Z",
     "shell.execute_reply.started": "2021-11-14T23:06:17.428382Z"
    },
    "papermill": {
     "duration": 0.145967,
     "end_time": "2021-11-15T15:51:01.175451",
     "exception": false,
     "start_time": "2021-11-15T15:51:01.029484",
     "status": "completed"
    },
    "scrolled": true,
    "tags": []
   },
   "outputs": [
    {
     "data": {
      "text/html": [
       "<div>\n",
       "<style scoped>\n",
       "    .dataframe tbody tr th:only-of-type {\n",
       "        vertical-align: middle;\n",
       "    }\n",
       "\n",
       "    .dataframe tbody tr th {\n",
       "        vertical-align: top;\n",
       "    }\n",
       "\n",
       "    .dataframe thead th {\n",
       "        text-align: right;\n",
       "    }\n",
       "</style>\n",
       "<table border=\"1\" class=\"dataframe\">\n",
       "  <thead>\n",
       "    <tr style=\"text-align: right;\">\n",
       "      <th></th>\n",
       "      <th>maker_key</th>\n",
       "      <th>model_key</th>\n",
       "      <th>mileage</th>\n",
       "      <th>engine_power</th>\n",
       "      <th>registration_date</th>\n",
       "      <th>fuel</th>\n",
       "      <th>paint_color</th>\n",
       "      <th>car_type</th>\n",
       "      <th>feature_1</th>\n",
       "      <th>feature_2</th>\n",
       "      <th>feature_3</th>\n",
       "      <th>feature_4</th>\n",
       "      <th>feature_5</th>\n",
       "      <th>feature_6</th>\n",
       "      <th>feature_7</th>\n",
       "      <th>feature_8</th>\n",
       "      <th>price</th>\n",
       "      <th>sold_at</th>\n",
       "    </tr>\n",
       "  </thead>\n",
       "  <tbody>\n",
       "    <tr>\n",
       "      <th>0</th>\n",
       "      <td>BMW</td>\n",
       "      <td>118</td>\n",
       "      <td>140411</td>\n",
       "      <td>100</td>\n",
       "      <td>2012-02-01</td>\n",
       "      <td>diesel</td>\n",
       "      <td>black</td>\n",
       "      <td>convertible</td>\n",
       "      <td>True</td>\n",
       "      <td>True</td>\n",
       "      <td>False</td>\n",
       "      <td>False</td>\n",
       "      <td>True</td>\n",
       "      <td>True</td>\n",
       "      <td>True</td>\n",
       "      <td>False</td>\n",
       "      <td>11300</td>\n",
       "      <td>2018-01-01</td>\n",
       "    </tr>\n",
       "    <tr>\n",
       "      <th>1</th>\n",
       "      <td>BMW</td>\n",
       "      <td>M4</td>\n",
       "      <td>13929</td>\n",
       "      <td>317</td>\n",
       "      <td>2016-04-01</td>\n",
       "      <td>petrol</td>\n",
       "      <td>grey</td>\n",
       "      <td>convertible</td>\n",
       "      <td>True</td>\n",
       "      <td>True</td>\n",
       "      <td>False</td>\n",
       "      <td>False</td>\n",
       "      <td>False</td>\n",
       "      <td>True</td>\n",
       "      <td>True</td>\n",
       "      <td>True</td>\n",
       "      <td>69700</td>\n",
       "      <td>2018-02-01</td>\n",
       "    </tr>\n",
       "    <tr>\n",
       "      <th>2</th>\n",
       "      <td>BMW</td>\n",
       "      <td>320</td>\n",
       "      <td>183297</td>\n",
       "      <td>120</td>\n",
       "      <td>2012-04-01</td>\n",
       "      <td>diesel</td>\n",
       "      <td>white</td>\n",
       "      <td>convertible</td>\n",
       "      <td>False</td>\n",
       "      <td>False</td>\n",
       "      <td>False</td>\n",
       "      <td>False</td>\n",
       "      <td>True</td>\n",
       "      <td>False</td>\n",
       "      <td>True</td>\n",
       "      <td>False</td>\n",
       "      <td>10200</td>\n",
       "      <td>2018-02-01</td>\n",
       "    </tr>\n",
       "  </tbody>\n",
       "</table>\n",
       "</div>"
      ],
      "text/plain": [
       "  maker_key model_key  mileage  engine_power registration_date    fuel  \\\n",
       "0       BMW       118   140411           100        2012-02-01  diesel   \n",
       "1       BMW        M4    13929           317        2016-04-01  petrol   \n",
       "2       BMW       320   183297           120        2012-04-01  diesel   \n",
       "\n",
       "  paint_color     car_type  feature_1  feature_2  feature_3  feature_4  \\\n",
       "0       black  convertible       True       True      False      False   \n",
       "1        grey  convertible       True       True      False      False   \n",
       "2       white  convertible      False      False      False      False   \n",
       "\n",
       "   feature_5  feature_6  feature_7  feature_8  price    sold_at  \n",
       "0       True       True       True      False  11300 2018-01-01  \n",
       "1      False       True       True       True  69700 2018-02-01  \n",
       "2       True      False       True      False  10200 2018-02-01  "
      ]
     },
     "execution_count": 3,
     "metadata": {},
     "output_type": "execute_result"
    }
   ],
   "source": [
    "filename = 'bmw_pricing_challenge.csv'\n",
    "dirname = '.'\n",
    "\n",
    "df = pd.read_csv(os.path.join(dirname, filename), parse_dates=['registration_date','sold_at'])\n",
    "df.head(3)"
   ]
  },
  {
   "cell_type": "markdown",
   "id": "c75735c3",
   "metadata": {
    "papermill": {
     "duration": 0.051653,
     "end_time": "2021-11-15T15:51:01.341873",
     "exception": false,
     "start_time": "2021-11-15T15:51:01.290220",
     "status": "completed"
    },
    "tags": []
   },
   "source": [
    "## 2.1 Examin data types & corrupt data:\n",
    "\n",
    "Looking at the table above I noticed the following:\n",
    "- There are 12 categorical and 3 continuous variables (including the dependent variable)\n",
    "- We can calculate the age of each car at the time of sale from the two date fields `registration_date` and `sold_at`\n",
    "- I think the car's model is relevant when it comes to predicting price. But the `model_key` column has way too many categories, so I'm going to combine them into fewer values in a new field using the BMW series model."
   ]
  },
  {
   "cell_type": "code",
   "execution_count": 4,
   "id": "70fa4889",
   "metadata": {
    "execution": {
     "iopub.execute_input": "2021-11-15T15:51:01.452764Z",
     "iopub.status.busy": "2021-11-15T15:51:01.447943Z",
     "iopub.status.idle": "2021-11-15T15:51:01.456675Z",
     "shell.execute_reply": "2021-11-15T15:51:01.457270Z",
     "shell.execute_reply.started": "2021-11-14T23:06:17.520789Z"
    },
    "papermill": {
     "duration": 0.064024,
     "end_time": "2021-11-15T15:51:01.457456",
     "exception": false,
     "start_time": "2021-11-15T15:51:01.393432",
     "status": "completed"
    },
    "scrolled": true,
    "tags": []
   },
   "outputs": [],
   "source": [
    "#Calculate age ~ the time in years between registering the car and selling it\n",
    "df['age'] = (df.sold_at - df.registration_date).dt.days / 365\n",
    "\n",
    "\n",
    "#Assign categorical variables\n",
    "cat_cols = ['model_key', 'fuel','paint_color','car_type',\n",
    "            'feature_1','feature_2','feature_3','feature_4',\n",
    "            'feature_5','feature_6','feature_7','feature_8']\n",
    "cont_cols = ['mileage','engine_power','price','age']"
   ]
  },
  {
   "cell_type": "markdown",
   "id": "ae234fd8",
   "metadata": {
    "papermill": {
     "duration": 0.052109,
     "end_time": "2021-11-15T15:51:01.562063",
     "exception": false,
     "start_time": "2021-11-15T15:51:01.509954",
     "status": "completed"
    },
    "tags": []
   },
   "source": [
    "The next step is to examine the continuous $X$ and $Y$ variables:"
   ]
  },
  {
   "cell_type": "code",
   "execution_count": 5,
   "id": "f50878ae",
   "metadata": {
    "execution": {
     "iopub.execute_input": "2021-11-15T15:51:01.670914Z",
     "iopub.status.busy": "2021-11-15T15:51:01.670127Z",
     "iopub.status.idle": "2021-11-15T15:51:01.699198Z",
     "shell.execute_reply": "2021-11-15T15:51:01.699769Z",
     "shell.execute_reply.started": "2021-11-14T23:06:17.534708Z"
    },
    "papermill": {
     "duration": 0.085743,
     "end_time": "2021-11-15T15:51:01.699946",
     "exception": false,
     "start_time": "2021-11-15T15:51:01.614203",
     "status": "completed"
    },
    "tags": []
   },
   "outputs": [
    {
     "data": {
      "text/html": [
       "<div>\n",
       "<style scoped>\n",
       "    .dataframe tbody tr th:only-of-type {\n",
       "        vertical-align: middle;\n",
       "    }\n",
       "\n",
       "    .dataframe tbody tr th {\n",
       "        vertical-align: top;\n",
       "    }\n",
       "\n",
       "    .dataframe thead th {\n",
       "        text-align: right;\n",
       "    }\n",
       "</style>\n",
       "<table border=\"1\" class=\"dataframe\">\n",
       "  <thead>\n",
       "    <tr style=\"text-align: right;\">\n",
       "      <th></th>\n",
       "      <th>mileage</th>\n",
       "      <th>engine_power</th>\n",
       "      <th>price</th>\n",
       "      <th>age</th>\n",
       "    </tr>\n",
       "  </thead>\n",
       "  <tbody>\n",
       "    <tr>\n",
       "      <th>count</th>\n",
       "      <td>4.843000e+03</td>\n",
       "      <td>4843.00000</td>\n",
       "      <td>4843.000000</td>\n",
       "      <td>4843.000000</td>\n",
       "    </tr>\n",
       "    <tr>\n",
       "      <th>mean</th>\n",
       "      <td>1.409628e+05</td>\n",
       "      <td>128.98823</td>\n",
       "      <td>15828.081767</td>\n",
       "      <td>5.434862</td>\n",
       "    </tr>\n",
       "    <tr>\n",
       "      <th>std</th>\n",
       "      <td>6.019674e+04</td>\n",
       "      <td>38.99336</td>\n",
       "      <td>9220.285684</td>\n",
       "      <td>2.540489</td>\n",
       "    </tr>\n",
       "    <tr>\n",
       "      <th>min</th>\n",
       "      <td>-6.400000e+01</td>\n",
       "      <td>0.00000</td>\n",
       "      <td>100.000000</td>\n",
       "      <td>0.589041</td>\n",
       "    </tr>\n",
       "    <tr>\n",
       "      <th>25%</th>\n",
       "      <td>1.029135e+05</td>\n",
       "      <td>100.00000</td>\n",
       "      <td>10800.000000</td>\n",
       "      <td>4.079452</td>\n",
       "    </tr>\n",
       "    <tr>\n",
       "      <th>50%</th>\n",
       "      <td>1.410800e+05</td>\n",
       "      <td>120.00000</td>\n",
       "      <td>14200.000000</td>\n",
       "      <td>4.835616</td>\n",
       "    </tr>\n",
       "    <tr>\n",
       "      <th>75%</th>\n",
       "      <td>1.751955e+05</td>\n",
       "      <td>135.00000</td>\n",
       "      <td>18600.000000</td>\n",
       "      <td>5.835616</td>\n",
       "    </tr>\n",
       "    <tr>\n",
       "      <th>max</th>\n",
       "      <td>1.000376e+06</td>\n",
       "      <td>423.00000</td>\n",
       "      <td>178500.000000</td>\n",
       "      <td>28.104110</td>\n",
       "    </tr>\n",
       "  </tbody>\n",
       "</table>\n",
       "</div>"
      ],
      "text/plain": [
       "            mileage  engine_power          price          age\n",
       "count  4.843000e+03    4843.00000    4843.000000  4843.000000\n",
       "mean   1.409628e+05     128.98823   15828.081767     5.434862\n",
       "std    6.019674e+04      38.99336    9220.285684     2.540489\n",
       "min   -6.400000e+01       0.00000     100.000000     0.589041\n",
       "25%    1.029135e+05     100.00000   10800.000000     4.079452\n",
       "50%    1.410800e+05     120.00000   14200.000000     4.835616\n",
       "75%    1.751955e+05     135.00000   18600.000000     5.835616\n",
       "max    1.000376e+06     423.00000  178500.000000    28.104110"
      ]
     },
     "execution_count": 5,
     "metadata": {},
     "output_type": "execute_result"
    }
   ],
   "source": [
    "df[cont_cols].describe()"
   ]
  },
  {
   "cell_type": "markdown",
   "id": "ef24790e",
   "metadata": {
    "papermill": {
     "duration": 0.053481,
     "end_time": "2021-11-15T15:51:01.806129",
     "exception": false,
     "start_time": "2021-11-15T15:51:01.752648",
     "status": "completed"
    },
    "tags": []
   },
   "source": [
    "Right off the bat, mileage cannot be negative and engine power can't be zero! So let's fix them assuming this was a data-gathering error "
   ]
  },
  {
   "cell_type": "code",
   "execution_count": 6,
   "id": "4befe15b",
   "metadata": {
    "execution": {
     "iopub.execute_input": "2021-11-15T15:51:01.915810Z",
     "iopub.status.busy": "2021-11-15T15:51:01.915129Z",
     "iopub.status.idle": "2021-11-15T15:51:01.923588Z",
     "shell.execute_reply": "2021-11-15T15:51:01.924139Z",
     "shell.execute_reply.started": "2021-11-14T23:06:17.572017Z"
    },
    "papermill": {
     "duration": 0.065368,
     "end_time": "2021-11-15T15:51:01.924327",
     "exception": false,
     "start_time": "2021-11-15T15:51:01.858959",
     "status": "completed"
    },
    "tags": []
   },
   "outputs": [],
   "source": [
    "# change the sign of mileage to positive\n",
    "\n",
    "df.mileage = df.mileage.apply(lambda x: abs(x))"
   ]
  },
  {
   "cell_type": "code",
   "execution_count": 7,
   "id": "5531de9e",
   "metadata": {
    "execution": {
     "iopub.execute_input": "2021-11-15T15:51:02.034096Z",
     "iopub.status.busy": "2021-11-15T15:51:02.033402Z",
     "iopub.status.idle": "2021-11-15T15:51:02.052042Z",
     "shell.execute_reply": "2021-11-15T15:51:02.052567Z",
     "shell.execute_reply.started": "2021-11-14T23:06:17.583642Z"
    },
    "papermill": {
     "duration": 0.075999,
     "end_time": "2021-11-15T15:51:02.052754",
     "exception": false,
     "start_time": "2021-11-15T15:51:01.976755",
     "status": "completed"
    },
    "tags": []
   },
   "outputs": [
    {
     "data": {
      "text/html": [
       "<div>\n",
       "<style scoped>\n",
       "    .dataframe tbody tr th:only-of-type {\n",
       "        vertical-align: middle;\n",
       "    }\n",
       "\n",
       "    .dataframe tbody tr th {\n",
       "        vertical-align: top;\n",
       "    }\n",
       "\n",
       "    .dataframe thead th {\n",
       "        text-align: right;\n",
       "    }\n",
       "</style>\n",
       "<table border=\"1\" class=\"dataframe\">\n",
       "  <thead>\n",
       "    <tr style=\"text-align: right;\">\n",
       "      <th></th>\n",
       "      <th>maker_key</th>\n",
       "      <th>model_key</th>\n",
       "      <th>mileage</th>\n",
       "      <th>engine_power</th>\n",
       "      <th>registration_date</th>\n",
       "      <th>fuel</th>\n",
       "      <th>paint_color</th>\n",
       "      <th>car_type</th>\n",
       "      <th>feature_1</th>\n",
       "      <th>feature_2</th>\n",
       "      <th>feature_3</th>\n",
       "      <th>feature_4</th>\n",
       "      <th>feature_5</th>\n",
       "      <th>feature_6</th>\n",
       "      <th>feature_7</th>\n",
       "      <th>feature_8</th>\n",
       "      <th>price</th>\n",
       "      <th>sold_at</th>\n",
       "      <th>age</th>\n",
       "    </tr>\n",
       "  </thead>\n",
       "  <tbody>\n",
       "    <tr>\n",
       "      <th>3765</th>\n",
       "      <td>BMW</td>\n",
       "      <td>X1</td>\n",
       "      <td>81770</td>\n",
       "      <td>0</td>\n",
       "      <td>2014-10-01</td>\n",
       "      <td>diesel</td>\n",
       "      <td>white</td>\n",
       "      <td>suv</td>\n",
       "      <td>False</td>\n",
       "      <td>False</td>\n",
       "      <td>False</td>\n",
       "      <td>False</td>\n",
       "      <td>False</td>\n",
       "      <td>False</td>\n",
       "      <td>False</td>\n",
       "      <td>False</td>\n",
       "      <td>11700</td>\n",
       "      <td>2018-03-01</td>\n",
       "      <td>3.416438</td>\n",
       "    </tr>\n",
       "  </tbody>\n",
       "</table>\n",
       "</div>"
      ],
      "text/plain": [
       "     maker_key model_key  mileage  engine_power registration_date    fuel  \\\n",
       "3765       BMW        X1    81770             0        2014-10-01  diesel   \n",
       "\n",
       "     paint_color car_type  feature_1  feature_2  feature_3  feature_4  \\\n",
       "3765       white      suv      False      False      False      False   \n",
       "\n",
       "      feature_5  feature_6  feature_7  feature_8  price    sold_at       age  \n",
       "3765      False      False      False      False  11700 2018-03-01  3.416438  "
      ]
     },
     "execution_count": 7,
     "metadata": {},
     "output_type": "execute_result"
    }
   ],
   "source": [
    "# fix the record with zero engine horse power\n",
    "df[df.engine_power <=0]"
   ]
  },
  {
   "cell_type": "code",
   "execution_count": 8,
   "id": "6f76c9d9",
   "metadata": {
    "execution": {
     "iopub.execute_input": "2021-11-15T15:51:02.161874Z",
     "iopub.status.busy": "2021-11-15T15:51:02.161144Z",
     "iopub.status.idle": "2021-11-15T15:51:02.172049Z",
     "shell.execute_reply": "2021-11-15T15:51:02.172784Z",
     "shell.execute_reply.started": "2021-11-14T23:06:17.61272Z"
    },
    "papermill": {
     "duration": 0.067537,
     "end_time": "2021-11-15T15:51:02.173002",
     "exception": false,
     "start_time": "2021-11-15T15:51:02.105465",
     "status": "completed"
    },
    "tags": []
   },
   "outputs": [],
   "source": [
    "# replace zero engine power with the median of car\n",
    "df.engine_power[df.engine_power==0] = \\\n",
    "df[(df.model_key =='X1')&(df.fuel =='diesel')&(df.age < 3.5)].engine_power.median()"
   ]
  },
  {
   "cell_type": "code",
   "execution_count": 9,
   "id": "aba34e58",
   "metadata": {
    "execution": {
     "iopub.execute_input": "2021-11-15T15:51:02.282331Z",
     "iopub.status.busy": "2021-11-15T15:51:02.281631Z",
     "iopub.status.idle": "2021-11-15T15:51:02.291661Z",
     "shell.execute_reply": "2021-11-15T15:51:02.292426Z",
     "shell.execute_reply.started": "2021-11-14T23:06:17.625443Z"
    },
    "papermill": {
     "duration": 0.066639,
     "end_time": "2021-11-15T15:51:02.292740",
     "exception": false,
     "start_time": "2021-11-15T15:51:02.226101",
     "status": "completed"
    },
    "tags": []
   },
   "outputs": [
    {
     "name": "stdout",
     "output_type": "stream",
     "text": [
      "maker_key            0\n",
      "model_key            0\n",
      "mileage              0\n",
      "engine_power         0\n",
      "registration_date    0\n",
      "fuel                 0\n",
      "paint_color          0\n",
      "car_type             0\n",
      "feature_1            0\n",
      "feature_2            0\n",
      "feature_3            0\n",
      "feature_4            0\n",
      "feature_5            0\n",
      "feature_6            0\n",
      "feature_7            0\n",
      "feature_8            0\n",
      "price                0\n",
      "sold_at              0\n",
      "age                  0\n",
      "dtype: int64\n"
     ]
    }
   ],
   "source": [
    "# check if there is any N/As in the dataset\n",
    "print(df.isna().sum())"
   ]
  },
  {
   "cell_type": "markdown",
   "id": "8e466c7d",
   "metadata": {
    "papermill": {
     "duration": 0.053076,
     "end_time": "2021-11-15T15:51:02.400768",
     "exception": false,
     "start_time": "2021-11-15T15:51:02.347692",
     "status": "completed"
    },
    "tags": []
   },
   "source": [
    "**Conclusion:** No N/As to worry about.\n",
    "\n",
    "## 2.2 Outliers\n",
    "\n",
    "Sometimes outliers are bad data that you must get rid of, and sometimes they're Michael Jordan or Shaquille O'Neal and you should keep. Either way, outliers must be identified before dealing with them.  \n",
    "The two most common definitions of outliers are: \n",
    "1. Observations that are more than 3 standard deviations away from the mean.\n",
    "2. Observations that are more than 1.5 * Inter-Quartile-Range (IQR) below/above the 25th/75th percentiles (ends of the boxplot).\n",
    "\n",
    "**More on outliers detection**   \n",
    "The most common techniques used to identify outliers by data types is:  \n",
    "- Univariate data -> boxplot. outside of 1.5 times the inter-quartile range is an outlier.  \n",
    "- Bivariate -> scatterplot with confidence ellipse. outside of, say, 95% confidence ellipse is an outlier.  \n",
    "- Multivariate -> Mahalanobis D2 distance   \n",
    "\n",
    "Once defined, mark those observations as outliers. Then run a logistic regression to see if there are any systematic patterns. "
   ]
  },
  {
   "cell_type": "code",
   "execution_count": 10,
   "id": "7c0dca8c",
   "metadata": {
    "execution": {
     "iopub.execute_input": "2021-11-15T15:51:02.512962Z",
     "iopub.status.busy": "2021-11-15T15:51:02.511996Z",
     "iopub.status.idle": "2021-11-15T15:51:03.036313Z",
     "shell.execute_reply": "2021-11-15T15:51:03.035628Z",
     "shell.execute_reply.started": "2021-11-14T23:06:17.644504Z"
    },
    "papermill": {
     "duration": 0.580645,
     "end_time": "2021-11-15T15:51:03.036454",
     "exception": false,
     "start_time": "2021-11-15T15:51:02.455809",
     "status": "completed"
    },
    "tags": []
   },
   "outputs": [
    {
     "data": {
      "text/html": [
       "<iframe\n",
       "    scrolling=\"no\"\n",
       "    width=\"100%\"\n",
       "    height=\"545px\"\n",
       "    src=\"iframe_figures/figure_10.html\"\n",
       "    frameborder=\"0\"\n",
       "    allowfullscreen\n",
       "></iframe>\n"
      ]
     },
     "metadata": {},
     "output_type": "display_data"
    }
   ],
   "source": [
    "# We only examin outliers in continuous variables\n",
    "fig = px.box(df[cont_cols].melt(var_name='variable'),\n",
    "             color='variable',\n",
    "             facet_col='variable',\n",
    "             boxmode='overlay')\n",
    "fig.update_yaxes(matches=None)\n",
    "fig.show()"
   ]
  },
  {
   "cell_type": "markdown",
   "id": "9c9b2139",
   "metadata": {
    "papermill": {
     "duration": 0.056715,
     "end_time": "2021-11-15T15:51:03.148048",
     "exception": false,
     "start_time": "2021-11-15T15:51:03.091333",
     "status": "completed"
    },
    "tags": []
   },
   "source": [
    "**Conclusion:**\n",
    "There are some outliers in $X$ and $Y$, but at this point, I'm going to leave them as is. Because they appear to be extreme readings. I will revisit this assumption after building the model though \n",
    "\n",
    "## 2.3 Imbalances:\n",
    "\n",
    "In general, having balanced data results in higher accuracy models. An underrepresented group can lead to an insignificant coefficient.  \n",
    "This is true for all regression types and machine learning algorithms. "
   ]
  },
  {
   "cell_type": "code",
   "execution_count": 11,
   "id": "3d271861",
   "metadata": {
    "execution": {
     "iopub.execute_input": "2021-11-15T15:51:03.266549Z",
     "iopub.status.busy": "2021-11-15T15:51:03.265833Z",
     "iopub.status.idle": "2021-11-15T15:51:04.338634Z",
     "shell.execute_reply": "2021-11-15T15:51:04.338038Z",
     "shell.execute_reply.started": "2021-11-14T23:06:18.158907Z"
    },
    "papermill": {
     "duration": 1.135052,
     "end_time": "2021-11-15T15:51:04.338794",
     "exception": false,
     "start_time": "2021-11-15T15:51:03.203742",
     "status": "completed"
    },
    "tags": []
   },
   "outputs": [
    {
     "data": {
      "text/html": [
       "<iframe\n",
       "    scrolling=\"no\"\n",
       "    width=\"100%\"\n",
       "    height=\"545px\"\n",
       "    src=\"iframe_figures/figure_11.html\"\n",
       "    frameborder=\"0\"\n",
       "    allowfullscreen\n",
       "></iframe>\n"
      ]
     },
     "metadata": {},
     "output_type": "display_data"
    }
   ],
   "source": [
    "fig = go.Figure()\n",
    "for col in cat_cols:\n",
    "    d = df.groupby(col).size().to_frame(col).T\n",
    "    f = px.bar(d, orientation='h')\n",
    "    for o in f.data:\n",
    "        fig.add_trace(o)\n",
    "fig.update_layout(showlegend=False, barmode='stack', title='Distribution of Data across Categorical Variables')\n",
    "fig.show()"
   ]
  },
  {
   "cell_type": "markdown",
   "id": "9d228433",
   "metadata": {
    "papermill": {
     "duration": 0.05403,
     "end_time": "2021-11-15T15:51:04.448147",
     "exception": false,
     "start_time": "2021-11-15T15:51:04.394117",
     "status": "completed"
    },
    "tags": []
   },
   "source": [
    "Bar plots across categorical variables reveal some underrepresented categories. An obvious example is the small number of petrol and electric cars vs. diesel, which doesn't represent the population!  \n",
    "Another example is the imbalance between the `paint_color` sub-categories. This is justifiable because some car colors are more popular. Same goes for `key_model` and `car_type` (Convertable, Coupe, subcompacts, and vans)    \n",
    "\n",
    "\n",
    "**Conclusion**  \n",
    "Sample data should reflect the population irrespective of how extreme we perceive it. It should also make economic sense! \n",
    "One of the consequences is failing coefficient *t-test*, and ending up with insignificant coefficients. To avoid that, I'm going to merge the underrepresented categories into a single one."
   ]
  },
  {
   "cell_type": "code",
   "execution_count": 12,
   "id": "9d82604e",
   "metadata": {
    "execution": {
     "iopub.execute_input": "2021-11-15T15:51:04.560046Z",
     "iopub.status.busy": "2021-11-15T15:51:04.559379Z",
     "iopub.status.idle": "2021-11-15T15:51:04.599791Z",
     "shell.execute_reply": "2021-11-15T15:51:04.599197Z",
     "shell.execute_reply.started": "2021-11-14T23:06:19.215237Z"
    },
    "papermill": {
     "duration": 0.097665,
     "end_time": "2021-11-15T15:51:04.599936",
     "exception": false,
     "start_time": "2021-11-15T15:51:04.502271",
     "status": "completed"
    },
    "tags": []
   },
   "outputs": [],
   "source": [
    "# Roll up model_key into model by series\n",
    "df['model'] = 'Other'\n",
    "for i in range(1,8):\n",
    "    idx = df[df.model_key.str.startswith(str(i))].index\n",
    "    df.model.loc[idx] = str(i) + ' series'\n",
    "cat_cols.append('model')\n",
    "\n",
    "# Merge minority colors\n",
    "df['color'] = np.where(df.paint_color.isin(['beige','green','orange','red']), 'other', df.paint_color)\n",
    "cat_cols.remove('paint_color')\n",
    "cat_cols.append('color')\n",
    "# Drop electric and hybrid cars\n",
    "\n",
    "df.drop(index=df[df.fuel.isin(['hybrid_petrol','electro'])].index, inplace=True)\n",
    "df.reset_index(drop=True, inplace=True)"
   ]
  },
  {
   "cell_type": "code",
   "execution_count": 13,
   "id": "4ada57d1",
   "metadata": {
    "execution": {
     "iopub.execute_input": "2021-11-15T15:51:04.711740Z",
     "iopub.status.busy": "2021-11-15T15:51:04.711039Z",
     "iopub.status.idle": "2021-11-15T15:51:05.343453Z",
     "shell.execute_reply": "2021-11-15T15:51:05.342832Z",
     "shell.execute_reply.started": "2021-11-14T23:06:19.258943Z"
    },
    "papermill": {
     "duration": 0.689289,
     "end_time": "2021-11-15T15:51:05.343600",
     "exception": false,
     "start_time": "2021-11-15T15:51:04.654311",
     "status": "completed"
    },
    "tags": []
   },
   "outputs": [
    {
     "data": {
      "text/html": [
       "<iframe\n",
       "    scrolling=\"no\"\n",
       "    width=\"100%\"\n",
       "    height=\"545px\"\n",
       "    src=\"iframe_figures/figure_13.html\"\n",
       "    frameborder=\"0\"\n",
       "    allowfullscreen\n",
       "></iframe>\n"
      ]
     },
     "metadata": {},
     "output_type": "display_data"
    }
   ],
   "source": [
    "fig = go.Figure()\n",
    "cat_cols.remove('model_key')\n",
    "for col in cat_cols:\n",
    "    d = df.groupby(col).size().to_frame(col).T\n",
    "    f = px.bar(d, orientation='h')\n",
    "    for o in f.data:\n",
    "        fig.add_trace(o)\n",
    "fig.update_layout(showlegend=False, barmode='stack', title='Distribution of Data across Categorical Variables')\n",
    "fig.show()"
   ]
  },
  {
   "cell_type": "markdown",
   "id": "fd3b9c94",
   "metadata": {
    "papermill": {
     "duration": 0.054996,
     "end_time": "2021-11-15T15:51:05.455789",
     "exception": false,
     "start_time": "2021-11-15T15:51:05.400793",
     "status": "completed"
    },
    "tags": []
   },
   "source": [
    "## 2.4 Relationship between Variables\n",
    "To examine the relationship between variables we can:\n",
    "1. scatter plot them\n",
    "2. calculate their correlation\n",
    "Let's do both"
   ]
  },
  {
   "cell_type": "code",
   "execution_count": 14,
   "id": "957cd132",
   "metadata": {
    "execution": {
     "iopub.execute_input": "2021-11-15T15:51:05.599622Z",
     "iopub.status.busy": "2021-11-15T15:51:05.593624Z",
     "iopub.status.idle": "2021-11-15T15:51:07.120725Z",
     "shell.execute_reply": "2021-11-15T15:51:07.120146Z",
     "shell.execute_reply.started": "2021-11-14T23:06:19.891862Z"
    },
    "papermill": {
     "duration": 1.609699,
     "end_time": "2021-11-15T15:51:07.120870",
     "exception": false,
     "start_time": "2021-11-15T15:51:05.511171",
     "status": "completed"
    },
    "tags": []
   },
   "outputs": [
    {
     "data": {
      "text/html": [
       "<iframe\n",
       "    scrolling=\"no\"\n",
       "    width=\"920px\"\n",
       "    height=\"920\"\n",
       "    src=\"iframe_figures/figure_14.html\"\n",
       "    frameborder=\"0\"\n",
       "    allowfullscreen\n",
       "></iframe>\n"
      ]
     },
     "metadata": {},
     "output_type": "display_data"
    }
   ],
   "source": [
    "scatter = ff.create_scatterplotmatrix(df[cont_cols],\n",
    "                                      diag='histogram',\n",
    "                                      height=900, width=900,\n",
    "                                      title='BMW Scatter Plot')\n",
    "scatter.show()"
   ]
  },
  {
   "cell_type": "code",
   "execution_count": 15,
   "id": "f8415fd1",
   "metadata": {
    "execution": {
     "iopub.execute_input": "2021-11-15T15:51:07.236160Z",
     "iopub.status.busy": "2021-11-15T15:51:07.235478Z",
     "iopub.status.idle": "2021-11-15T15:51:07.237596Z",
     "shell.execute_reply": "2021-11-15T15:51:07.238117Z",
     "shell.execute_reply.started": "2021-11-14T23:06:21.447533Z"
    },
    "papermill": {
     "duration": 0.062049,
     "end_time": "2021-11-15T15:51:07.238293",
     "exception": false,
     "start_time": "2021-11-15T15:51:07.176244",
     "status": "completed"
    },
    "tags": []
   },
   "outputs": [],
   "source": [
    "# pd.plotting.scatter_matrix(df[cont_cols], figsize=(12,12));"
   ]
  },
  {
   "cell_type": "code",
   "execution_count": 16,
   "id": "c1b423a1",
   "metadata": {
    "execution": {
     "iopub.execute_input": "2021-11-15T15:51:07.355660Z",
     "iopub.status.busy": "2021-11-15T15:51:07.354784Z",
     "iopub.status.idle": "2021-11-15T15:51:07.709727Z",
     "shell.execute_reply": "2021-11-15T15:51:07.710626Z",
     "shell.execute_reply.started": "2021-11-14T23:06:21.453822Z"
    },
    "papermill": {
     "duration": 0.417317,
     "end_time": "2021-11-15T15:51:07.710834",
     "exception": false,
     "start_time": "2021-11-15T15:51:07.293517",
     "status": "completed"
    },
    "tags": []
   },
   "outputs": [
    {
     "data": {
      "image/png": "[encoded data removed]",
      "text/plain": [
       "<Figure size 432x288 with 2 Axes>"
      ]
     },
     "metadata": {
      "needs_background": "light"
     },
     "output_type": "display_data"
    }
   ],
   "source": [
    "mask = np.ones_like(df[cont_cols].corr(), dtype=bool)\n",
    "mask[np.tril_indices_from(mask)] = False\n",
    "sns.heatmap(df[cont_cols].corr(), annot=True, mask=mask, annot_kws=dict(fontsize=12));"
   ]
  },
  {
   "cell_type": "markdown",
   "id": "0c77ab6b",
   "metadata": {
    "papermill": {
     "duration": 0.055994,
     "end_time": "2021-11-15T15:51:07.822726",
     "exception": false,
     "start_time": "2021-11-15T15:51:07.766732",
     "status": "completed"
    },
    "tags": []
   },
   "source": [
    "**Conclusion**:  \n",
    "1. None of the continuous variables is normally distributed. Therefore, I don't expect the residuals to be normally distributed either (not without transforming variables that is)\n",
    "2. There appear to be negative relationships between `price` and each of `mileage` and `age` albeit not straight lines! This is confirmed by their moderate negative correlation of `-0.41` and `-0.45` respectively.\n",
    "\n",
    "3. Engine power and price have a moderate positive relationship that appears to be linear. This makes economic sense since higher engine power is indicative of more expensive sport or luxury models.\n",
    "4. There's a moderate positive correlation between the explanatory variables `age` and `mileage`. This makes sense as we expect older cars to have more mileage. This is something to keep an eye on when testing/correcting multicollinearity"
   ]
  },
  {
   "cell_type": "markdown",
   "id": "b630a380",
   "metadata": {
    "papermill": {
     "duration": 0.056258,
     "end_time": "2021-11-15T15:51:07.937689",
     "exception": false,
     "start_time": "2021-11-15T15:51:07.881431",
     "status": "completed"
    },
    "tags": []
   },
   "source": [
    "\n",
    "# 3. Analyzing Data\n",
    "\n",
    "This step should answer the question in step (1).i.e. predict BMW cars' prices given a set of their specifications and features. \n",
    "\n",
    "### 3.2 Pre-Processing\n",
    "#### 3.2.1 Split Data\n",
    "\n",
    "It's standard practice to split the data into training and test sets to see how the model behaves when presented with data it hasn't seen. "
   ]
  },
  {
   "cell_type": "code",
   "execution_count": 47,
   "id": "13a94cc7",
   "metadata": {
    "execution": {
     "iopub.execute_input": "2021-11-15T15:51:08.060402Z",
     "iopub.status.busy": "2021-11-15T15:51:08.059363Z",
     "iopub.status.idle": "2021-11-15T15:51:08.072330Z",
     "shell.execute_reply": "2021-11-15T15:51:08.071657Z",
     "shell.execute_reply.started": "2021-11-14T23:06:21.829063Z"
    },
    "papermill": {
     "duration": 0.074397,
     "end_time": "2021-11-15T15:51:08.072481",
     "exception": false,
     "start_time": "2021-11-15T15:51:07.998084",
     "status": "completed"
    },
    "tags": []
   },
   "outputs": [
    {
     "name": "stdout",
     "output_type": "stream",
     "text": [
      "Size of training set:3624, size of test set: 1208\n",
      "\n"
     ]
    }
   ],
   "source": [
    "# Split the data into train and test sets\n",
    "\n",
    "train_idx, test_idx = train_test_split(df.index, test_size=.25)\n",
    "df_train = df.iloc[train_idx].reset_index(drop=True)\n",
    "df_test = df.iloc[test_idx].reset_index(drop=True)\n",
    "\n",
    "print(f'Size of training set:{len(df_train)}, size of test set: {len(df_test)}\\n')"
   ]
  },
  {
   "cell_type": "markdown",
   "id": "d9ca7b8c",
   "metadata": {
    "papermill": {
     "duration": 0.059464,
     "end_time": "2021-11-15T15:51:08.190101",
     "exception": false,
     "start_time": "2021-11-15T15:51:08.130637",
     "status": "completed"
    },
    "tags": []
   },
   "source": [
    "#### 3.2.2 Normalize data (optional but important)\n",
    "Normalizing data improves numerical stability and produces cleaner results. It doesn't improve accuracy or prediction power though"
   ]
  },
  {
   "cell_type": "code",
   "execution_count": 48,
   "id": "ad233b2a",
   "metadata": {
    "execution": {
     "iopub.execute_input": "2021-11-15T15:51:08.314154Z",
     "iopub.status.busy": "2021-11-15T15:51:08.313264Z",
     "iopub.status.idle": "2021-11-15T15:51:08.323854Z",
     "shell.execute_reply": "2021-11-15T15:51:08.323208Z",
     "shell.execute_reply.started": "2021-11-14T23:06:21.842711Z"
    },
    "papermill": {
     "duration": 0.076668,
     "end_time": "2021-11-15T15:51:08.324000",
     "exception": false,
     "start_time": "2021-11-15T15:51:08.247332",
     "status": "completed"
    },
    "tags": []
   },
   "outputs": [],
   "source": [
    "# Scale the data (optional)\n",
    "\n",
    "from sklearn.preprocessing import MinMaxScaler\n",
    "cont_x = ['mileage','engine_power','age']\n",
    "scalar = MinMaxScaler()\n",
    "scalar.fit(df[cont_x])\n",
    "dfc = df.copy()\n",
    "dfc[cont_x] = scalar.transform(dfc[cont_x])\n",
    "\n",
    "dfc_train = dfc.iloc[train_idx].reset_index(drop=True)\n",
    "dfc_test = dfc.iloc[test_idx].reset_index(drop=True)"
   ]
  },
  {
   "cell_type": "markdown",
   "id": "52380757",
   "metadata": {
    "papermill": {
     "duration": 0.057951,
     "end_time": "2021-11-15T15:51:08.438425",
     "exception": false,
     "start_time": "2021-11-15T15:51:08.380474",
     "status": "completed"
    },
    "tags": []
   },
   "source": [
    "#### 3.2.3 Predictor function\n",
    "It convenient to write an $R^2$ function to test data with later"
   ]
  },
  {
   "cell_type": "code",
   "execution_count": 49,
   "id": "944bc5e7",
   "metadata": {
    "execution": {
     "iopub.execute_input": "2021-11-15T15:51:08.560332Z",
     "iopub.status.busy": "2021-11-15T15:51:08.559602Z",
     "iopub.status.idle": "2021-11-15T15:51:08.562653Z",
     "shell.execute_reply": "2021-11-15T15:51:08.562025Z",
     "shell.execute_reply.started": "2021-11-14T23:06:21.867149Z"
    },
    "papermill": {
     "duration": 0.065103,
     "end_time": "2021-11-15T15:51:08.562841",
     "exception": false,
     "start_time": "2021-11-15T15:51:08.497738",
     "status": "completed"
    },
    "tags": []
   },
   "outputs": [],
   "source": [
    "def pred(res, x, y, log=False):\n",
    "    y_hat = res.predict(x)\n",
    "    if log:\n",
    "        y_hat = np.exp(y_hat)\n",
    "    r2 = r2_score(y,y_hat)\n",
    "    print(f'R-squared: {r2:.2f}')"
   ]
  },
  {
   "cell_type": "markdown",
   "id": "88c0c8ec",
   "metadata": {
    "papermill": {
     "duration": 0.05628,
     "end_time": "2021-11-15T15:51:08.677548",
     "exception": false,
     "start_time": "2021-11-15T15:51:08.621268",
     "status": "completed"
    },
    "tags": []
   },
   "source": [
    "### 3.3 Model Selection\n",
    "The most challenging step in any analysis is specifying the model to use; is it linear, log-linear, quadratic, or non-linear!? Which variables to omit and which to transform! What kind of transformation (polynomial, log)...etc.   \n",
    "When it comes to model selection keep in mind that the model's job is to approximate, and not perfectly represent reality. So keep it simple, but not too simple! \n",
    "You must be able to explain the relationship in terms of how a unit increase in $X_i$ changes $Y$. And explain the economic sense of the model and how it adheres to its assumptions.  \n",
    "\n",
    "#### 3.3.1 Manual  approach\n",
    "It's always good to examine the scatter plot and correlation matrix first to get a sense of the relationship between variables. From there write down an initial formula for the model, and build on it. "
   ]
  },
  {
   "cell_type": "code",
   "execution_count": 50,
   "id": "3dfdaa2d",
   "metadata": {
    "execution": {
     "iopub.execute_input": "2021-11-15T15:51:08.799360Z",
     "iopub.status.busy": "2021-11-15T15:51:08.798619Z",
     "iopub.status.idle": "2021-11-15T15:51:08.928312Z",
     "shell.execute_reply": "2021-11-15T15:51:08.929571Z",
     "shell.execute_reply.started": "2021-11-14T23:06:21.874728Z"
    },
    "papermill": {
     "duration": 0.195746,
     "end_time": "2021-11-15T15:51:08.929912",
     "exception": false,
     "start_time": "2021-11-15T15:51:08.734166",
     "status": "completed"
    },
    "tags": []
   },
   "outputs": [
    {
     "name": "stdout",
     "output_type": "stream",
     "text": [
      "                            OLS Regression Results                            \n",
      "==============================================================================\n",
      "Dep. Variable:          np.log(price)   R-squared:                       0.683\n",
      "Model:                            OLS   Adj. R-squared:                  0.681\n",
      "Method:                 Least Squares   F-statistic:                     286.9\n",
      "Date:                Fri, 19 Nov 2021   Prob (F-statistic):               0.00\n",
      "Time:                        10:11:43   Log-Likelihood:                -1514.4\n",
      "No. Observations:                3624   AIC:                             3085.\n",
      "Df Residuals:                    3596   BIC:                             3258.\n",
      "Df Model:                          27                                         \n",
      "Covariance Type:            nonrobust                                         \n",
      "========================================================================================\n",
      "                           coef    std err          t      P>|t|      [0.025      0.975]\n",
      "----------------------------------------------------------------------------------------\n",
      "Intercept                9.1431      0.050    183.531      0.000       9.045       9.241\n",
      "model[T.2 series]        0.0436      0.062      0.703      0.482      -0.078       0.165\n",
      "model[T.3 series]        0.0585      0.022      2.640      0.008       0.015       0.102\n",
      "model[T.4 series]        0.3168      0.049      6.425      0.000       0.220       0.414\n",
      "model[T.5 series]        0.1978      0.027      7.378      0.000       0.145       0.250\n",
      "model[T.6 series]        0.2908      0.086      3.395      0.001       0.123       0.459\n",
      "model[T.7 series]        0.4101      0.063      6.507      0.000       0.287       0.534\n",
      "model[T.Other]           0.3006      0.027     11.191      0.000       0.248       0.353\n",
      "fuel[T.petrol]          -0.0542      0.035     -1.557      0.120      -0.122       0.014\n",
      "color[T.blue]           -0.0618      0.019     -3.192      0.001      -0.100      -0.024\n",
      "color[T.brown]           0.0164      0.026      0.635      0.526      -0.034       0.067\n",
      "color[T.grey]           -0.0145      0.016     -0.882      0.378      -0.047       0.018\n",
      "color[T.other]           0.0425      0.042      1.020      0.308      -0.039       0.124\n",
      "color[T.silver]         -0.0562      0.026     -2.141      0.032      -0.108      -0.005\n",
      "color[T.white]           0.0052      0.021      0.241      0.809      -0.037       0.047\n",
      "feature_1[T.True]        0.0792      0.015      5.393      0.000       0.050       0.108\n",
      "feature_2[T.True]        0.0937      0.018      5.095      0.000       0.058       0.130\n",
      "feature_3[T.True]        0.0307      0.016      1.866      0.062      -0.002       0.063\n",
      "feature_4[T.True]        0.0811      0.020      4.037      0.000       0.042       0.120\n",
      "feature_5[T.True]        0.0795      0.015      5.474      0.000       0.051       0.108\n",
      "feature_6[T.True]        0.0820      0.016      5.276      0.000       0.052       0.112\n",
      "feature_7[T.True]        0.1509      0.028      5.319      0.000       0.095       0.206\n",
      "feature_8[T.True]        0.0944      0.015      6.172      0.000       0.064       0.124\n",
      "age                     -0.0151      0.009     -1.684      0.092      -0.033       0.002\n",
      "np.power(age, 2)        -0.0055      0.000    -11.881      0.000      -0.006      -0.005\n",
      "mileage              -3.093e-06   2.24e-07    -13.812      0.000   -3.53e-06   -2.65e-06\n",
      "np.power(mileage, 2)  1.968e-12   4.84e-13      4.062      0.000    1.02e-12    2.92e-12\n",
      "engine_power             0.0039      0.000     17.044      0.000       0.003       0.004\n",
      "==============================================================================\n",
      "Omnibus:                     4231.066   Durbin-Watson:                   2.016\n",
      "Prob(Omnibus):                  0.000   Jarque-Bera (JB):           680649.669\n",
      "Skew:                          -5.933   Prob(JB):                         0.00\n",
      "Kurtosis:                      69.082   Cond. No.                     5.09e+11\n",
      "==============================================================================\n",
      "\n",
      "Notes:\n",
      "[1] Standard Errors assume that the covariance matrix of the errors is correctly specified.\n",
      "[2] The condition number is large, 5.09e+11. This might indicate that there are\n",
      "strong multicollinearity or other numerical problems.\n"
     ]
    }
   ],
   "source": [
    "formula_manual = '''\n",
    "np.log(price)~age+np.power(age,2)+mileage+np.power(mileage,2)+engine_power+model+fuel+color\n",
    "+feature_1+feature_2+feature_3+feature_4\n",
    "+feature_5+feature_6+feature_7+feature_8\n",
    "'''\n",
    "\n",
    "ols_manual = smf.ols(formula_manual, df_train)\n",
    "res_manual = ols_manual.fit()\n",
    "print(res_manual.summary())"
   ]
  },
  {
   "cell_type": "code",
   "execution_count": 51,
   "id": "8bc49e62",
   "metadata": {
    "execution": {
     "iopub.execute_input": "2021-11-15T15:51:09.114973Z",
     "iopub.status.busy": "2021-11-15T15:51:09.104462Z",
     "iopub.status.idle": "2021-11-15T15:51:09.130483Z",
     "shell.execute_reply": "2021-11-15T15:51:09.131596Z",
     "shell.execute_reply.started": "2021-11-14T23:06:22.013951Z"
    },
    "papermill": {
     "duration": 0.104164,
     "end_time": "2021-11-15T15:51:09.131891",
     "exception": false,
     "start_time": "2021-11-15T15:51:09.027727",
     "status": "completed"
    },
    "tags": []
   },
   "outputs": [
    {
     "name": "stdout",
     "output_type": "stream",
     "text": [
      "R-squared: 0.80\n"
     ]
    }
   ],
   "source": [
    "# R2 of test-data\n",
    "\n",
    "pred(res_manual, x=df_test, y=df_test.price, log=True)"
   ]
  },
  {
   "cell_type": "markdown",
   "id": "40b90ecd",
   "metadata": {
    "papermill": {
     "duration": 0.058997,
     "end_time": "2021-11-15T15:51:09.299681",
     "exception": false,
     "start_time": "2021-11-15T15:51:09.240684",
     "status": "completed"
    },
    "tags": []
   },
   "source": [
    "### 3.3.1 Forward Model Selection\n",
    "Another approach is to use a *forward selection* algorithm. It applies brute force to fit all the possible combinations of variables and pick the one/s with the best metrics (AIC, BIC, R2 Adjusted ... etc.)   \n",
    "The approach is greedy by nature, which means we'll end up omitting some variables the algorithm had included!"
   ]
  },
  {
   "cell_type": "code",
   "execution_count": 22,
   "id": "b6a5b3c7",
   "metadata": {
    "execution": {
     "iopub.execute_input": "2021-11-15T15:51:09.429791Z",
     "iopub.status.busy": "2021-11-15T15:51:09.422291Z",
     "iopub.status.idle": "2021-11-15T15:51:09.431802Z",
     "shell.execute_reply": "2021-11-15T15:51:09.432338Z",
     "shell.execute_reply.started": "2021-11-14T23:06:22.06621Z"
    },
    "papermill": {
     "duration": 0.075482,
     "end_time": "2021-11-15T15:51:09.432521",
     "exception": false,
     "start_time": "2021-11-15T15:51:09.357039",
     "status": "completed"
    },
    "tags": []
   },
   "outputs": [],
   "source": [
    "from collections import defaultdict\n",
    "from itertools import combinations\n",
    "from tqdm import tqdm\n",
    "\n",
    "class ForwardModelSelector:\n",
    "    \"\"\"\n",
    "    Ordinary Least Square forward selection algorithm. It tries every possible combination of variables in  \n",
    "    x_cols and stores the resulting metrices in summary_frame\n",
    "    \"\"\"\n",
    "    def __init__(self, x_cols , y_col, df, subset=None, metrics=['aic','bic','rsquared_adj']):\n",
    "        \"\"\"\n",
    "        x_cols: list of the independent variables\n",
    "        y_col : str represents the dependent variable or a transformation version of it. Takes np.log, center\n",
    "        or a custom function\n",
    "        df    : pandas dataframe contains x's and y\n",
    "        subset: numpy array or pandas indexes to train on subset of the data (training set)\n",
    "        metrics: list of metrics to save in summary_frame. Default is aic, bic and rsquared_adj\n",
    "        \n",
    "        \"\"\"\n",
    "        self.x_cols = x_cols\n",
    "        self.y_col = y_col\n",
    "        self.df = df\n",
    "        self.subset = subset\n",
    "        self.metrics = metrics\n",
    "        self.res = defaultdict(list)\n",
    "        self.left = str(y_col) + '~'\n",
    "        self.n = 0\n",
    "        pass\n",
    "    \n",
    "    def generate_formulas(self):\n",
    "        \"\"\"Generate a list of formulas using all possible combinations of x variables\"\"\"\n",
    "        self.formulas = []\n",
    "        for i in range(1,len(self.x_cols)):\n",
    "            self.formulas.extend(list(map(' + '.join, combinations(x_cols, r=i))))\n",
    "        pass\n",
    "    \n",
    "    def fit(self):\n",
    "        \"\"\"Regress using generated formulas. Results are saved in dataframe\"\"\"\n",
    "        self.generate_formulas()\n",
    "        for right in tqdm(self.formulas):\n",
    "            self.n += 1\n",
    "            f_tmp = self.left + right\n",
    "            self._update_(f_tmp)\n",
    "        print(f'Finished trying {self.n} combinations')\n",
    "        self.frame = pd.DataFrame(self.res, index=self.metrics+['n_variables']).T.reset_index().rename(columns={'index':'formula'})\n",
    "    \n",
    "    def _update_(self, formula):\n",
    "        ols_tmp = smf.ols(formula, self.df, subset=self.subset).fit()\n",
    "        for m in self.metrics:\n",
    "            self.res[formula].append(getattr(ols_tmp,m))\n",
    "        self.res[formula].append(ols_tmp.model.exog.shape[1])\n",
    "        pass\n",
    "    \n",
    "    def summary_frame(self, sort_by=None, ascending=None):\n",
    "        if sort_by is None:\n",
    "            return self.frame.sort_values(self.metrics)\n",
    "        return self.frame.sort_values(sort_by, ascending=ascending)\n"
   ]
  },
  {
   "cell_type": "code",
   "execution_count": 23,
   "id": "2ffddbdc",
   "metadata": {
    "execution": {
     "iopub.execute_input": "2021-11-15T15:51:09.612663Z",
     "iopub.status.busy": "2021-11-15T15:51:09.567934Z",
     "iopub.status.idle": "2021-11-15T19:28:49.924202Z",
     "shell.execute_reply": "2021-11-15T19:28:49.924898Z",
     "shell.execute_reply.started": "2021-11-14T23:06:22.093735Z"
    },
    "papermill": {
     "duration": 13060.433175,
     "end_time": "2021-11-15T19:28:49.925095",
     "exception": false,
     "start_time": "2021-11-15T15:51:09.491920",
     "status": "completed"
    },
    "tags": []
   },
   "outputs": [
    {
     "name": "stderr",
     "output_type": "stream",
     "text": [
      "100%|██████████| 131070/131070 [52:26<00:00, 41.65it/s] \n"
     ]
    },
    {
     "name": "stdout",
     "output_type": "stream",
     "text": [
      "Finished trying 131070 combinations\n"
     ]
    }
   ],
   "source": [
    "x_cols = ['age','np.power(age,2)','mileage','np.power(mileage,2)','engine_power'] + cat_cols\n",
    "\n",
    "m = ForwardModelSelector(x_cols, 'np.log(price)', df, subset=train_idx, metrics=['aic','bic','rsquared_adj','fvalue'])\n",
    "m.fit()"
   ]
  },
  {
   "cell_type": "markdown",
   "id": "3fa9f8db",
   "metadata": {
    "papermill": {
     "duration": 26.898819,
     "end_time": "2021-11-15T19:29:43.432171",
     "exception": false,
     "start_time": "2021-11-15T19:29:16.533352",
     "status": "completed"
    },
    "tags": []
   },
   "source": [
    "The algorithm tried 131,070 combinations of $x$ variables, which are continuous, quadratic, and categorical. Let's list the top 10 by by `rsquared_adj`, `bic` and `aic`, then one that best fits the criteria. In this case, I would choose the model with the highest R-squared adjusted and lowest AIC, BIC with the least number of variables!"
   ]
  },
  {
   "cell_type": "code",
   "execution_count": 24,
   "id": "89b9f05c",
   "metadata": {
    "execution": {
     "iopub.execute_input": "2021-11-15T19:30:36.924750Z",
     "iopub.status.busy": "2021-11-15T19:30:36.921252Z",
     "iopub.status.idle": "2021-11-15T19:30:37.117961Z",
     "shell.execute_reply": "2021-11-15T19:30:37.117216Z",
     "shell.execute_reply.started": "2021-11-15T02:40:38.74446Z"
    },
    "papermill": {
     "duration": 27.02895,
     "end_time": "2021-11-15T19:30:37.118112",
     "exception": false,
     "start_time": "2021-11-15T19:30:10.089162",
     "status": "completed"
    },
    "tags": []
   },
   "outputs": [
    {
     "data": {
      "text/html": [
       "<div>\n",
       "<style scoped>\n",
       "    .dataframe tbody tr th:only-of-type {\n",
       "        vertical-align: middle;\n",
       "    }\n",
       "\n",
       "    .dataframe tbody tr th {\n",
       "        vertical-align: top;\n",
       "    }\n",
       "\n",
       "    .dataframe thead th {\n",
       "        text-align: right;\n",
       "    }\n",
       "</style>\n",
       "<table border=\"1\" class=\"dataframe\">\n",
       "  <thead>\n",
       "    <tr style=\"text-align: right;\">\n",
       "      <th></th>\n",
       "      <th>formula</th>\n",
       "      <th>aic</th>\n",
       "      <th>bic</th>\n",
       "      <th>rsquared_adj</th>\n",
       "      <th>fvalue</th>\n",
       "      <th>n_variables</th>\n",
       "    </tr>\n",
       "  </thead>\n",
       "  <tbody>\n",
       "    <tr>\n",
       "      <th>131069</th>\n",
       "      <td>np.log(price)~np.power(age,2) + mileage + np.p...</td>\n",
       "      <td>2808.581484</td>\n",
       "      <td>3019.222829</td>\n",
       "      <td>0.708102</td>\n",
       "      <td>267.329609</td>\n",
       "      <td>34.0</td>\n",
       "    </tr>\n",
       "    <tr>\n",
       "      <th>131044</th>\n",
       "      <td>np.log(price)~np.power(age,2) + mileage + np.p...</td>\n",
       "      <td>2809.342877</td>\n",
       "      <td>3013.788888</td>\n",
       "      <td>0.707961</td>\n",
       "      <td>275.464934</td>\n",
       "      <td>33.0</td>\n",
       "    </tr>\n",
       "    <tr>\n",
       "      <th>131048</th>\n",
       "      <td>np.log(price)~np.power(age,2) + mileage + np.p...</td>\n",
       "      <td>2809.832073</td>\n",
       "      <td>3014.278084</td>\n",
       "      <td>0.707922</td>\n",
       "      <td>275.412605</td>\n",
       "      <td>33.0</td>\n",
       "    </tr>\n",
       "    <tr>\n",
       "      <th>131060</th>\n",
       "      <td>np.log(price)~age + np.power(age,2) + mileage ...</td>\n",
       "      <td>2811.320739</td>\n",
       "      <td>3021.962084</td>\n",
       "      <td>0.707881</td>\n",
       "      <td>267.045422</td>\n",
       "      <td>34.0</td>\n",
       "    </tr>\n",
       "    <tr>\n",
       "      <th>131064</th>\n",
       "      <td>np.log(price)~age + np.power(age,2) + mileage ...</td>\n",
       "      <td>2811.750167</td>\n",
       "      <td>3022.391512</td>\n",
       "      <td>0.707847</td>\n",
       "      <td>267.000890</td>\n",
       "      <td>34.0</td>\n",
       "    </tr>\n",
       "    <tr>\n",
       "      <th>130859</th>\n",
       "      <td>np.log(price)~np.power(age,2) + mileage + np.p...</td>\n",
       "      <td>2810.597965</td>\n",
       "      <td>3008.848642</td>\n",
       "      <td>0.707780</td>\n",
       "      <td>284.070694</td>\n",
       "      <td>32.0</td>\n",
       "    </tr>\n",
       "    <tr>\n",
       "      <th>130979</th>\n",
       "      <td>np.log(price)~age + np.power(age,2) + mileage ...</td>\n",
       "      <td>2812.567177</td>\n",
       "      <td>3017.013188</td>\n",
       "      <td>0.707701</td>\n",
       "      <td>275.120162</td>\n",
       "      <td>33.0</td>\n",
       "    </tr>\n",
       "    <tr>\n",
       "      <th>131037</th>\n",
       "      <td>np.log(price)~np.power(age,2) + mileage + np.p...</td>\n",
       "      <td>2812.735686</td>\n",
       "      <td>2986.205029</td>\n",
       "      <td>0.707287</td>\n",
       "      <td>325.234272</td>\n",
       "      <td>28.0</td>\n",
       "    </tr>\n",
       "    <tr>\n",
       "      <th>131053</th>\n",
       "      <td>np.log(price)~age + np.power(age,2) + mileage ...</td>\n",
       "      <td>2814.720330</td>\n",
       "      <td>2994.385006</td>\n",
       "      <td>0.707207</td>\n",
       "      <td>313.533422</td>\n",
       "      <td>29.0</td>\n",
       "    </tr>\n",
       "    <tr>\n",
       "      <th>130818</th>\n",
       "      <td>np.log(price)~np.power(age,2) + mileage + np.p...</td>\n",
       "      <td>2813.144902</td>\n",
       "      <td>2980.418911</td>\n",
       "      <td>0.707174</td>\n",
       "      <td>337.520745</td>\n",
       "      <td>27.0</td>\n",
       "    </tr>\n",
       "  </tbody>\n",
       "</table>\n",
       "</div>"
      ],
      "text/plain": [
       "                                                  formula          aic  \\\n",
       "131069  np.log(price)~np.power(age,2) + mileage + np.p...  2808.581484   \n",
       "131044  np.log(price)~np.power(age,2) + mileage + np.p...  2809.342877   \n",
       "131048  np.log(price)~np.power(age,2) + mileage + np.p...  2809.832073   \n",
       "131060  np.log(price)~age + np.power(age,2) + mileage ...  2811.320739   \n",
       "131064  np.log(price)~age + np.power(age,2) + mileage ...  2811.750167   \n",
       "130859  np.log(price)~np.power(age,2) + mileage + np.p...  2810.597965   \n",
       "130979  np.log(price)~age + np.power(age,2) + mileage ...  2812.567177   \n",
       "131037  np.log(price)~np.power(age,2) + mileage + np.p...  2812.735686   \n",
       "131053  np.log(price)~age + np.power(age,2) + mileage ...  2814.720330   \n",
       "130818  np.log(price)~np.power(age,2) + mileage + np.p...  2813.144902   \n",
       "\n",
       "                bic  rsquared_adj      fvalue  n_variables  \n",
       "131069  3019.222829      0.708102  267.329609         34.0  \n",
       "131044  3013.788888      0.707961  275.464934         33.0  \n",
       "131048  3014.278084      0.707922  275.412605         33.0  \n",
       "131060  3021.962084      0.707881  267.045422         34.0  \n",
       "131064  3022.391512      0.707847  267.000890         34.0  \n",
       "130859  3008.848642      0.707780  284.070694         32.0  \n",
       "130979  3017.013188      0.707701  275.120162         33.0  \n",
       "131037  2986.205029      0.707287  325.234272         28.0  \n",
       "131053  2994.385006      0.707207  313.533422         29.0  \n",
       "130818  2980.418911      0.707174  337.520745         27.0  "
      ]
     },
     "execution_count": 24,
     "metadata": {},
     "output_type": "execute_result"
    }
   ],
   "source": [
    "top = m.summary_frame(sort_by=['rsquared_adj','bic','aic'],\n",
    "                ascending=[False,True,True]).nlargest(n=10, columns='rsquared_adj')\n",
    "top"
   ]
  },
  {
   "cell_type": "markdown",
   "id": "378c07c2",
   "metadata": {
    "papermill": {
     "duration": 26.848907,
     "end_time": "2021-11-15T19:31:30.920976",
     "exception": false,
     "start_time": "2021-11-15T19:31:04.072069",
     "status": "completed"
    },
    "tags": []
   },
   "source": [
    "The second to last regression have used the smallest number of variables providing almost the same $R^2$, BIC, and AIC. "
   ]
  },
  {
   "cell_type": "code",
   "execution_count": 52,
   "id": "5fe546f3",
   "metadata": {
    "execution": {
     "iopub.execute_input": "2021-11-15T19:32:24.298124Z",
     "iopub.status.busy": "2021-11-15T19:32:24.297456Z",
     "iopub.status.idle": "2021-11-15T19:32:24.299985Z",
     "shell.execute_reply": "2021-11-15T19:32:24.300519Z",
     "shell.execute_reply.started": "2021-11-15T02:40:38.946295Z"
    },
    "papermill": {
     "duration": 26.722347,
     "end_time": "2021-11-15T19:32:24.300686",
     "exception": false,
     "start_time": "2021-11-15T19:31:57.578339",
     "status": "completed"
    },
    "tags": []
   },
   "outputs": [
    {
     "data": {
      "text/plain": [
       "'np.log(price)~np.power(age,2) + mileage + np.power(mileage,2) + engine_power + fuel + car_type + feature_1 + feature_2 + feature_4 + feature_5 + feature_6 + feature_7 + feature_8 + model'"
      ]
     },
     "execution_count": 52,
     "metadata": {},
     "output_type": "execute_result"
    }
   ],
   "source": [
    "formula = top.loc[top.n_variables.idxmin()].formula\n",
    "formula"
   ]
  },
  {
   "cell_type": "code",
   "execution_count": 53,
   "id": "f2f475e5",
   "metadata": {
    "execution": {
     "iopub.execute_input": "2021-11-15T19:33:17.625084Z",
     "iopub.status.busy": "2021-11-15T19:33:17.624362Z",
     "iopub.status.idle": "2021-11-15T19:33:17.720061Z",
     "shell.execute_reply": "2021-11-15T19:33:17.720967Z",
     "shell.execute_reply.started": "2021-11-15T02:40:38.955403Z"
    },
    "papermill": {
     "duration": 26.827129,
     "end_time": "2021-11-15T19:33:17.721244",
     "exception": false,
     "start_time": "2021-11-15T19:32:50.894115",
     "status": "completed"
    },
    "tags": []
   },
   "outputs": [
    {
     "name": "stdout",
     "output_type": "stream",
     "text": [
      "                            OLS Regression Results                            \n",
      "==============================================================================\n",
      "Dep. Variable:          np.log(price)   R-squared:                       0.694\n",
      "Model:                            OLS   Adj. R-squared:                  0.692\n",
      "Method:                 Least Squares   F-statistic:                     313.5\n",
      "Date:                Fri, 19 Nov 2021   Prob (F-statistic):               0.00\n",
      "Time:                        10:11:59   Log-Likelihood:                -1451.3\n",
      "No. Observations:                3624   AIC:                             2957.\n",
      "Df Residuals:                    3597   BIC:                             3124.\n",
      "Df Model:                          26                                         \n",
      "Covariance Type:            nonrobust                                         \n",
      "==========================================================================================\n",
      "                             coef    std err          t      P>|t|      [0.025      0.975]\n",
      "------------------------------------------------------------------------------------------\n",
      "Intercept                  9.2191      0.080    115.829      0.000       9.063       9.375\n",
      "fuel[T.petrol]            -0.0951      0.035     -2.711      0.007      -0.164      -0.026\n",
      "car_type[T.coupe]         -0.1524      0.074     -2.049      0.040      -0.298      -0.007\n",
      "car_type[T.estate]        -0.3536      0.069     -5.145      0.000      -0.488      -0.219\n",
      "car_type[T.hatchback]     -0.1495      0.068     -2.197      0.028      -0.283      -0.016\n",
      "car_type[T.sedan]         -0.1750      0.068     -2.557      0.011      -0.309      -0.041\n",
      "car_type[T.subcompact]    -0.1129      0.079     -1.436      0.151      -0.267       0.041\n",
      "car_type[T.suv]           -0.2374      0.092     -2.573      0.010      -0.418      -0.056\n",
      "car_type[T.van]           -0.3950      0.127     -3.118      0.002      -0.643      -0.147\n",
      "feature_1[T.True]          0.0714      0.014      5.020      0.000       0.044       0.099\n",
      "feature_2[T.True]          0.1038      0.018      5.744      0.000       0.068       0.139\n",
      "feature_4[T.True]          0.0928      0.020      4.636      0.000       0.054       0.132\n",
      "feature_5[T.True]          0.0828      0.014      5.797      0.000       0.055       0.111\n",
      "feature_6[T.True]          0.0810      0.015      5.328      0.000       0.051       0.111\n",
      "feature_7[T.True]          0.1389      0.028      4.976      0.000       0.084       0.194\n",
      "feature_8[T.True]          0.0958      0.015      6.418      0.000       0.067       0.125\n",
      "model[T.2 series]          0.2358      0.117      2.016      0.044       0.006       0.465\n",
      "model[T.3 series]          0.1889      0.032      5.821      0.000       0.125       0.252\n",
      "model[T.4 series]          0.3230      0.054      5.942      0.000       0.216       0.430\n",
      "model[T.5 series]          0.3291      0.037      8.921      0.000       0.257       0.401\n",
      "model[T.6 series]          0.3177      0.087      3.654      0.000       0.147       0.488\n",
      "model[T.7 series]          0.4608      0.068      6.773      0.000       0.327       0.594\n",
      "model[T.Other]             0.3973      0.082      4.828      0.000       0.236       0.559\n",
      "np.power(age, 2)          -0.0064      0.000    -40.067      0.000      -0.007      -0.006\n",
      "mileage                -3.023e-06    2.1e-07    -14.399      0.000   -3.43e-06   -2.61e-06\n",
      "np.power(mileage, 2)    1.925e-12   4.72e-13      4.074      0.000    9.98e-13    2.85e-12\n",
      "engine_power               0.0040      0.000     16.795      0.000       0.004       0.004\n",
      "==============================================================================\n",
      "Omnibus:                     4256.699   Durbin-Watson:                   2.025\n",
      "Prob(Omnibus):                  0.000   Jarque-Bera (JB):           732556.179\n",
      "Skew:                          -5.970   Prob(JB):                         0.00\n",
      "Kurtosis:                      71.621   Cond. No.                     1.03e+12\n",
      "==============================================================================\n",
      "\n",
      "Notes:\n",
      "[1] Standard Errors assume that the covariance matrix of the errors is correctly specified.\n",
      "[2] The condition number is large, 1.03e+12. This might indicate that there are\n",
      "strong multicollinearity or other numerical problems.\n"
     ]
    }
   ],
   "source": [
    "ols = smf.ols(formula, data=df, subset=train_idx)\n",
    "res = ols.fit()\n",
    "print(res.summary())"
   ]
  },
  {
   "cell_type": "code",
   "execution_count": 54,
   "id": "65ec2a55",
   "metadata": {
    "execution": {
     "iopub.execute_input": "2021-11-15T19:34:11.160286Z",
     "iopub.status.busy": "2021-11-15T19:34:11.159236Z",
     "iopub.status.idle": "2021-11-15T19:34:11.172539Z",
     "shell.execute_reply": "2021-11-15T19:34:11.173767Z",
     "shell.execute_reply.started": "2021-11-15T02:40:39.081081Z"
    },
    "papermill": {
     "duration": 26.752556,
     "end_time": "2021-11-15T19:34:11.174097",
     "exception": false,
     "start_time": "2021-11-15T19:33:44.421541",
     "status": "completed"
    },
    "tags": []
   },
   "outputs": [
    {
     "name": "stdout",
     "output_type": "stream",
     "text": [
      "R-squared: 0.81\n"
     ]
    }
   ],
   "source": [
    "# R-squared of test-data\n",
    "\n",
    "pred(res, x=df_test, y=df_test.price, log=True)"
   ]
  },
  {
   "cell_type": "markdown",
   "id": "3b3ad828",
   "metadata": {
    "papermill": {
     "duration": 26.674547,
     "end_time": "2021-11-15T19:35:04.647188",
     "exception": false,
     "start_time": "2021-11-15T19:34:37.972641",
     "status": "completed"
    },
    "tags": []
   },
   "source": [
    "**Impression**  \n",
    "Comparing manual and systematic models shows that the forward-selection method has dropped `fuel` and `color` because they didn't improve the chosen metrics. If you remember, in the manual model the two variables had insignificant coefficients. I would've dropped them had I chosen to continue with that approach! This confirms that the algorithm adds value. We can reduce exploration time by building a more efficient search algorithm instead of the brute force one applied here. Like Monte Carlo Tree or A* search to name a few. \n",
    "In any event, it doesn't matter which model we begin with. The next steps are very similar in terms of improving and validating it.\n",
    "\n",
    "That said, let's use the algorithmic output as a base formula for our model."
   ]
  },
  {
   "cell_type": "markdown",
   "id": "9a1e1256",
   "metadata": {
    "papermill": {
     "duration": 27.018977,
     "end_time": "2021-11-15T19:35:58.320042",
     "exception": false,
     "start_time": "2021-11-15T19:35:31.301065",
     "status": "completed"
    },
    "tags": []
   },
   "source": [
    "# 4. Validating the Model\n",
    "\n",
    "For the model to be valid, it should not violate the assumptions of linear regression. And it has to make economic sense, has significant coefficients, and acceptable performance metrics! In other words, it must be BLUE (Best Linear Unbiased Efficient)\n",
    "\n",
    "## 4.1 Model Assumptions\n",
    "The assumptions of Multivariate Linear Regression are:\n",
    "- MR.1: The population is described by linear model $Y = X\\beta + \\epsilon$\n",
    "- MR.2: **Strict Exogeneity**: conditional expectation of error term given all observations is zero: $E(\\epsilon |X)=0$\n",
    "- MR.3: **Conditional homoskedasticity** the variance-covariance matrix of the error term conditional on X is constant\n",
    "$$Var(\\epsilon|X) =\\sigma^2.I $$\n",
    "- MR.4: **Conditional uncorrelated errors** the covariance between different error term pairs, conditional on X is zero:\n",
    "- MR.5 There exists no exact linear relationship between the explanatory variables. This means that:\n",
    "$$ rank(X) = K+1$$\n",
    "$$det(X^TX) \\neq 0$$\n",
    "- MR.6: **(Optional)** the residulas are normally distributed i.e:\n",
    "$\\epsilon|X \\in N(0,\\sigma^2I$\n",
    "\n",
    "Each of these assumptions must be validated/tested.  \n",
    "\n",
    "\n",
    "### 4.1.1 Linearity Tests:\n",
    "This is the first assumption of linear regression. Breaching it is considered very series because it means the model is not the best representation of the data.  \n",
    "If the scatter plot between $X$ and $y$ doesn't clearly show the relationship, we revert to numerical methods to test linearity.\n",
    "\n",
    "#### 4.1.1.2 Harvey-Collier Test for Linearity:\n",
    "Harvey-Collier performs a t-test on the recursive residuals. If the true relationship is non-linear (i.e. convex or concave) the mean of the recursive residuals is significantly different from zero.  \n",
    "\n",
    "*$H_0:$ The model is correctly specified as linear*"
   ]
  },
  {
   "cell_type": "code",
   "execution_count": 55,
   "id": "19bea9c1",
   "metadata": {
    "execution": {
     "iopub.execute_input": "2021-11-15T19:36:51.803228Z",
     "iopub.status.busy": "2021-11-15T19:36:51.798447Z",
     "iopub.status.idle": "2021-11-15T19:36:52.272346Z",
     "shell.execute_reply": "2021-11-15T19:36:52.271813Z",
     "shell.execute_reply.started": "2021-11-15T02:40:39.139885Z"
    },
    "papermill": {
     "duration": 27.283829,
     "end_time": "2021-11-15T19:36:52.272497",
     "exception": false,
     "start_time": "2021-11-15T19:36:24.988668",
     "status": "completed"
    },
    "tags": []
   },
   "outputs": [
    {
     "data": {
      "text/html": [
       "<div>\n",
       "<style scoped>\n",
       "    .dataframe tbody tr th:only-of-type {\n",
       "        vertical-align: middle;\n",
       "    }\n",
       "\n",
       "    .dataframe tbody tr th {\n",
       "        vertical-align: top;\n",
       "    }\n",
       "\n",
       "    .dataframe thead th {\n",
       "        text-align: right;\n",
       "    }\n",
       "</style>\n",
       "<table border=\"1\" class=\"dataframe\">\n",
       "  <thead>\n",
       "    <tr style=\"text-align: right;\">\n",
       "      <th></th>\n",
       "      <th>F-statistic</th>\n",
       "      <th>p-value</th>\n",
       "    </tr>\n",
       "  </thead>\n",
       "  <tbody>\n",
       "    <tr>\n",
       "      <th>mileage</th>\n",
       "      <td>-0.6379</td>\n",
       "      <td>0.5236</td>\n",
       "    </tr>\n",
       "    <tr>\n",
       "      <th>engine_power</th>\n",
       "      <td>-4.3080</td>\n",
       "      <td>0.0000</td>\n",
       "    </tr>\n",
       "    <tr>\n",
       "      <th>age</th>\n",
       "      <td>-2.7497</td>\n",
       "      <td>0.0060</td>\n",
       "    </tr>\n",
       "  </tbody>\n",
       "</table>\n",
       "</div>"
      ],
      "text/plain": [
       "              F-statistic  p-value\n",
       "mileage           -0.6379   0.5236\n",
       "engine_power      -4.3080   0.0000\n",
       "age               -2.7497   0.0060"
      ]
     },
     "execution_count": 55,
     "metadata": {},
     "output_type": "execute_result"
    }
   ],
   "source": [
    "ols_ordered_tmp = smf.ols('np.log(price)~mileage+age+engine_power', data=df_train).fit()\n",
    "hc = {'F-statistic':[],'p-value':[]}\n",
    "idx = []\n",
    "for col in cont_cols:\n",
    "    if col =='price':continue\n",
    "    try:\n",
    "        h = diagnostic.linear_harvey_collier(ols_ordered_tmp, order_by=np.argsort(df_train[col]))\n",
    "        idx.append(col)\n",
    "        hc['F-statistic'].append(h[0])\n",
    "        hc['p-value'].append(h[1])\n",
    "        \n",
    "    except:\n",
    "        pass\n",
    "pd.DataFrame(hc, index=idx).round(4)"
   ]
  },
  {
   "cell_type": "markdown",
   "id": "08e35f65",
   "metadata": {
    "papermill": {
     "duration": 26.736139,
     "end_time": "2021-11-15T19:37:45.914406",
     "exception": false,
     "start_time": "2021-11-15T19:37:19.178267",
     "status": "completed"
    },
    "tags": []
   },
   "source": [
    "#### 4.1.1.3 Rainbow Test for Linearity:\n",
    "Rainbow test assums that the **true** model is non-linear with additional parameters $Z.\\theta$. Where $Z$ is an $r$ x $K$ matrix.  \n",
    "The hypothesis test to prove linearity is\n",
    "\n",
    "*$H_0:\\theta = 0$ (The model is correctly specificed as linear)*  \n",
    "*$H_1:\\theta \\neq 0$*"
   ]
  },
  {
   "cell_type": "code",
   "execution_count": 56,
   "id": "6bcaa2c4",
   "metadata": {
    "execution": {
     "iopub.execute_input": "2021-11-15T19:38:39.598155Z",
     "iopub.status.busy": "2021-11-15T19:38:39.597042Z",
     "iopub.status.idle": "2021-11-15T19:38:39.729186Z",
     "shell.execute_reply": "2021-11-15T19:38:39.729681Z",
     "shell.execute_reply.started": "2021-11-15T02:40:39.629873Z"
    },
    "papermill": {
     "duration": 27.02431,
     "end_time": "2021-11-15T19:38:39.729877",
     "exception": false,
     "start_time": "2021-11-15T19:38:12.705567",
     "status": "completed"
    },
    "tags": []
   },
   "outputs": [
    {
     "data": {
      "text/html": [
       "<style type=\"text/css\">\n",
       "</style>\n",
       "<table id=\"T_828b5_\">\n",
       "  <thead>\n",
       "    <tr>\n",
       "      <th class=\"blank level0\" >&nbsp;</th>\n",
       "      <th class=\"col_heading level0 col0\" >F-statistic</th>\n",
       "      <th class=\"col_heading level0 col1\" >p-value</th>\n",
       "    </tr>\n",
       "  </thead>\n",
       "  <tbody>\n",
       "    <tr>\n",
       "      <th id=\"T_828b5_level0_row0\" class=\"row_heading level0 row0\" >mileage</th>\n",
       "      <td id=\"T_828b5_row0_col0\" class=\"data row0 col0\" >0.823809</td>\n",
       "      <td id=\"T_828b5_row0_col1\" class=\"data row0 col1\" >0.999981</td>\n",
       "    </tr>\n",
       "    <tr>\n",
       "      <th id=\"T_828b5_level0_row1\" class=\"row_heading level0 row1\" >engine_power</th>\n",
       "      <td id=\"T_828b5_row1_col0\" class=\"data row1 col0\" >0.811053</td>\n",
       "      <td id=\"T_828b5_row1_col1\" class=\"data row1 col1\" >0.999996</td>\n",
       "    </tr>\n",
       "    <tr>\n",
       "      <th id=\"T_828b5_level0_row2\" class=\"row_heading level0 row2\" >age</th>\n",
       "      <td id=\"T_828b5_row2_col0\" class=\"data row2 col0\" >1.389998</td>\n",
       "      <td id=\"T_828b5_row2_col1\" class=\"data row2 col1\" >0.000000</td>\n",
       "    </tr>\n",
       "  </tbody>\n",
       "</table>\n"
      ],
      "text/plain": [
       "<pandas.io.formats.style.Styler at 0x7fc544e36790>"
      ]
     },
     "execution_count": 56,
     "metadata": {},
     "output_type": "execute_result"
    }
   ],
   "source": [
    "rainbow = {'F-statistic':[],'p-value':[]}\n",
    "idx = []\n",
    "for col in cont_cols:\n",
    "    if col =='price': continue    \n",
    "    try:\n",
    "        h = diagnostic.linear_rainbow(ols_ordered_tmp, order_by=col)\n",
    "        rainbow['F-statistic'].append(h[0])\n",
    "        rainbow['p-value'].append(h[1])\n",
    "        idx.append(col)\n",
    "    except:\n",
    "        pass\n",
    "pd.DataFrame(rainbow, index=idx).style.format('{:.6f}')"
   ]
  },
  {
   "cell_type": "markdown",
   "id": "fa490d18",
   "metadata": {
    "papermill": {
     "duration": 26.716522,
     "end_time": "2021-11-15T19:39:33.194064",
     "exception": false,
     "start_time": "2021-11-15T19:39:06.477542",
     "status": "completed"
    },
    "tags": []
   },
   "source": [
    "**Impression**\n",
    "The relationship between `price` and both `mileage` and `engine_power` is correctly specified as linear. However, its relationship with `age` does not appear linear, as the scatter plot shows. That said, we can still build a linear model since the other variables are linear and either omit `age` altogether or leave it as is. The alternative is to build a non-linear algorithm, which is out of the scope of this notebook"
   ]
  },
  {
   "cell_type": "code",
   "execution_count": 57,
   "id": "fff603f7",
   "metadata": {
    "execution": {
     "iopub.execute_input": "2021-11-15T19:40:26.581118Z",
     "iopub.status.busy": "2021-11-15T19:40:26.580436Z",
     "iopub.status.idle": "2021-11-15T19:40:26.687465Z",
     "shell.execute_reply": "2021-11-15T19:40:26.686621Z",
     "shell.execute_reply.started": "2021-11-15T02:40:39.771202Z"
    },
    "papermill": {
     "duration": 26.909541,
     "end_time": "2021-11-15T19:40:26.687632",
     "exception": false,
     "start_time": "2021-11-15T19:39:59.778091",
     "status": "completed"
    },
    "tags": []
   },
   "outputs": [
    {
     "data": {
      "text/html": [
       "<iframe\n",
       "    scrolling=\"no\"\n",
       "    width=\"100%\"\n",
       "    height=\"545px\"\n",
       "    src=\"iframe_figures/figure_57.html\"\n",
       "    frameborder=\"0\"\n",
       "    allowfullscreen\n",
       "></iframe>\n"
      ]
     },
     "metadata": {},
     "output_type": "display_data"
    }
   ],
   "source": [
    "# Scatter age and price again and draw a log-normal terndline to visualize the non-linear relation between them\n",
    "\n",
    "px.scatter(dfc_train, x='age', y='price', trendline='ols', log_y=True, log_x=False, trendline_color_override='red')"
   ]
  },
  {
   "cell_type": "markdown",
   "id": "2062e66c",
   "metadata": {
    "papermill": {
     "duration": 26.869736,
     "end_time": "2021-11-15T19:41:20.295751",
     "exception": false,
     "start_time": "2021-11-15T19:40:53.426015",
     "status": "completed"
    },
    "tags": []
   },
   "source": [
    "### 4.1.2 Heteroskadasticity:\n",
    "\n",
    "Heteroskedasticity occurs when the variance of the error term is not constant across observations. This breaches assumption MR.3 of linear regression and causes:\n",
    "\n",
    "- the variance of the estimators to become biased and inconsistent\n",
    "- the OLS estimator no longer has Student $t$ distribution, which renders *t-test* invalid. Even for large data samples\n",
    "However, OLS estimators themselves remain unbiased\n",
    "\n",
    "#### 4.1.2.1 Residual Plot diagram:\n",
    "Run sequence and vs predicted values, and against each of the independent variable"
   ]
  },
  {
   "cell_type": "code",
   "execution_count": 58,
   "id": "4e62a9ec",
   "metadata": {
    "execution": {
     "iopub.execute_input": "2021-11-15T19:42:13.727630Z",
     "iopub.status.busy": "2021-11-15T19:42:13.726597Z",
     "iopub.status.idle": "2021-11-15T19:42:13.863802Z",
     "shell.execute_reply": "2021-11-15T19:42:13.864949Z",
     "shell.execute_reply.started": "2021-11-15T02:40:39.881975Z"
    },
    "papermill": {
     "duration": 26.967037,
     "end_time": "2021-11-15T19:42:13.865265",
     "exception": false,
     "start_time": "2021-11-15T19:41:46.898228",
     "status": "completed"
    },
    "tags": []
   },
   "outputs": [
    {
     "data": {
      "text/html": [
       "<iframe\n",
       "    scrolling=\"no\"\n",
       "    width=\"100%\"\n",
       "    height=\"620\"\n",
       "    src=\"iframe_figures/figure_58.html\"\n",
       "    frameborder=\"0\"\n",
       "    allowfullscreen\n",
       "></iframe>\n"
      ]
     },
     "metadata": {},
     "output_type": "display_data"
    }
   ],
   "source": [
    "plot_kwargs = dict(mode='markers',\n",
    "                   marker=dict(symbol='circle-open', opacity=0.4, size=6, #color='orange', \n",
    "                               line=dict(color='orange', width=1)\n",
    "                              )\n",
    "                  )\n",
    "\n",
    "fig = make_subplots(2,3,vertical_spacing=.15,horizontal_spacing=.05,\n",
    "                   subplot_titles=['Run-Seq','Price Y','Pred Price','Mileage','Age','Engine Power'])\n",
    "fig.append_trace(go.Scatter(y=res.resid,name='seq-run', **plot_kwargs), 1,1)\n",
    "fig.append_trace(go.Scatter(x=res.model.endog,name='price (y)', y=res.resid, **plot_kwargs), 1,2)\n",
    "fig.append_trace(go.Scatter(x=res.fittedvalues,name='predicted price', y=res.resid, **plot_kwargs), 1,3)\n",
    "fig.append_trace(go.Scatter(x=df.iloc[train_idx].mileage, name='mileage', y=res.resid, **plot_kwargs), 2,1)\n",
    "fig.append_trace(go.Scatter(x=df.iloc[train_idx].age, name='age', y=res.resid, **plot_kwargs), 2,2)\n",
    "fig.append_trace(go.Scatter(x=df.iloc[train_idx].engine_power, name='engine_power', y=res.resid, **plot_kwargs), 2,3)\n",
    "\n",
    "fig.update_layout(height=600)\n",
    "fig.show()\n",
    "\n",
    "# plt.plot(res_algo.model.endog,res_algo.resid, 'rx')"
   ]
  },
  {
   "cell_type": "markdown",
   "id": "f2f966d1",
   "metadata": {
    "papermill": {
     "duration": 26.776989,
     "end_time": "2021-11-15T19:43:07.555848",
     "exception": false,
     "start_time": "2021-11-15T19:42:40.778859",
     "status": "completed"
    },
    "tags": []
   },
   "source": [
    "**Conclusion**  \n",
    "Visually, I don't see a particular increasing or decreasing pattern to confirm or deny heteroskedasticity. So let's run some tests\n",
    "\n",
    "#### 4.1.2.2 Goldfeld-Quandt test:\n",
    "It's based on two subsamples with two different variances.  \n",
    "$H_0:$ no heteroskadasticity"
   ]
  },
  {
   "cell_type": "code",
   "execution_count": 59,
   "id": "e9889b6f",
   "metadata": {
    "execution": {
     "iopub.execute_input": "2021-11-15T19:44:00.897235Z",
     "iopub.status.busy": "2021-11-15T19:44:00.895976Z",
     "iopub.status.idle": "2021-11-15T19:44:00.974474Z",
     "shell.execute_reply": "2021-11-15T19:44:00.975557Z",
     "shell.execute_reply.started": "2021-11-15T02:40:40.035891Z"
    },
    "papermill": {
     "duration": 26.778656,
     "end_time": "2021-11-15T19:44:00.975850",
     "exception": false,
     "start_time": "2021-11-15T19:43:34.197194",
     "status": "completed"
    },
    "tags": []
   },
   "outputs": [
    {
     "data": {
      "text/html": [
       "<div>\n",
       "<style scoped>\n",
       "    .dataframe tbody tr th:only-of-type {\n",
       "        vertical-align: middle;\n",
       "    }\n",
       "\n",
       "    .dataframe tbody tr th {\n",
       "        vertical-align: top;\n",
       "    }\n",
       "\n",
       "    .dataframe thead th {\n",
       "        text-align: right;\n",
       "    }\n",
       "</style>\n",
       "<table border=\"1\" class=\"dataframe\">\n",
       "  <thead>\n",
       "    <tr style=\"text-align: right;\">\n",
       "      <th></th>\n",
       "      <th>F-statistic</th>\n",
       "      <th>p-value</th>\n",
       "      <th>alternative</th>\n",
       "      <th>result</th>\n",
       "    </tr>\n",
       "  </thead>\n",
       "  <tbody>\n",
       "    <tr>\n",
       "      <th>run-seq</th>\n",
       "      <td>0.971489</td>\n",
       "      <td>5.412409e-01</td>\n",
       "      <td>two-sided</td>\n",
       "      <td></td>\n",
       "    </tr>\n",
       "    <tr>\n",
       "      <th>np.power(age, 2)</th>\n",
       "      <td>0.311864</td>\n",
       "      <td>5.382870e-127</td>\n",
       "      <td>two-sided</td>\n",
       "      <td>Reject Null Hypothesis</td>\n",
       "    </tr>\n",
       "    <tr>\n",
       "      <th>mileage</th>\n",
       "      <td>1.170770</td>\n",
       "      <td>8.722418e-04</td>\n",
       "      <td>two-sided</td>\n",
       "      <td>Reject Null Hypothesis</td>\n",
       "    </tr>\n",
       "    <tr>\n",
       "      <th>np.power(mileage, 2)</th>\n",
       "      <td>1.170770</td>\n",
       "      <td>8.722418e-04</td>\n",
       "      <td>two-sided</td>\n",
       "      <td>Reject Null Hypothesis</td>\n",
       "    </tr>\n",
       "    <tr>\n",
       "      <th>engine_power</th>\n",
       "      <td>0.950011</td>\n",
       "      <td>2.786379e-01</td>\n",
       "      <td>two-sided</td>\n",
       "      <td></td>\n",
       "    </tr>\n",
       "  </tbody>\n",
       "</table>\n",
       "</div>"
      ],
      "text/plain": [
       "                      F-statistic        p-value alternative  \\\n",
       "run-seq                  0.971489   5.412409e-01   two-sided   \n",
       "np.power(age, 2)         0.311864  5.382870e-127   two-sided   \n",
       "mileage                  1.170770   8.722418e-04   two-sided   \n",
       "np.power(mileage, 2)     1.170770   8.722418e-04   two-sided   \n",
       "engine_power             0.950011   2.786379e-01   two-sided   \n",
       "\n",
       "                                      result  \n",
       "run-seq                                       \n",
       "np.power(age, 2)      Reject Null Hypothesis  \n",
       "mileage               Reject Null Hypothesis  \n",
       "np.power(mileage, 2)  Reject Null Hypothesis  \n",
       "engine_power                                  "
      ]
     },
     "execution_count": 59,
     "metadata": {},
     "output_type": "execute_result"
    }
   ],
   "source": [
    "def GQ_test(ols, start_idx=None, alpha=0.05):\n",
    "    GQ = lambda ols,i: diagnostic.het_goldfeldquandt(ols.endog, ols.exog, idx=i, alternative='two-sided')\n",
    "    gq_df = pd.DataFrame([GQ(ols, i=i) for i in [None]+list(range(start_idx,ols.exog.shape[1]))],\n",
    "             index=['run-seq']+ols.exog_names[start_idx:],\n",
    "             columns=['F-statistic','p-value','alternative']\n",
    "            )\n",
    "    gq_df['result'] = np.where(gq_df['p-value']< alpha , 'Reject Null Hypothesis', '')\n",
    "    return gq_df\n",
    "GQ_test(ols, start_idx=23, alpha=.05)"
   ]
  },
  {
   "cell_type": "markdown",
   "id": "fbae65d2",
   "metadata": {
    "papermill": {
     "duration": 26.670081,
     "end_time": "2021-11-15T19:44:54.229429",
     "exception": false,
     "start_time": "2021-11-15T19:44:27.559348",
     "status": "completed"
    },
    "tags": []
   },
   "source": [
    "#### 4.1.2.3 Breusch-Pagan test\n",
    "This is a general heteroskedasticity test that returns two statistics `LM` and `F-statistic`. Its null hypothesis is: \n",
    "$H_0:$ no heterskadasticity at $\\alpha$ level.  \n",
    "We run the test between the residuals and the group of $X$ variables we suspect of being related to heteroskedasticity. In our case, it's `age` and `mileage`, as shown by the GQ test\n",
    "\n",
    "*Note: p-value can change with different training sets. Sometimes it confirms heteroskedasticity in `age` and `mileage`, other times only `age`*"
   ]
  },
  {
   "cell_type": "code",
   "execution_count": 60,
   "id": "c62621a1",
   "metadata": {
    "execution": {
     "iopub.execute_input": "2021-11-15T19:45:47.648022Z",
     "iopub.status.busy": "2021-11-15T19:45:47.647323Z",
     "iopub.status.idle": "2021-11-15T19:45:47.657442Z",
     "shell.execute_reply": "2021-11-15T19:45:47.656890Z",
     "shell.execute_reply.started": "2021-11-15T02:40:40.15037Z"
    },
    "papermill": {
     "duration": 26.796177,
     "end_time": "2021-11-15T19:45:47.657577",
     "exception": false,
     "start_time": "2021-11-15T19:45:20.861400",
     "status": "completed"
    },
    "tags": []
   },
   "outputs": [
    {
     "name": "stdout",
     "output_type": "stream",
     "text": [
      "              Breusch-Pagan\n",
      "LM statistic   4.544930e+01\n",
      "p-value        1.566418e-11\n",
      "F statistic    2.300056e+01\n",
      "p-value        1.185451e-10\n"
     ]
    }
   ],
   "source": [
    "bp = list(diagnostic.het_breuschpagan(res.resid, df.iloc[train_idx][['age','mileage']].values))\n",
    "print(pd.DataFrame(bp, index=['LM statistic','p-value','F statistic','p-value'], columns=['Breusch-Pagan']))"
   ]
  },
  {
   "cell_type": "markdown",
   "id": "3606b1c2",
   "metadata": {
    "papermill": {
     "duration": 26.758525,
     "end_time": "2021-11-15T19:46:41.041754",
     "exception": false,
     "start_time": "2021-11-15T19:46:14.283229",
     "status": "completed"
    },
    "tags": []
   },
   "source": [
    "**Conclusion**Since the p-value is less than $\\alpha$ (0.05) We reject the null hypothesis and conclude the presence of heteroskedasticity in `age` and `mileage`\n",
    "\n",
    "*Note: \n",
    "\n",
    "#### 4.1.2.4 White test\n",
    "Even more generalized test. Its design allows it to include not only exogenous variables but also their polynomial and interaction terms. Its null is: $H_0:$ No heteroskedasticity\n"
   ]
  },
  {
   "cell_type": "code",
   "execution_count": 61,
   "id": "9f1c4e8e",
   "metadata": {
    "execution": {
     "iopub.execute_input": "2021-11-15T19:47:34.450184Z",
     "iopub.status.busy": "2021-11-15T19:47:34.449485Z",
     "iopub.status.idle": "2021-11-15T19:47:34.465619Z",
     "shell.execute_reply": "2021-11-15T19:47:34.466500Z",
     "shell.execute_reply.started": "2021-11-15T02:40:40.171021Z"
    },
    "papermill": {
     "duration": 26.632175,
     "end_time": "2021-11-15T19:47:34.466794",
     "exception": false,
     "start_time": "2021-11-15T19:47:07.834619",
     "status": "completed"
    },
    "tags": []
   },
   "outputs": [
    {
     "data": {
      "text/plain": [
       "(100.67791115670977,\n",
       " 7.055314809710469e-21,\n",
       " 25.852969959081303,\n",
       " 3.707679724341309e-21)"
      ]
     },
     "execution_count": 61,
     "metadata": {},
     "output_type": "execute_result"
    }
   ],
   "source": [
    "white_mat = np.column_stack([np.ones(len(train_idx)), df.iloc[train_idx].age,df.iloc[train_idx].age**2])\n",
    "diagnostic.het_white(res.resid, white_mat)"
   ]
  },
  {
   "cell_type": "markdown",
   "id": "a79b1186",
   "metadata": {
    "papermill": {
     "duration": 26.927936,
     "end_time": "2021-11-15T19:48:28.155901",
     "exception": false,
     "start_time": "2021-11-15T19:48:01.227965",
     "status": "completed"
    },
    "tags": []
   },
   "source": [
    "\n",
    "#### 4.1.2.5 How to fix it?\n",
    "#### 4.1.2.5.A Heteroskadastic-Consistent Errors (HCE):\n",
    "Also known as white errors. Use them to correct SE, and assess the coefficient's significance. This is a quick and dirty way that often produces variables larger than model-based estimators like WLS, GLS if the residual covariance matrix is correctly specified. However, it's very useful when the shape of heteroskedasticity is unknown.  \n",
    "All we need to do is fit the model using one of the robust `cov_type`s, then use the new coefficient standard errors and p-values"
   ]
  },
  {
   "cell_type": "code",
   "execution_count": 62,
   "id": "6cfb5e1b",
   "metadata": {
    "execution": {
     "iopub.execute_input": "2021-11-15T19:49:21.651154Z",
     "iopub.status.busy": "2021-11-15T19:49:21.648293Z",
     "iopub.status.idle": "2021-11-15T19:49:21.688349Z",
     "shell.execute_reply": "2021-11-15T19:49:21.689909Z",
     "shell.execute_reply.started": "2021-11-15T02:40:40.192152Z"
    },
    "papermill": {
     "duration": 26.708399,
     "end_time": "2021-11-15T19:49:21.690212",
     "exception": false,
     "start_time": "2021-11-15T19:48:54.981813",
     "status": "completed"
    },
    "tags": []
   },
   "outputs": [
    {
     "name": "stdout",
     "output_type": "stream",
     "text": [
      "==========================================================================================\n",
      "                             coef    std err          t      P>|t|      [0.025      0.975]\n",
      "------------------------------------------------------------------------------------------\n",
      "Intercept                  9.2191      0.087    105.707      0.000       9.048       9.390\n",
      "fuel[T.petrol]            -0.0951      0.030     -3.183      0.001      -0.154      -0.037\n",
      "car_type[T.coupe]         -0.1524      0.079     -1.928      0.054      -0.307       0.003\n",
      "car_type[T.estate]        -0.3536      0.074     -4.779      0.000      -0.499      -0.208\n",
      "car_type[T.hatchback]     -0.1495      0.071     -2.101      0.036      -0.289      -0.010\n",
      "car_type[T.sedan]         -0.1750      0.075     -2.327      0.020      -0.322      -0.028\n",
      "car_type[T.subcompact]    -0.1129      0.076     -1.493      0.136      -0.261       0.035\n",
      "car_type[T.suv]           -0.2374      0.135     -1.753      0.080      -0.503       0.028\n",
      "car_type[T.van]           -0.3950      0.112     -3.514      0.000      -0.615      -0.175\n",
      "feature_1[T.True]          0.0714      0.012      5.806      0.000       0.047       0.096\n",
      "feature_2[T.True]          0.1038      0.024      4.384      0.000       0.057       0.150\n",
      "feature_4[T.True]          0.0928      0.017      5.407      0.000       0.059       0.126\n",
      "feature_5[T.True]          0.0828      0.012      6.798      0.000       0.059       0.107\n",
      "feature_6[T.True]          0.0810      0.010      8.455      0.000       0.062       0.100\n",
      "feature_7[T.True]          0.1389      0.058      2.399      0.016       0.025       0.252\n",
      "feature_8[T.True]          0.0958      0.017      5.535      0.000       0.062       0.130\n",
      "model[T.2 series]          0.2358      0.075      3.162      0.002       0.090       0.382\n",
      "model[T.3 series]          0.1889      0.025      7.680      0.000       0.141       0.237\n",
      "model[T.4 series]          0.3230      0.033      9.801      0.000       0.258       0.388\n",
      "model[T.5 series]          0.3291      0.030     11.083      0.000       0.271       0.387\n",
      "model[T.6 series]          0.3177      0.075      4.255      0.000       0.171       0.464\n",
      "model[T.7 series]          0.4608      0.045     10.299      0.000       0.373       0.548\n",
      "model[T.Other]             0.3973      0.091      4.389      0.000       0.220       0.575\n",
      "np.power(age, 2)          -0.0064      0.000    -13.319      0.000      -0.007      -0.005\n",
      "mileage                -3.023e-06   1.99e-07    -15.165      0.000   -3.41e-06   -2.63e-06\n",
      "np.power(mileage, 2)    1.925e-12   3.62e-13      5.314      0.000    1.21e-12    2.63e-12\n",
      "engine_power               0.0040      0.000     14.784      0.000       0.003       0.004\n",
      "==========================================================================================\n"
     ]
    },
    {
     "name": "stderr",
     "output_type": "stream",
     "text": [
      "/home/ayman/anaconda3/envs/stats/lib/python3.9/site-packages/statsmodels/base/model.py:1832: ValueWarning:\n",
      "\n",
      "covariance of constraints does not have full rank. The number of constraints is 26, but rank is 25\n",
      "\n"
     ]
    }
   ],
   "source": [
    "print(res.get_robustcov_results('HC0').summary().tables[1])"
   ]
  },
  {
   "cell_type": "markdown",
   "id": "bf1631f9",
   "metadata": {
    "papermill": {
     "duration": 26.662417,
     "end_time": "2021-11-15T19:50:15.189967",
     "exception": false,
     "start_time": "2021-11-15T19:49:48.527550",
     "status": "completed"
    },
    "tags": []
   },
   "source": [
    "#### 4.1.2.5.B Weighted Least Squares (WLS)\n",
    "I'm not going to get into the math of WLS, but it is a special case of Generalized Least Squares (GLS) that assumes no autocorrelation. i.e. covariance matrix is diagonal that has *some* form of heteroskedasticity! Feasible GLS Procedure:\n",
    "1. Estimate the regression via OLS\n",
    "2. Calculate $log(\\epsilon^2)$\n",
    "3. estimate the regression $log(\\epsilon^2)=X\\alpha+v_i$ and calculate the fitted values.\n",
    "4. Take the exponent of fitted values $\\hat{h_i}=e^{\\hat{log(\\epsilon_i^2)}}$\n",
    "5. Estimate regression $Y=X\\beta + \\epsilon$ via WLS using weights $w_i^{-1}=1/\\sqrt{\\hat{h_i}}$"
   ]
  },
  {
   "cell_type": "code",
   "execution_count": 63,
   "id": "ce68947d",
   "metadata": {
    "execution": {
     "iopub.execute_input": "2021-11-15T19:51:08.724164Z",
     "iopub.status.busy": "2021-11-15T19:51:08.723055Z",
     "iopub.status.idle": "2021-11-15T19:51:08.918628Z",
     "shell.execute_reply": "2021-11-15T19:51:08.919526Z",
     "shell.execute_reply.started": "2021-11-15T02:40:40.233315Z"
    },
    "papermill": {
     "duration": 26.859657,
     "end_time": "2021-11-15T19:51:08.919816",
     "exception": false,
     "start_time": "2021-11-15T19:50:42.060159",
     "status": "completed"
    },
    "tags": []
   },
   "outputs": [
    {
     "name": "stdout",
     "output_type": "stream",
     "text": [
      "              Breusch-Pagan\n",
      "LM statistic   3.269849e+01\n",
      "p-value        1.076208e-08\n",
      "F statistic    1.648900e+01\n",
      "p-value        7.435716e-08\n"
     ]
    }
   ],
   "source": [
    "# Calculate weights array: h_est\n",
    "log_e2 = np.log(res.resid**2)\n",
    "e2_mat = df.iloc[train_idx].copy()\n",
    "e2_mat['log_e2'] = log_e2\n",
    "f_e2 = 'log_e2~age + np.power(age,2) + mileage + np.power(mileage,2) + engine_power + car_type + feature_1 + feature_2 + feature_4 + feature_5 + feature_6 + feature_7 + feature_8 + model'\n",
    "h_est = np.exp(smf.ols(formula=f_e2, data=e2_mat).fit().fittedvalues)\n",
    "\n",
    "# Build GLS model using residual weights\n",
    "wls = smf.wls(ols.formula, data=df.iloc[train_idx],weights=1/h_est)\n",
    "res_wls = wls.fit()\n",
    "\n",
    "# Test Heteroskedactisity in WLS\n",
    "bp_wls = list(diagnostic.het_breuschpagan(res_wls.wresid, df.iloc[train_idx][['age','mileage']].values))\n",
    "print(pd.DataFrame(bp_wls, index=['LM statistic','p-value','F statistic','p-value'], columns=['Breusch-Pagan']))"
   ]
  },
  {
   "cell_type": "markdown",
   "id": "961232ad",
   "metadata": {
    "papermill": {
     "duration": 26.975758,
     "end_time": "2021-11-15T19:52:02.503380",
     "exception": false,
     "start_time": "2021-11-15T19:51:35.527622",
     "status": "completed"
    },
    "tags": []
   },
   "source": [
    "**Conclusion**: using WLS decreased heteroskedasticity but it didn't eliminate it. This is mainly because we don't know the true form of heteroskedasticity in residuals. In practice, it's acceptable to use white corrected standard errors (Hansen method) \n",
    "\n",
    "### 4.1.3 Multicollinearity:\n",
    "\n",
    "Is the situation in which two or more explanatory variables are highly **linearly** correlated. This is a violation of assumption MR.5 of linear regression that causes the determinant of $(X^T.X)$ matrix to be zero, which results in an invertible matrix. However, In real life, such a relationship is almost always approximate (never perfect), and therefore $det(X^TX)$ is close to zero. The consequences are:\n",
    "\n",
    "- Imprecise estimators\n",
    "- Large coefficient standard errors -> failure to reject their significance\n",
    "- Small changes to input data can lead to big changes in the model (even different signs of the coefficients). This can be examined using cv training\n",
    "- The usual interpretation of the change in one variable holding all else equal does not hold anymore\n",
    "- Overfitting, since the variables contain the same data (or partially the same)\n",
    "\n",
    "\n",
    "#### 4.1.3.1 How to detect it?\n",
    "The obvious red flags are large F-statistic accompanied by insignificant coefficients (small p-values) and big changes in coefficients when training on different data blocks.\n",
    "\n",
    "1. $det(X^TX) \\neq 0$  \n",
    "2. $(X^TX)^{-1}(X^TX)=I \\neq 0$\n",
    "3. Correlation between variables\n",
    "4. **Variance Inflation Factor**: runs a regression between the selected $X_i$ and other independent variables and claculates $VIF=1/(1-R^2)$. Any value above 10 is not good, below 5 is acceptable\n",
    "\n",
    "We've examined the correlation matrix in step 2.4 and found a moderate positive association between `age` and `mileage`, which might indicate multicollinearity!  \n",
    "However, what I'm more concerned about is the second warning of regression summary:  \n",
    "`[2] The condition number is large, 1.04e+12. This might indicate that there are\n",
    "strong multicollinearity or other numerical problems.`  \n",
    "\n",
    "So let's run the standard collinearity tests then try to address the condition number by normalizing data. This can address collinearity and other numerical problems."
   ]
  },
  {
   "cell_type": "code",
   "execution_count": 64,
   "id": "120736a6",
   "metadata": {
    "execution": {
     "iopub.execute_input": "2021-11-15T19:52:55.747295Z",
     "iopub.status.busy": "2021-11-15T19:52:55.746383Z",
     "iopub.status.idle": "2021-11-15T19:52:55.750422Z",
     "shell.execute_reply": "2021-11-15T19:52:55.749895Z",
     "shell.execute_reply.started": "2021-11-15T02:40:40.472245Z"
    },
    "papermill": {
     "duration": 26.703121,
     "end_time": "2021-11-15T19:52:55.750566",
     "exception": false,
     "start_time": "2021-11-15T19:52:29.047445",
     "status": "completed"
    },
    "tags": []
   },
   "outputs": [
    {
     "data": {
      "text/plain": [
       "2.2834584260273695e+101"
      ]
     },
     "execution_count": 64,
     "metadata": {},
     "output_type": "execute_result"
    }
   ],
   "source": [
    "# 1. determinant matrix\n",
    "X = res.model.exog\n",
    "det(X.T@X)"
   ]
  },
  {
   "cell_type": "code",
   "execution_count": 65,
   "id": "901951ec",
   "metadata": {
    "execution": {
     "iopub.execute_input": "2021-11-15T19:53:49.055559Z",
     "iopub.status.busy": "2021-11-15T19:53:49.054879Z",
     "iopub.status.idle": "2021-11-15T19:53:49.066150Z",
     "shell.execute_reply": "2021-11-15T19:53:49.067206Z",
     "shell.execute_reply.started": "2021-11-15T02:40:40.484051Z"
    },
    "papermill": {
     "duration": 26.679735,
     "end_time": "2021-11-15T19:53:49.067514",
     "exception": false,
     "start_time": "2021-11-15T19:53:22.387779",
     "status": "completed"
    },
    "tags": []
   },
   "outputs": [
    {
     "data": {
      "text/plain": [
       "array([1., 1., 1., 1., 1., 1., 1., 1., 1., 1., 1., 1., 1., 1., 1., 1., 1.,\n",
       "       1., 1., 1., 1., 1., 1., 1., 1., 1., 1.])"
      ]
     },
     "execution_count": 65,
     "metadata": {},
     "output_type": "execute_result"
    }
   ],
   "source": [
    "# 2. (X.T@X)^-1 @(X.T@X) = I\n",
    "np.diag(np.round(inv(X.T@X)@(X.T@X), 7))"
   ]
  },
  {
   "cell_type": "markdown",
   "id": "e3f71cda",
   "metadata": {
    "papermill": {
     "duration": 26.890778,
     "end_time": "2021-11-15T19:54:42.882186",
     "exception": false,
     "start_time": "2021-11-15T19:54:15.991408",
     "status": "completed"
    },
    "tags": []
   },
   "source": [
    "The first two tests don't show any signs of multicollinearity but to be on the safe side let's run a variance influence factor test on the continuous variables `age`, `mileage`, and `engine_power`. We are not concerned about the artificial multicollinearity that results from a polynomial transformation of independent variables"
   ]
  },
  {
   "cell_type": "code",
   "execution_count": 66,
   "id": "2764ca28",
   "metadata": {
    "execution": {
     "iopub.execute_input": "2021-11-15T19:55:36.319531Z",
     "iopub.status.busy": "2021-11-15T19:55:36.318751Z",
     "iopub.status.idle": "2021-11-15T19:55:36.353440Z",
     "shell.execute_reply": "2021-11-15T19:55:36.354489Z",
     "shell.execute_reply.started": "2021-11-15T02:40:40.498475Z"
    },
    "papermill": {
     "duration": 26.5755,
     "end_time": "2021-11-15T19:55:36.354788",
     "exception": false,
     "start_time": "2021-11-15T19:55:09.779288",
     "status": "completed"
    },
    "tags": []
   },
   "outputs": [
    {
     "data": {
      "text/html": [
       "<div>\n",
       "<style scoped>\n",
       "    .dataframe tbody tr th:only-of-type {\n",
       "        vertical-align: middle;\n",
       "    }\n",
       "\n",
       "    .dataframe tbody tr th {\n",
       "        vertical-align: top;\n",
       "    }\n",
       "\n",
       "    .dataframe thead th {\n",
       "        text-align: right;\n",
       "    }\n",
       "</style>\n",
       "<table border=\"1\" class=\"dataframe\">\n",
       "  <thead>\n",
       "    <tr style=\"text-align: right;\">\n",
       "      <th></th>\n",
       "      <th>VIF</th>\n",
       "    </tr>\n",
       "  </thead>\n",
       "  <tbody>\n",
       "    <tr>\n",
       "      <th>model[T.Other]</th>\n",
       "      <td>32.573577</td>\n",
       "    </tr>\n",
       "    <tr>\n",
       "      <th>mileage</th>\n",
       "      <td>4.409732</td>\n",
       "    </tr>\n",
       "    <tr>\n",
       "      <th>engine_power</th>\n",
       "      <td>2.314406</td>\n",
       "    </tr>\n",
       "  </tbody>\n",
       "</table>\n",
       "</div>"
      ],
      "text/plain": [
       "                      VIF\n",
       "model[T.Other]  32.573577\n",
       "mileage          4.409732\n",
       "engine_power     2.314406"
      ]
     },
     "execution_count": 66,
     "metadata": {},
     "output_type": "execute_result"
    }
   ],
   "source": [
    "#Let's define a function to calculate Variance Influence Factor\n",
    "def vif_test(ols, cont_cols:list =None):\n",
    "    \"\"\"\n",
    "    VIF test for collinearity of specific continuous variables\n",
    "    Inputs:\n",
    "    ols: ordinary least square model (statsmodels)\n",
    "    cont_cols: list contains the column numbers of variables you want to test\n",
    "    \"\"\"\n",
    "    if cont_cols is None:\n",
    "        cont_cols = list(range(ols.exog.shape[1]))\n",
    "    index = [ols.exog_names[n] for n in cont_cols]\n",
    "    vif = lambda ols, i: variance_inflation_factor(ols.exog, exog_idx=i)\n",
    "    return pd.DataFrame([vif(ols,i) for i in cont_cols], index=index, columns=['VIF'])\n",
    "\n",
    "vif_test(ols, [22,24,26])"
   ]
  },
  {
   "cell_type": "markdown",
   "id": "94aec300",
   "metadata": {
    "papermill": {
     "duration": 26.504295,
     "end_time": "2021-11-15T19:56:29.668565",
     "exception": false,
     "start_time": "2021-11-15T19:56:03.164270",
     "status": "completed"
    },
    "tags": []
   },
   "source": [
    "`age` is showing moderate collinearity but before we take an action let's normalize that data to see if that helps. To do that we can either use "
   ]
  },
  {
   "cell_type": "code",
   "execution_count": 67,
   "id": "a6723c38",
   "metadata": {
    "execution": {
     "iopub.execute_input": "2021-11-15T19:57:22.981592Z",
     "iopub.status.busy": "2021-11-15T19:57:22.980642Z",
     "iopub.status.idle": "2021-11-15T19:57:23.118306Z",
     "shell.execute_reply": "2021-11-15T19:57:23.117265Z",
     "shell.execute_reply.started": "2021-11-15T02:40:40.540793Z"
    },
    "papermill": {
     "duration": 26.705655,
     "end_time": "2021-11-15T19:57:23.118563",
     "exception": false,
     "start_time": "2021-11-15T19:56:56.412908",
     "status": "completed"
    },
    "tags": []
   },
   "outputs": [
    {
     "name": "stdout",
     "output_type": "stream",
     "text": [
      "==============================================================================================\n",
      "                                 coef    std err          t      P>|t|      [0.025      0.975]\n",
      "----------------------------------------------------------------------------------------------\n",
      "Intercept                      9.1319      0.074    124.040      0.000       8.988       9.276\n",
      "car_type[T.coupe]             -0.1391      0.074     -1.874      0.061      -0.285       0.006\n",
      "car_type[T.estate]            -0.3372      0.068     -4.941      0.000      -0.471      -0.203\n",
      "car_type[T.hatchback]         -0.1388      0.068     -2.048      0.041      -0.272      -0.006\n",
      "car_type[T.sedan]             -0.1595      0.068     -2.344      0.019      -0.293      -0.026\n",
      "car_type[T.subcompact]        -0.1023      0.078     -1.304      0.192      -0.256       0.051\n",
      "car_type[T.suv]               -0.1826      0.090     -2.024      0.043      -0.359      -0.006\n",
      "car_type[T.van]               -0.3716      0.126     -2.941      0.003      -0.619      -0.124\n",
      "feature_1[T.True]              0.0769      0.014      5.367      0.000       0.049       0.105\n",
      "feature_2[T.True]              0.0998      0.018      5.505      0.000       0.064       0.135\n",
      "feature_4[T.True]              0.0962      0.020      4.820      0.000       0.057       0.135\n",
      "feature_5[T.True]              0.0811      0.014      5.682      0.000       0.053       0.109\n",
      "feature_6[T.True]              0.0788      0.015      5.171      0.000       0.049       0.109\n",
      "feature_7[T.True]              0.1479      0.028      5.295      0.000       0.093       0.203\n",
      "feature_8[T.True]              0.0913      0.015      6.067      0.000       0.062       0.121\n",
      "model[T.2 series]              0.2034      0.118      1.730      0.084      -0.027       0.434\n",
      "model[T.3 series]              0.1822      0.033      5.584      0.000       0.118       0.246\n",
      "model[T.4 series]              0.3143      0.055      5.727      0.000       0.207       0.422\n",
      "model[T.5 series]              0.3255      0.037      8.793      0.000       0.253       0.398\n",
      "model[T.6 series]              0.3195      0.087      3.673      0.000       0.149       0.490\n",
      "model[T.7 series]              0.4655      0.068      6.847      0.000       0.332       0.599\n",
      "model[T.Other]                 0.3577      0.082      4.365      0.000       0.197       0.518\n",
      "norm(age)                     -0.2031      0.012    -17.624      0.000      -0.226      -0.180\n",
      "np.power(norm(age), 2)        -0.0360      0.003    -12.405      0.000      -0.042      -0.030\n",
      "norm(mileage)                 -0.1406      0.008    -17.611      0.000      -0.156      -0.125\n",
      "np.power(norm(mileage), 2)     0.0064      0.002      3.707      0.000       0.003       0.010\n",
      "norm(engine_power)             0.1510      0.009     16.634      0.000       0.133       0.169\n",
      "============================================================================================== \n",
      " Notes:\n",
      "[1] Standard Errors assume that the covariance matrix of the errors is correctly specified.\n"
     ]
    },
    {
     "data": {
      "text/html": [
       "<div>\n",
       "<style scoped>\n",
       "    .dataframe tbody tr th:only-of-type {\n",
       "        vertical-align: middle;\n",
       "    }\n",
       "\n",
       "    .dataframe tbody tr th {\n",
       "        vertical-align: top;\n",
       "    }\n",
       "\n",
       "    .dataframe thead th {\n",
       "        text-align: right;\n",
       "    }\n",
       "</style>\n",
       "<table border=\"1\" class=\"dataframe\">\n",
       "  <thead>\n",
       "    <tr style=\"text-align: right;\">\n",
       "      <th></th>\n",
       "      <th>VIF</th>\n",
       "    </tr>\n",
       "  </thead>\n",
       "  <tbody>\n",
       "    <tr>\n",
       "      <th>norm(age)</th>\n",
       "      <td>3.657385</td>\n",
       "    </tr>\n",
       "    <tr>\n",
       "      <th>norm(mileage)</th>\n",
       "      <td>1.755274</td>\n",
       "    </tr>\n",
       "    <tr>\n",
       "      <th>norm(engine_power)</th>\n",
       "      <td>2.270638</td>\n",
       "    </tr>\n",
       "  </tbody>\n",
       "</table>\n",
       "</div>"
      ],
      "text/plain": [
       "                         VIF\n",
       "norm(age)           3.657385\n",
       "norm(mileage)       1.755274\n",
       "norm(engine_power)  2.270638"
      ]
     },
     "execution_count": 67,
     "metadata": {},
     "output_type": "execute_result"
    }
   ],
   "source": [
    "def norm(x):\n",
    "    return (x-x.mean())/x.std()\n",
    "\n",
    "formula_n = '''\n",
    "np.log(price) ~ norm(age) + np.power(norm(age),2) + norm(mileage) + np.power(norm(mileage),2) +\n",
    "norm(engine_power) + car_type + feature_1 + feature_2 + feature_4 + feature_5 + feature_6 +\n",
    "feature_7 + feature_8 + model\n",
    "''' \n",
    "ols_norm = smf.ols(formula=formula_n, data=df, subset=train_idx)\n",
    "res_norm = ols_norm.fit()\n",
    "summary = res_norm.summary()\n",
    "print(summary.tables[1],'\\n',summary.extra_txt)\n",
    "vif_test(ols_norm, [22,24,26])"
   ]
  },
  {
   "cell_type": "markdown",
   "id": "77efe7c5",
   "metadata": {
    "papermill": {
     "duration": 26.769856,
     "end_time": "2021-11-15T19:58:16.946820",
     "exception": false,
     "start_time": "2021-11-15T19:57:50.176964",
     "status": "completed"
    },
    "tags": []
   },
   "source": [
    "**Conclusion**: normalizing data has fixed the condition number and improved the significance of the `age` coefficient. It also reduced its VIF number below 5 which is within the normal range"
   ]
  },
  {
   "cell_type": "code",
   "execution_count": 68,
   "id": "e18b9b4e",
   "metadata": {
    "execution": {
     "iopub.execute_input": "2021-11-15T19:59:10.264082Z",
     "iopub.status.busy": "2021-11-15T19:59:10.263409Z",
     "iopub.status.idle": "2021-11-15T19:59:10.295098Z",
     "shell.execute_reply": "2021-11-15T19:59:10.295999Z"
    },
    "papermill": {
     "duration": 26.733923,
     "end_time": "2021-11-15T19:59:10.296278",
     "exception": false,
     "start_time": "2021-11-15T19:58:43.562355",
     "status": "completed"
    },
    "tags": []
   },
   "outputs": [
    {
     "name": "stdout",
     "output_type": "stream",
     "text": [
      "R-squared: 0.81\n"
     ]
    }
   ],
   "source": [
    "# Testing R2\n",
    "pred(res_norm, x=df_test, y=df_test.price, log=True)"
   ]
  },
  {
   "cell_type": "markdown",
   "id": "13543455",
   "metadata": {
    "papermill": {
     "duration": 26.57136,
     "end_time": "2021-11-15T20:00:03.733591",
     "exception": false,
     "start_time": "2021-11-15T19:59:37.162231",
     "status": "completed"
    },
    "tags": []
   },
   "source": [
    "### 4.1.4 Autocorrelation\n",
    "Serial or autocorrelation is when error terms are correlated with a lagged version of themselves. In this case the covariance matrix remains diagonal with $\\sigma$ but the $Cov(\\epsilon_i,\\epsilon_j) \\neq 0$  \n",
    "The consequences of this are:\n",
    "- OLS estimators are not efficient (do not minimize the loss function) \n",
    "- The variances of the estimators are biased and inconsistent\n",
    "- Invalid *t-statistics* of OLS estimators (i.e. wrong p-values)\n",
    "\n",
    "However, the estimators themselves remain unbiased (i.e. the distance between expected and true values)   \n",
    "\n",
    "The **General approach** to deal with autocorrelation usually follows the below steps:   \n",
    "\n",
    "1. Assume the true model is $Y=\\beta.X+\\epsilon$\n",
    "2. Create a new model using OLS residuals. For example, the residual auxiliary regression in the Breusch-Godfrey test includes the explanatory variables from the original model and n lagged residuals: \n",
    "$$\\hat{\\epsilon_i}^2 = \\alpha_0 + \\alpha_1X_{1,i}+\\dots +\\alpha_k X_{k,i}+\\rho_1 \\hat{\\epsilon}_{i-1}^2+\\rho_2 \\hat{\\epsilon}_{i-2}^2+\\dots+ \\rho_p \\hat{\\epsilon}_{i-p}^2 + \\mu_t$$\n",
    "3. Test the null hypothesis that the residuals are serially correlated using OLS residual auxiliary regression:\n",
    "$$H_0: \\rho_1=\\rho_2=\\dots=\\rho_p=0$$\n",
    "4. If we fail to reject the null hypothesis -> use the usual OLS estimators from step 1.\n",
    "5. If we reject the null hypothesis there are three ways to go about it:  \n",
    "    a. Continue to use the OLS estimators but correct their variance (i.e. make them consistent)  \n",
    "    b. Instead of OLS, use FGLS (and its variations).  \n",
    "    c. Specify a different model that, hopefully, accounts for serial correlation\n",
    "\n",
    "#### 4.1.4.1 How to detect it:\n",
    "We start with a residual correlogram plot, and if it didn't show clear relation we move to numerical tests. The most common of which are **Durbin-Watson** and **Breusch-Godfrey** tests. Both assume no serial correlation at $\\alpha$ level"
   ]
  },
  {
   "cell_type": "code",
   "execution_count": 69,
   "id": "ad07e273",
   "metadata": {
    "execution": {
     "iopub.execute_input": "2021-11-15T20:00:57.228599Z",
     "iopub.status.busy": "2021-11-15T20:00:57.227650Z",
     "iopub.status.idle": "2021-11-15T20:00:57.454563Z",
     "shell.execute_reply": "2021-11-15T20:00:57.453881Z"
    },
    "papermill": {
     "duration": 26.906345,
     "end_time": "2021-11-15T20:00:57.454877",
     "exception": true,
     "start_time": "2021-11-15T20:00:30.548532",
     "status": "failed"
    },
    "tags": []
   },
   "outputs": [
    {
     "data": {
      "image/png": "[encoded data removed]",
      "text/plain": [
       "<Figure size 576x288 with 1 Axes>"
      ]
     },
     "metadata": {
      "needs_background": "light"
     },
     "output_type": "display_data"
    }
   ],
   "source": [
    "# There is a built in fuction in statsmodel and another in pandas plotting\n",
    "fig = plt.figure(figsize=(8,4))\n",
    "plot_acf(res_norm.resid, lags=25, zero=False, ax=fig.add_subplot(111));\n",
    "plt.show()"
   ]
  },
  {
   "cell_type": "code",
   "execution_count": 70,
   "id": "9c8c7a4d",
   "metadata": {
    "papermill": {
     "duration": null,
     "end_time": null,
     "exception": null,
     "start_time": null,
     "status": "pending"
    },
    "tags": []
   },
   "outputs": [
    {
     "data": {
      "text/html": [
       "<div>\n",
       "<style scoped>\n",
       "    .dataframe tbody tr th:only-of-type {\n",
       "        vertical-align: middle;\n",
       "    }\n",
       "\n",
       "    .dataframe tbody tr th {\n",
       "        vertical-align: top;\n",
       "    }\n",
       "\n",
       "    .dataframe thead th {\n",
       "        text-align: right;\n",
       "    }\n",
       "</style>\n",
       "<table border=\"1\" class=\"dataframe\">\n",
       "  <thead>\n",
       "    <tr style=\"text-align: right;\">\n",
       "      <th></th>\n",
       "      <th>Breusch-Godfrey</th>\n",
       "    </tr>\n",
       "  </thead>\n",
       "  <tbody>\n",
       "    <tr>\n",
       "      <th>LM-stat</th>\n",
       "      <td>12.049052</td>\n",
       "    </tr>\n",
       "    <tr>\n",
       "      <th>LM:p-value</th>\n",
       "      <td>0.914377</td>\n",
       "    </tr>\n",
       "    <tr>\n",
       "      <th>F-stat</th>\n",
       "      <td>0.596623</td>\n",
       "    </tr>\n",
       "    <tr>\n",
       "      <th>F:p-value</th>\n",
       "      <td>0.918039</td>\n",
       "    </tr>\n",
       "  </tbody>\n",
       "</table>\n",
       "</div>"
      ],
      "text/plain": [
       "            Breusch-Godfrey\n",
       "LM-stat           12.049052\n",
       "LM:p-value         0.914377\n",
       "F-stat             0.596623\n",
       "F:p-value          0.918039"
      ]
     },
     "execution_count": 70,
     "metadata": {},
     "output_type": "execute_result"
    }
   ],
   "source": [
    "names = ['LM-stat','LM:p-value','F-stat','F:p-value']\n",
    "pd.DataFrame(diagnostic.acorr_breusch_godfrey(res_norm, nlags=20), index=names, columns=['Breusch-Godfrey'])"
   ]
  },
  {
   "cell_type": "code",
   "execution_count": 71,
   "id": "4f31a863",
   "metadata": {
    "papermill": {
     "duration": null,
     "end_time": null,
     "exception": null,
     "start_time": null,
     "status": "pending"
    },
    "tags": []
   },
   "outputs": [
    {
     "data": {
      "text/plain": [
       "2.022144318406277"
      ]
     },
     "execution_count": 71,
     "metadata": {},
     "output_type": "execute_result"
    }
   ],
   "source": [
    "# Durbin Watson:\n",
    "from statsmodels.stats.stattools import durbin_watson\n",
    "durbin_watson(res_norm.resid)"
   ]
  },
  {
   "cell_type": "markdown",
   "id": "8d01da0d",
   "metadata": {
    "papermill": {
     "duration": null,
     "end_time": null,
     "exception": null,
     "start_time": null,
     "status": "pending"
    },
    "tags": []
   },
   "source": [
    "**Conclusion** examining the correlogram plot, BG and DW number, shows no signs of autocorrelation in our residuals at the 20th lag\n",
    "\n"
   ]
  },
  {
   "cell_type": "markdown",
   "id": "51e27e5b",
   "metadata": {
    "papermill": {
     "duration": null,
     "end_time": null,
     "exception": null,
     "start_time": null,
     "status": "pending"
    },
    "tags": []
   },
   "source": [
    "# Appendex\n",
    "Here are some important definitions and explanations of regression outputs often used in statistical analysis.\n",
    "\n",
    "#### Bias of Estimator\n",
    "Bias is a measure of the difference between the estimator's expected and true values. As such, a biased estimator is one with coefficients that are very different from the true values \n",
    "\n",
    "#### Efficiency of Estimator\n",
    "An efficient estimator is the 'best possible' estimator of the parameter of interest that minimizes the loss function. In linear regression, it's the parameter that provides the smallest variance.\n",
    "\n",
    "#### 7.1 R-squared\n",
    "R-squared/Adj.R-squared: 90.4% of the variability in the dependent variable is explained by the independent variables. This is high enough for the training set, but let's see how well the model deals with data it hasn't seen (test_set)\n",
    "Test R-squared at 90.5% is as high as train R-squared, which means the model generalizes well\n",
    "\n",
    "\n",
    "#### 7.2 F-statistic|Prob(F)\n",
    "It tests how well the independent variables as a group explain the variations in the dependent variable (i.e. tests the null hypothesis $H_0: \\beta_1=\\beta_2=\\dots \\beta_n=0$   \n",
    "P-value of F-statistic, or the probability of type I error (observation happening giving the null hypothesis is true)  \n",
    "In this case, F-statistic is very large and Prob(F) is zero, which is great!  \n",
    "\n",
    "#### 7.3 AIC:\n",
    "The Akaike Information Criterion (AIC) measures overfit. It rewards the model for goodness-of-fit and penalizes it if it became overly complicated.  \n",
    "AIC is useful when comparing models but very hard to interpret standalone!  \n",
    "\n",
    "#### 7.4 Omnibus/Prob(Omnibus):\n",
    "Tests the normality of the residuals. We hope to see a value close to zero for the Omnibus number and a value close to one for the Prob (Omnibus).\n",
    "**Omnibus: the closer to zero the better***  \n",
    "**Prob(Omnibus): The closer to one the better***  \n",
    "\n",
    "In this case, Omnibus is relatively high and the Prob (Omnibus) is relatively low so the data is far from normal. \n",
    "\n",
    "#### 7.5 Skew \n",
    "Measures data symmetry. We want to see something close to zero, indicating the residual distribution is normal. Note that this value also drives the Omnibus.  \n",
    "**The closer to zero the better***   \n",
    "\n",
    "#### 7.6 Kurtosis\n",
    "A measure of peakiness, or data curvature. Higher peaks lead to greater Kurtosis, and in the case of residuals, a greater Kurtosis means tighter clustering around zero, which implies a better model with few outliers.  \n",
    "**The higher the better**  \n",
    "\n",
    "#### 7.7 Durbin-Watson\n",
    "Tests for serial correlation. A value between 1.5 and 2.5 means there is no serial correlation. In this case, the number is within the acceptable range.  \n",
    "\n",
    "#### 7.8 Jarque-Bera (JB)/Prob(JB)\n",
    "Like the Omnibus test, it measures both skewness and kurtosis. We hope to see in this test confirmation of the Omnibus test.   \n",
    "\n",
    "#### 7.9 Condition Number\n",
    "Measures the sensitivity of a function's output as compared to its input. When we have multicollinearity, we can expect much higher fluctuations to small changes in the data, hence, we hope to see a relatively small number, something below 30.  \n",
    "**The smaller below 30 the better**\n",
    "\n",
    "\n",
    "Good reading on regression violations and how to correct them:  \n",
    "https://people.duke.edu/~rnau/testing.htm\n"
   ]
  },
  {
   "cell_type": "code",
   "execution_count": null,
   "id": "e3e8eba6",
   "metadata": {},
   "outputs": [],
   "source": []
  },
  {
   "cell_type": "code",
   "execution_count": null,
   "id": "809da841",
   "metadata": {},
   "outputs": [],
   "source": []
  }
 ],
 "metadata": {
  "kernelspec": {
   "display_name": "Python 3",
   "language": "python",
   "name": "python3"
  },
  "language_info": {
   "codemirror_mode": {
    "name": "ipython",
    "version": 3
   },
   "file_extension": ".py",
   "mimetype": "text/x-python",
   "name": "python",
   "nbconvert_exporter": "python",
   "pygments_lexer": "ipython3",
   "version": "3.9.6"
  },
  "papermill": {
   "default_parameters": {},
   "duration": 15039.087683,
   "end_time": "2021-11-15T20:01:25.439221",
   "environment_variables": {},
   "exception": true,
   "input_path": "__notebook__.ipynb",
   "output_path": "__notebook__.ipynb",
   "parameters": {},
   "start_time": "2021-11-15T15:50:46.351538",
   "version": "2.3.3"
  }
 },
 "nbformat": 4,
 "nbformat_minor": 5
}
