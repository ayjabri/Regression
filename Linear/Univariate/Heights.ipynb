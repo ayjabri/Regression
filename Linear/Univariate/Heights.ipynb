{
 "cells": [
  {
   "cell_type": "markdown",
   "id": "2c467eb9",
   "metadata": {},
   "source": [
    "# Children's Height \n",
    "\n",
    "The purpose of this notebook is to explore the relationship between the heights of adult children and the heights of their parents.  \n",
    "The table below gives data based on the famous 1885 study of Francis Galton exploring this relationship. Each case is an adult child, and the variables are\n",
    "\n",
    "- Family: The family that the child belongs to, labeled from 1 to 205.\n",
    "- Father: The father's height, in inches\n",
    "- Mother: The mother's height, in inches\n",
    "- Gender: The gender of the child, male (M) or female (F)\n",
    "- Height: The height of the child, in inches\n",
    "- Kids: The number of kids in the family of the child \n",
    "\n",
    "The data set has 898 cases. The family that we have labeled 205 was originally labeled 136A by Galton.  \n",
    "https://www.randomservices.org/random/data/Galton.html#"
   ]
  },
  {
   "cell_type": "code",
   "execution_count": 1,
   "id": "5a8970c8",
   "metadata": {},
   "outputs": [],
   "source": [
    "import pandas as pd\n",
    "import numpy as np\n",
    "import seaborn as sns\n",
    "import matplotlib.pyplot as plt\n",
    "import plotly.express as px\n",
    "import plotly.graph_objs as go\n",
    "import plotly.io as pio\n",
    "\n",
    "import statsmodels.api as sm\n",
    "import statsmodels.formula.api as smf\n",
    "from statsmodels.stats import anova, diagnostic\n",
    "\n",
    "from sklearn.metrics import r2_score\n",
    "from sklearn.model_selection import train_test_split\n",
    "\n",
    "%matplotlib inline"
   ]
  },
  {
   "cell_type": "code",
   "execution_count": 2,
   "id": "44307da4-26bb-4de3-ba7d-5e71a8ce41cc",
   "metadata": {},
   "outputs": [],
   "source": [
    "pio.templates.default = 'seaborn'\n",
    "pio.renderers.default='iframe'"
   ]
  },
  {
   "cell_type": "code",
   "execution_count": 3,
   "id": "04ed80fc",
   "metadata": {},
   "outputs": [
    {
     "data": {
      "text/html": [
       "<div>\n",
       "<style scoped>\n",
       "    .dataframe tbody tr th:only-of-type {\n",
       "        vertical-align: middle;\n",
       "    }\n",
       "\n",
       "    .dataframe tbody tr th {\n",
       "        vertical-align: top;\n",
       "    }\n",
       "\n",
       "    .dataframe thead th {\n",
       "        text-align: right;\n",
       "    }\n",
       "</style>\n",
       "<table border=\"1\" class=\"dataframe\">\n",
       "  <thead>\n",
       "    <tr style=\"text-align: right;\">\n",
       "      <th></th>\n",
       "      <th>Family</th>\n",
       "      <th>Father</th>\n",
       "      <th>Mother</th>\n",
       "      <th>Gender</th>\n",
       "      <th>Height</th>\n",
       "      <th>Kids</th>\n",
       "    </tr>\n",
       "  </thead>\n",
       "  <tbody>\n",
       "    <tr>\n",
       "      <th>0</th>\n",
       "      <td>1</td>\n",
       "      <td>78.5</td>\n",
       "      <td>67.0</td>\n",
       "      <td>M</td>\n",
       "      <td>73.2</td>\n",
       "      <td>4</td>\n",
       "    </tr>\n",
       "    <tr>\n",
       "      <th>1</th>\n",
       "      <td>1</td>\n",
       "      <td>78.5</td>\n",
       "      <td>67.0</td>\n",
       "      <td>F</td>\n",
       "      <td>69.2</td>\n",
       "      <td>4</td>\n",
       "    </tr>\n",
       "    <tr>\n",
       "      <th>2</th>\n",
       "      <td>1</td>\n",
       "      <td>78.5</td>\n",
       "      <td>67.0</td>\n",
       "      <td>F</td>\n",
       "      <td>69.0</td>\n",
       "      <td>4</td>\n",
       "    </tr>\n",
       "  </tbody>\n",
       "</table>\n",
       "</div>"
      ],
      "text/plain": [
       "   Family  Father  Mother Gender  Height  Kids\n",
       "0       1    78.5    67.0      M    73.2     4\n",
       "1       1    78.5    67.0      F    69.2     4\n",
       "2       1    78.5    67.0      F    69.0     4"
      ]
     },
     "execution_count": 3,
     "metadata": {},
     "output_type": "execute_result"
    }
   ],
   "source": [
    "path = '~/workspace/RegressionTests/lib/data/children_heights/Galtons Height Data.csv'\n",
    "\n",
    "data = pd.read_csv(path)\n",
    "data.head(3)"
   ]
  },
  {
   "cell_type": "markdown",
   "id": "8493c400-8a50-40aa-8775-3370a979fe4f",
   "metadata": {},
   "source": [
    "## 1. Scatter plot\n",
    "Let's start by scatter plotting the dependent variable $y$ and independent variables $x_i \\in (Family, Father, Mother, Gender, Kids)$.  \n",
    "Look for:  \n",
    "- What is the distribution of each?\n",
    "- Do they look correlated?\n",
    "- Formulate the mathmatical formula in your head\n",
    "- What do you expect the signs of the coefficients to be"
   ]
  },
  {
   "cell_type": "code",
   "execution_count": 4,
   "id": "abc69102-9203-46e6-96ba-e2daf64980cd",
   "metadata": {},
   "outputs": [
    {
     "data": {
      "text/html": [
       "<iframe\n",
       "    scrolling=\"no\"\n",
       "    width=\"920px\"\n",
       "    height=\"1020\"\n",
       "    src=\"iframe_figures/figure_4.html\"\n",
       "    frameborder=\"0\"\n",
       "    allowfullscreen\n",
       "></iframe>\n"
      ]
     },
     "metadata": {},
     "output_type": "display_data"
    }
   ],
   "source": [
    "fig = px.scatter_matrix(data, color='Gender', width=900,height=1000,\n",
    "                    title='Galtons Height Data from the 1800s',\n",
    "                    color_continuous_scale='turbid',\n",
    "                    hover_name='Family',\n",
    "                    template='plotly')\n",
    "fig.show()"
   ]
  },
  {
   "cell_type": "code",
   "execution_count": 5,
   "id": "f8f3d729-8601-4ae7-9ed2-c2826e53c1d6",
   "metadata": {},
   "outputs": [
    {
     "data": {
      "text/html": [
       "<iframe\n",
       "    scrolling=\"no\"\n",
       "    width=\"520px\"\n",
       "    height=\"520\"\n",
       "    src=\"iframe_figures/figure_5.html\"\n",
       "    frameborder=\"0\"\n",
       "    allowfullscreen\n",
       "></iframe>\n"
      ]
     },
     "metadata": {},
     "output_type": "display_data"
    }
   ],
   "source": [
    "#Correlation matrix\n",
    "\n",
    "# sns.heatmap(data.corr(),vmin=-1,vmax=1, annot=True,cmap='ocean');\n",
    "fig3 = px.imshow(data.corr(), zmin=-1, zmax=1,width=500,height=500, color_continuous_scale=['blue','red'])\n",
    "fig3.show()"
   ]
  },
  {
   "cell_type": "markdown",
   "id": "693b6e2c-5d8e-4ba2-b963-09ef2ee70d43",
   "metadata": {},
   "source": [
    "**Distribution of each variable**  \n",
    "**Fmaily:** appears to be uniformally distributed  \n",
    "**Father** heights are normal    \n",
    "**Mother** heights are semi normal  \n",
    "**Heights** (dependent) is normal across Genders  \n",
    "**Kids** appear to be concentrated around 5 and 8. Which is normal for the time at which the data was collected, but might not be relevent in the 21st century!  \n",
    "\n",
    "**Correlation**  \n",
    "From the scatter matrix, the dependent variable $Height$ seems to have small negative correlation with Family, a modest positive association with both Father and Mother. While the number of kids appears to have no effect.  \n",
    "The independent varialbe $Family$ has a very strong positive correlation with $Father$. This is probably because the data was sorted by Father's when Family numbers were assigned. That said, the information provided by this attribute can be derived from the combination of Father, Mother and Kids. That said, I'm not going to drop this column as of yet!  \n",
    "\n",
    "**Mathmatical Equation**  \n",
    "I don't see non-linearity between $y$ and any of $x_i$, so I expect the formula to be something like:\n",
    "$$Height = \\beta_0 - \\beta_1.Family + \\beta_2.Father + \\beta_3 . Mother -\\beta_4.Gender \\pm \\beta_5. Kids$$\n"
   ]
  },
  {
   "cell_type": "code",
   "execution_count": 6,
   "id": "cd52e782-2c17-4710-8567-5e3fa6acc781",
   "metadata": {},
   "outputs": [
    {
     "name": "stdout",
     "output_type": "stream",
     "text": [
      "[73.2 69.2 69.  69.  73.5] [[ 1.   1.  78.5 67.   1.   4. ]\n",
      " [ 1.   1.  78.5 67.   0.   4. ]\n",
      " [ 1.   1.  78.5 67.   0.   4. ]\n",
      " [ 1.   1.  78.5 67.   0.   4. ]\n",
      " [ 1.   2.  75.5 66.5  1.   4. ]]\n",
      "Coefficients:\n",
      " [ 2.71077000e+01 -6.16227794e-03  2.64727144e-01  3.04585048e-01\n",
      "  5.21649232e+00 -4.02221480e-02]\n"
     ]
    }
   ],
   "source": [
    "#Estimating coefficients manually\n",
    "df = data.drop(columns='Height')\n",
    "df.Gender,gender = df.Gender.factorize(True)\n",
    "df.insert(0,'const',1)\n",
    "y = data.Height.values\n",
    "x = df.values\n",
    "print(y[:5],x[:5])\n",
    "b = np.linalg.inv(x.T@x)@(x.T@y)\n",
    "print(\"Coefficients:\\n\",b)"
   ]
  },
  {
   "cell_type": "markdown",
   "id": "44aadc42-efab-45bf-842e-bc3d792f2c9d",
   "metadata": {},
   "source": [
    "The coefficients' signs are exactly what I expected!  \n",
    "\n",
    "**Standard Error of Coefficients**  \n",
    "Next step is calculate the standard error of $\\beta$ \n",
    "$$SE_{\\beta_i}=\\hat{\\sigma}^2.(X^TX)^{-1}$$"
   ]
  },
  {
   "cell_type": "code",
   "execution_count": 7,
   "id": "184bea64-693a-4dde-aee1-72847e747a72",
   "metadata": {},
   "outputs": [
    {
     "data": {
      "text/html": [
       "<div>\n",
       "<style scoped>\n",
       "    .dataframe tbody tr th:only-of-type {\n",
       "        vertical-align: middle;\n",
       "    }\n",
       "\n",
       "    .dataframe tbody tr th {\n",
       "        vertical-align: top;\n",
       "    }\n",
       "\n",
       "    .dataframe thead th {\n",
       "        text-align: right;\n",
       "    }\n",
       "</style>\n",
       "<table border=\"1\" class=\"dataframe\">\n",
       "  <thead>\n",
       "    <tr style=\"text-align: right;\">\n",
       "      <th></th>\n",
       "      <th>coef</th>\n",
       "      <th>se</th>\n",
       "    </tr>\n",
       "  </thead>\n",
       "  <tbody>\n",
       "    <tr>\n",
       "      <th>intercept</th>\n",
       "      <td>27.107700</td>\n",
       "      <td>8.011230</td>\n",
       "    </tr>\n",
       "    <tr>\n",
       "      <th>Family</th>\n",
       "      <td>-0.006162</td>\n",
       "      <td>0.004239</td>\n",
       "    </tr>\n",
       "    <tr>\n",
       "      <th>Father</th>\n",
       "      <td>0.264727</td>\n",
       "      <td>0.096495</td>\n",
       "    </tr>\n",
       "    <tr>\n",
       "      <th>Mother</th>\n",
       "      <td>0.304585</td>\n",
       "      <td>0.033138</td>\n",
       "    </tr>\n",
       "    <tr>\n",
       "      <th>Gender</th>\n",
       "      <td>5.216492</td>\n",
       "      <td>0.143881</td>\n",
       "    </tr>\n",
       "    <tr>\n",
       "      <th>Kids</th>\n",
       "      <td>-0.040222</td>\n",
       "      <td>0.027214</td>\n",
       "    </tr>\n",
       "  </tbody>\n",
       "</table>\n",
       "</div>"
      ],
      "text/plain": [
       "                coef        se\n",
       "intercept  27.107700  8.011230\n",
       "Family     -0.006162  0.004239\n",
       "Father      0.264727  0.096495\n",
       "Mother      0.304585  0.033138\n",
       "Gender      5.216492  0.143881\n",
       "Kids       -0.040222  0.027214"
      ]
     },
     "execution_count": 7,
     "metadata": {},
     "output_type": "execute_result"
    }
   ],
   "source": [
    "y_hat = x@b\n",
    "resid = y-y_hat\n",
    "cov_b = resid.var(ddof=2)*np.linalg.inv(x.T@x)\n",
    "se_b = np.sqrt(cov_b.diagonal())\n",
    "se_b = pd.DataFrame({\"coef\":b,\"se\":se_b}, index=['intercept','Family','Father','Mother','Gender','Kids'])\n",
    "se_b"
   ]
  },
  {
   "cell_type": "code",
   "execution_count": 8,
   "id": "9fcb106d-a05a-40b8-897e-b3306eb951ee",
   "metadata": {},
   "outputs": [
    {
     "data": {
      "text/html": [
       "<iframe\n",
       "    scrolling=\"no\"\n",
       "    width=\"520px\"\n",
       "    height=\"520\"\n",
       "    src=\"iframe_figures/figure_8.html\"\n",
       "    frameborder=\"0\"\n",
       "    allowfullscreen\n",
       "></iframe>\n"
      ]
     },
     "metadata": {},
     "output_type": "display_data"
    }
   ],
   "source": [
    "fig = px.scatter(x=y, y=y_hat, color=data.Gender,width=500,height=500, trendline='ols')\n",
    "fig.show()"
   ]
  },
  {
   "cell_type": "code",
   "execution_count": 18,
   "id": "8b918bcd-b3a6-42e0-972c-dc68a9b3dfd0",
   "metadata": {},
   "outputs": [
    {
     "data": {
      "text/html": [
       "<table class=\"simpletable\">\n",
       "<caption>OLS Regression Results</caption>\n",
       "<tr>\n",
       "  <th>Dep. Variable:</th>         <td>Height</td>      <th>  R-squared:         </th> <td>   0.642</td> \n",
       "</tr>\n",
       "<tr>\n",
       "  <th>Model:</th>                   <td>OLS</td>       <th>  Adj. R-squared:    </th> <td>   0.639</td> \n",
       "</tr>\n",
       "<tr>\n",
       "  <th>Method:</th>             <td>Least Squares</td>  <th>  F-statistic:       </th> <td>   227.7</td> \n",
       "</tr>\n",
       "<tr>\n",
       "  <th>Date:</th>             <td>Sat, 23 Oct 2021</td> <th>  Prob (F-statistic):</th> <td>1.96e-193</td>\n",
       "</tr>\n",
       "<tr>\n",
       "  <th>Time:</th>                 <td>09:56:21</td>     <th>  Log-Likelihood:    </th> <td> -1958.9</td> \n",
       "</tr>\n",
       "<tr>\n",
       "  <th>No. Observations:</th>      <td>   898</td>      <th>  AIC:               </th> <td>   3934.</td> \n",
       "</tr>\n",
       "<tr>\n",
       "  <th>Df Residuals:</th>          <td>   890</td>      <th>  BIC:               </th> <td>   3972.</td> \n",
       "</tr>\n",
       "<tr>\n",
       "  <th>Df Model:</th>              <td>     7</td>      <th>                     </th>     <td> </td>    \n",
       "</tr>\n",
       "<tr>\n",
       "  <th>Covariance Type:</th>      <td>nonrobust</td>    <th>                     </th>     <td> </td>    \n",
       "</tr>\n",
       "</table>\n",
       "<table class=\"simpletable\">\n",
       "<tr>\n",
       "            <td></td>               <th>coef</th>     <th>std err</th>      <th>t</th>      <th>P>|t|</th>  <th>[0.025</th>    <th>0.975]</th>  \n",
       "</tr>\n",
       "<tr>\n",
       "  <th>Intercept</th>             <td>   28.0416</td> <td>    8.322</td> <td>    3.369</td> <td> 0.001</td> <td>   11.708</td> <td>   44.375</td>\n",
       "</tr>\n",
       "<tr>\n",
       "  <th>C(Gender)[T.M]</th>        <td>    3.0364</td> <td>    5.539</td> <td>    0.548</td> <td> 0.584</td> <td>   -7.835</td> <td>   13.908</td>\n",
       "</tr>\n",
       "<tr>\n",
       "  <th>Family</th>                <td>   -0.0060</td> <td>    0.004</td> <td>   -1.411</td> <td> 0.159</td> <td>   -0.014</td> <td>    0.002</td>\n",
       "</tr>\n",
       "<tr>\n",
       "  <th>Father</th>                <td>    0.2635</td> <td>    0.098</td> <td>    2.681</td> <td> 0.007</td> <td>    0.071</td> <td>    0.456</td>\n",
       "</tr>\n",
       "<tr>\n",
       "  <th>C(Gender)[T.M]:Father</th> <td>    0.0078</td> <td>    0.059</td> <td>    0.131</td> <td> 0.896</td> <td>   -0.108</td> <td>    0.124</td>\n",
       "</tr>\n",
       "<tr>\n",
       "  <th>Mother</th>                <td>    0.2912</td> <td>    0.047</td> <td>    6.235</td> <td> 0.000</td> <td>    0.200</td> <td>    0.383</td>\n",
       "</tr>\n",
       "<tr>\n",
       "  <th>C(Gender)[T.M]:Mother</th> <td>    0.0256</td> <td>    0.063</td> <td>    0.408</td> <td> 0.683</td> <td>   -0.097</td> <td>    0.149</td>\n",
       "</tr>\n",
       "<tr>\n",
       "  <th>Kids</th>                  <td>   -0.0408</td> <td>    0.027</td> <td>   -1.489</td> <td> 0.137</td> <td>   -0.095</td> <td>    0.013</td>\n",
       "</tr>\n",
       "</table>\n",
       "<table class=\"simpletable\">\n",
       "<tr>\n",
       "  <th>Omnibus:</th>       <td>12.589</td> <th>  Durbin-Watson:     </th> <td>   1.573</td>\n",
       "</tr>\n",
       "<tr>\n",
       "  <th>Prob(Omnibus):</th> <td> 0.002</td> <th>  Jarque-Bera (JB):  </th> <td>  16.208</td>\n",
       "</tr>\n",
       "<tr>\n",
       "  <th>Skew:</th>          <td>-0.169</td> <th>  Prob(JB):          </th> <td>0.000302</td>\n",
       "</tr>\n",
       "<tr>\n",
       "  <th>Kurtosis:</th>      <td> 3.565</td> <th>  Cond. No.          </th> <td>1.85e+04</td>\n",
       "</tr>\n",
       "</table><br/><br/>Notes:<br/>[1] Standard Errors assume that the covariance matrix of the errors is correctly specified.<br/>[2] The condition number is large, 1.85e+04. This might indicate that there are<br/>strong multicollinearity or other numerical problems."
      ],
      "text/plain": [
       "<class 'statsmodels.iolib.summary.Summary'>\n",
       "\"\"\"\n",
       "                            OLS Regression Results                            \n",
       "==============================================================================\n",
       "Dep. Variable:                 Height   R-squared:                       0.642\n",
       "Model:                            OLS   Adj. R-squared:                  0.639\n",
       "Method:                 Least Squares   F-statistic:                     227.7\n",
       "Date:                Sat, 23 Oct 2021   Prob (F-statistic):          1.96e-193\n",
       "Time:                        09:56:21   Log-Likelihood:                -1958.9\n",
       "No. Observations:                 898   AIC:                             3934.\n",
       "Df Residuals:                     890   BIC:                             3972.\n",
       "Df Model:                           7                                         \n",
       "Covariance Type:            nonrobust                                         \n",
       "=========================================================================================\n",
       "                            coef    std err          t      P>|t|      [0.025      0.975]\n",
       "-----------------------------------------------------------------------------------------\n",
       "Intercept                28.0416      8.322      3.369      0.001      11.708      44.375\n",
       "C(Gender)[T.M]            3.0364      5.539      0.548      0.584      -7.835      13.908\n",
       "Family                   -0.0060      0.004     -1.411      0.159      -0.014       0.002\n",
       "Father                    0.2635      0.098      2.681      0.007       0.071       0.456\n",
       "C(Gender)[T.M]:Father     0.0078      0.059      0.131      0.896      -0.108       0.124\n",
       "Mother                    0.2912      0.047      6.235      0.000       0.200       0.383\n",
       "C(Gender)[T.M]:Mother     0.0256      0.063      0.408      0.683      -0.097       0.149\n",
       "Kids                     -0.0408      0.027     -1.489      0.137      -0.095       0.013\n",
       "==============================================================================\n",
       "Omnibus:                       12.589   Durbin-Watson:                   1.573\n",
       "Prob(Omnibus):                  0.002   Jarque-Bera (JB):               16.208\n",
       "Skew:                          -0.169   Prob(JB):                     0.000302\n",
       "Kurtosis:                       3.565   Cond. No.                     1.85e+04\n",
       "==============================================================================\n",
       "\n",
       "Notes:\n",
       "[1] Standard Errors assume that the covariance matrix of the errors is correctly specified.\n",
       "[2] The condition number is large, 1.85e+04. This might indicate that there are\n",
       "strong multicollinearity or other numerical problems.\n",
       "\"\"\""
      ]
     },
     "execution_count": 18,
     "metadata": {},
     "output_type": "execute_result"
    }
   ],
   "source": [
    "# Verify results using statsmodels library\n",
    "ols = smf.ols('Height~Family+Father+Mother+C(Gender)*Father+ C(Gender)*Mother+Kids', data=data)\n",
    "res = ols.fit()\n",
    "pred = res.predict()\n",
    "res.summary()"
   ]
  },
  {
   "cell_type": "markdown",
   "id": "1d7f7eab-a679-435b-8cdd-958c08578f86",
   "metadata": {},
   "source": [
    "**Conclusion** by comparing the results of the two approaches, I noticed that while the coefficients are exactly the same, the intercept is different. However, this has negligable effect on predictions as the plot below shows  \n"
   ]
  },
  {
   "cell_type": "code",
   "execution_count": 19,
   "id": "69cf6544-3a96-4e0f-8d4b-0e821daffed6",
   "metadata": {},
   "outputs": [
    {
     "data": {
      "image/png": "[encoded data removed]",
      "text/plain": [
       "<Figure size 504x432 with 1 Axes>"
      ]
     },
     "metadata": {
      "needs_background": "light"
     },
     "output_type": "display_data"
    }
   ],
   "source": [
    "difference = (pred - y_hat).sum()\n",
    "fig = plt.figure(figsize=(7,6))\n",
    "plt.scatter(y_hat, pred)\n",
    "plt.xlabel(r'Manual $\\hat{y}$')\n",
    "plt.ylabel(r'Package $\\hat{y}$')\n",
    "plt.text(y_hat.min()+2, y_hat.min(),f'$\\Delta_y$={difference:.3e}');"
   ]
  },
  {
   "cell_type": "markdown",
   "id": "b0ddbd20-1d36-43ff-889f-b935ce6d28e8",
   "metadata": {},
   "source": [
    "### Examine the run-sequence plot:\n"
   ]
  },
  {
   "cell_type": "code",
   "execution_count": 20,
   "id": "5e13ca84-04b7-420a-bf28-d4d240ee67ad",
   "metadata": {},
   "outputs": [],
   "source": [
    "#First we need to sort the data by one of x variables. I'm going to sort by Father\n",
    "sort = np.argsort(x[:,2])"
   ]
  },
  {
   "cell_type": "code",
   "execution_count": 21,
   "id": "821ac4c7-0dd8-457a-a11e-fb550b936b81",
   "metadata": {},
   "outputs": [
    {
     "data": {
      "text/plain": [
       "[<matplotlib.lines.Line2D at 0x7f8ff606db20>]"
      ]
     },
     "execution_count": 21,
     "metadata": {},
     "output_type": "execute_result"
    },
    {
     "data": {
      "image/png": "[encoded data removed]",
      "text/plain": [
       "<Figure size 432x288 with 1 Axes>"
      ]
     },
     "metadata": {
      "needs_background": "light"
     },
     "output_type": "display_data"
    }
   ],
   "source": [
    "plt.plot(y[sort], 'bo')"
   ]
  },
  {
   "cell_type": "code",
   "execution_count": 22,
   "id": "4f4c0c7a-2db5-4e2b-baa3-67841688d925",
   "metadata": {},
   "outputs": [
    {
     "data": {
      "text/html": [
       "<iframe\n",
       "    scrolling=\"no\"\n",
       "    width=\"820px\"\n",
       "    height=\"520\"\n",
       "    src=\"iframe_figures/figure_22.html\"\n",
       "    frameborder=\"0\"\n",
       "    allowfullscreen\n",
       "></iframe>\n"
      ]
     },
     "metadata": {},
     "output_type": "display_data"
    }
   ],
   "source": [
    "import plotly.express as px\n",
    "\n",
    "fig = px.scatter_3d(data,x='Father',y='Mother',z='Height',hover_name='Kids',size=y_hat, color='Gender', width=800,height=500)\n",
    "fig.show()"
   ]
  },
  {
   "cell_type": "code",
   "execution_count": 23,
   "id": "1059d228-ecb6-41a5-abdc-94b231d73026",
   "metadata": {},
   "outputs": [
    {
     "data": {
      "text/html": [
       "<iframe\n",
       "    scrolling=\"no\"\n",
       "    width=\"100%\"\n",
       "    height=\"545px\"\n",
       "    src=\"iframe_figures/figure_23.html\"\n",
       "    frameborder=\"0\"\n",
       "    allowfullscreen\n",
       "></iframe>\n"
      ]
     },
     "metadata": {},
     "output_type": "display_data"
    }
   ],
   "source": [
    "fig2 = px.box(data, x=['Father','Mother','Height'],facet_col='Gender')\n",
    "fig2.show()"
   ]
  },
  {
   "cell_type": "markdown",
   "id": "67768940-3fb5-4815-bf8d-507aa0894c3c",
   "metadata": {},
   "source": [
    "List of named colors in Plotly:\n",
    "aliceblue, antiquewhite, aqua, aquamarine, azure,\n",
    "            beige, bisque, black, blanchedalmond, blue,\n",
    "            blueviolet, brown, burlywood, cadetblue,\n",
    "            chartreuse, chocolate, coral, cornflowerblue,\n",
    "            cornsilk, crimson, cyan, darkblue, darkcyan,\n",
    "            darkgoldenrod, darkgray, darkgrey, darkgreen,\n",
    "            darkkhaki, darkmagenta, darkolivegreen, darkorange,\n",
    "            darkorchid, darkred, darksalmon, darkseagreen,\n",
    "            darkslateblue, darkslategray, darkslategrey,\n",
    "            darkturquoise, darkviolet, deeppink, deepskyblue,\n",
    "            dimgray, dimgrey, dodgerblue, firebrick,\n",
    "            floralwhite, forestgreen, fuchsia, gainsboro,\n",
    "            ghostwhite, gold, goldenrod, gray, grey, green,\n",
    "            greenyellow, honeydew, hotpink, indianred, indigo,\n",
    "            ivory, khaki, lavender, lavenderblush, lawngreen,\n",
    "            lemonchiffon, lightblue, lightcoral, lightcyan,\n",
    "            lightgoldenrodyellow, lightgray, lightgrey,\n",
    "            lightgreen, lightpink, lightsalmon, lightseagreen,\n",
    "            lightskyblue, lightslategray, lightslategrey,\n",
    "            lightsteelblue, lightyellow, lime, limegreen,\n",
    "            linen, magenta, maroon, mediumaquamarine,\n",
    "            mediumblue, mediumorchid, mediumpurple,\n",
    "            mediumseagreen, mediumslateblue, mediumspringgreen,\n",
    "            mediumturquoise, mediumvioletred, midnightblue,\n",
    "            mintcream, mistyrose, moccasin, navajowhite, navy,\n",
    "            oldlace, olive, olivedrab, orange, orangered,\n",
    "            orchid, palegoldenrod, palegreen, paleturquoise,\n",
    "            palevioletred, papayawhip, peachpuff, peru, pink,\n",
    "            plum, powderblue, purple, red, rosybrown,\n",
    "            royalblue, rebeccapurple, saddlebrown, salmon,\n",
    "            sandybrown, seagreen, seashell, sienna, silver,\n",
    "            skyblue, slateblue, slategray, slategrey, snow,\n",
    "            springgreen, steelblue, tan, teal, thistle, tomato,\n",
    "            turquoise, violet, wheat, white, whitesmoke,\n",
    "            yellow, yellowgreen"
   ]
  },
  {
   "cell_type": "code",
   "execution_count": null,
   "id": "525fc2d8-726f-4ce1-a91c-e34621755eb9",
   "metadata": {},
   "outputs": [],
   "source": []
  },
  {
   "cell_type": "code",
   "execution_count": null,
   "id": "e1eea05c-0c95-4979-b5d4-232a5aee9ef3",
   "metadata": {},
   "outputs": [],
   "source": [
    "pd.value_counts(df.loc[test_idx].Gender)"
   ]
  },
  {
   "cell_type": "code",
   "execution_count": null,
   "id": "e153f274-fccc-441a-9cc7-ba545c5d86d5",
   "metadata": {},
   "outputs": [],
   "source": [
    "fig = px.scatter_matrix(df.loc[train_idx], dimensions=['Father','Mother','Height','Gender','Kids'], color='Gender', width=800,height=800)\n",
    "fig.show()"
   ]
  },
  {
   "cell_type": "markdown",
   "id": "436ff9c8-d5c7-4b72-a50f-0e73a814830e",
   "metadata": {},
   "source": [
    "I don't see any non-linear relationship between y and x. However, I'm going to specify multiple models to see which one produces best results:  \n",
    "1. $H = \\beta_0 + \\beta_1.F + \\beta_2.M \\pm \\beta_3.G \\pm \\beta_4.K$\n",
    "2. $H = \\beta_0 + \\beta_1.F + \\beta_2.M + \\beta_3.(G.F.M) \\pm \\beta_4.K$"
   ]
  },
  {
   "cell_type": "code",
   "execution_count": null,
   "id": "5381ab28-a817-4f82-84e4-bc038104ff62",
   "metadata": {},
   "outputs": [],
   "source": [
    "formuals =['Height~Father+Mother+C(Gender)+Kids','Height~Father+Mother+C(Gender)*Father*Mother+Kids','Height~np.log(Father)+Mother+C(Gender)']\n",
    "for f in formuals:\n",
    "    res = smf.ols(formula=f, data=df.loc[train_idx]).fit()\n",
    "    print(\"Training Adj.R^2\", res.rsquared_adj)\n",
    "    print(\"Test Adj.R^2\", r2_score(df.loc[test_idx].Height,res.predict(df.loc[test_idx])), '\\n')"
   ]
  },
  {
   "cell_type": "code",
   "execution_count": null,
   "id": "cb775713-d044-4df5-a4e1-010f7d5c122d",
   "metadata": {},
   "outputs": [],
   "source": [
    "df['split'] = np.where(df.index.isin(train_idx), 'train','test')\n",
    "res = smf.ols(formula=formuals[1], data=df.loc[train_idx]).fit()\n",
    "resid = res.resid\n",
    "p = res.get_prediction(df)\n",
    "pred = p.summary_frame()\n",
    "y_hat = pred['mean']\n",
    "sort = df.Father.sort_values().index"
   ]
  },
  {
   "cell_type": "code",
   "execution_count": null,
   "id": "971a2879-79f1-4425-9b4b-a9a7b4af72c7",
   "metadata": {},
   "outputs": [],
   "source": [
    "male = df.Gender=='M'\n",
    "\n",
    "fig = px.scatter(df, x='Father',y='Height',color='Gender', symbol='split', width=800,height=500)\n",
    "mLine = go.Scatter(x=df.Father.loc[sort][male], y=y_hat.loc[sort][male], mode='lines', name='Male Fit')\n",
    "fLine = go.Scatter(x=df.Father.loc[sort][~male], y=y_hat.loc[sort][~male], mode='lines', name='Female Fit')\n",
    "mUb = go.Scatter(x=df.Father.loc[sort][~male])\n",
    "fig.add_traces([mLine, fLine])\n",
    "fig.show()"
   ]
  },
  {
   "cell_type": "code",
   "execution_count": null,
   "id": "3c4fc949-0a88-44cb-b4bf-05a8277fcef2",
   "metadata": {},
   "outputs": [],
   "source": [
    "p = res.get_prediction(df)"
   ]
  },
  {
   "cell_type": "code",
   "execution_count": null,
   "id": "74e26087-7000-458c-acce-f210e379ab70",
   "metadata": {},
   "outputs": [],
   "source": [
    "p.conf_int()"
   ]
  },
  {
   "cell_type": "code",
   "execution_count": null,
   "id": "f3687dfd-3963-472c-a3b9-15ec75c34e43",
   "metadata": {},
   "outputs": [],
   "source": [
    "pio.templates"
   ]
  },
  {
   "cell_type": "code",
   "execution_count": null,
   "id": "e0fb5c94",
   "metadata": {},
   "outputs": [],
   "source": []
  }
 ],
 "metadata": {
  "kernelspec": {
   "display_name": "Python 3",
   "language": "python",
   "name": "python3"
  },
  "language_info": {
   "codemirror_mode": {
    "name": "ipython",
    "version": 3
   },
   "file_extension": ".py",
   "mimetype": "text/x-python",
   "name": "python",
   "nbconvert_exporter": "python",
   "pygments_lexer": "ipython3",
   "version": "3.9.6"
  }
 },
 "nbformat": 4,
 "nbformat_minor": 5
}
